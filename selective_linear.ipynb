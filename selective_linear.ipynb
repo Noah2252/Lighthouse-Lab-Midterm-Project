{
 "cells": [
  {
   "cell_type": "code",
   "execution_count": 1,
   "metadata": {},
   "outputs": [],
   "source": [
    "import numpy as np\n",
    "import pandas as pd\n",
    "import sklearn.linear_model as lm\n",
    "import sklearn.preprocessing as pre\n",
    "import sklearn.model_selection as ms\n",
    "import matplotlib.pyplot as plt\n",
    "import seaborn as sns\n",
    "\n",
    "import harness\n",
    "\n",
    "np.warnings.filterwarnings('ignore', 'Ill-conditioned matrix')"
   ]
  },
  {
   "cell_type": "code",
   "execution_count": 2,
   "metadata": {},
   "outputs": [],
   "source": [
    "flights_train = pd.read_csv('data/flights_train.csv', index_col=0)\n",
    "flights_test = pd.read_csv('data/flights_test.csv', index_col=0)"
   ]
  },
  {
   "cell_type": "code",
   "execution_count": 3,
   "metadata": {},
   "outputs": [],
   "source": [
    "flights_clean = harness.clean_train(flights_train)"
   ]
  },
  {
   "cell_type": "code",
   "execution_count": 4,
   "metadata": {},
   "outputs": [],
   "source": [
    "add_features = harness.chain(\n",
    "    harness.add_date_parts, harness.add_haul, harness.add_weather\n",
    ")"
   ]
  },
  {
   "cell_type": "code",
   "execution_count": 5,
   "metadata": {},
   "outputs": [],
   "source": [
    "flights_with_features = add_features(flights_clean)"
   ]
  },
  {
   "cell_type": "code",
   "execution_count": 6,
   "metadata": {},
   "outputs": [],
   "source": [
    "x_transform = harness.chain(\n",
    "    harness.keep_only_test_columns,\n",
    "    add_features,\n",
    "    [harness.add_all_grouped_stats, flights_with_features],\n",
    "    harness.only_numeric,\n",
    "    harness.scale,\n",
    ")"
   ]
  },
  {
   "cell_type": "code",
   "execution_count": 7,
   "metadata": {},
   "outputs": [],
   "source": [
    "transformer = harness.DataTransformer(\n",
    "    x_transform\n",
    ")"
   ]
  },
  {
   "cell_type": "code",
   "execution_count": 8,
   "metadata": {},
   "outputs": [],
   "source": [
    "x_train, y_train = transformer.extract_transform(flights_clean)"
   ]
  },
  {
   "cell_type": "code",
   "execution_count": 9,
   "metadata": {},
   "outputs": [
    {
     "name": "stdout",
     "output_type": "stream",
     "text": [
      "mkt_carrier_fl_num: 0.023963900305549516\n",
      "op_carrier_fl_num: 0.02395769578405239\n",
      "origin_airport_id: -0.005997932602719233\n",
      "dest_airport_id: 0.0007424099189047536\n",
      "crs_dep_time: 0.08637986895272749\n",
      "crs_arr_time: 0.08219644379892319\n",
      "crs_elapsed_time: -0.013246107998264726\n",
      "distance: -0.013977561031507506\n",
      "month: -0.009568192910723715\n",
      "day: -0.002978776834534093\n",
      "conditions_origin_delay_mean: 0.006186058477773413\n",
      "conditions_origin_delay_median: 0.0015374499986399494\n",
      "conditions_origin_delay_std: 0.004995596611660653\n",
      "conditions_origin_delay_min: 7.787678155685687e-05\n",
      "conditions_origin_delay_max: 0.0013206388078668193\n",
      "conditions_dest_delay_mean: 0.005532395984095111\n",
      "conditions_dest_delay_median: 0.003014266506759366\n",
      "conditions_dest_delay_std: 0.003409825992345906\n",
      "conditions_dest_delay_min: -0.0020022489136836603\n",
      "conditions_dest_delay_max: 0.0007614044066044503\n",
      "weather_origin_delay_mean: 0.002438233137473263\n",
      "weather_origin_delay_median: -0.0005912567798371375\n",
      "weather_origin_delay_std: 0.001706847195620491\n",
      "weather_origin_delay_min: 0.00023447761932976076\n",
      "weather_origin_delay_max: 0.00028911230673431065\n",
      "weather_dest_delay_mean: 0.004544863650748177\n",
      "weather_dest_delay_median: 0.0038246840193873486\n",
      "weather_dest_delay_std: 0.003813761304183974\n",
      "weather_dest_delay_min: -0.0017648015516499806\n",
      "weather_dest_delay_max: 0.0003179959569083339\n",
      "origin_city_name_delay_mean: 0.09267448838029156\n",
      "origin_city_name_delay_median: 0.04897169405911129\n",
      "origin_city_name_delay_std: 0.06874010104255635\n",
      "origin_city_name_delay_min: 0.01090866976747125\n",
      "origin_city_name_delay_max: 0.03545872312067126\n",
      "dest_city_name_delay_mean: 0.07966078708124522\n",
      "dest_city_name_delay_median: 0.03315819998764687\n",
      "dest_city_name_delay_std: 0.058960745660347466\n",
      "dest_city_name_delay_min: 0.0035366482227176003\n",
      "dest_city_name_delay_max: 0.015728285165804667\n",
      "origin_airport_id_delay_mean: 0.09363780003237406\n",
      "origin_airport_id_delay_median: 0.048809367937844614\n",
      "origin_airport_id_delay_std: 0.06820664565144892\n",
      "origin_airport_id_delay_min: 0.010924355557719697\n",
      "origin_airport_id_delay_max: 0.036439150367790114\n",
      "dest_airport_id_delay_mean: 0.0825992919693957\n",
      "dest_airport_id_delay_median: 0.030414619474619202\n",
      "dest_airport_id_delay_std: 0.06250768842843943\n",
      "dest_airport_id_delay_min: 0.006251280021779714\n",
      "dest_airport_id_delay_max: 0.018213866485607973\n",
      "day_delay_mean: 0.037092260429416185\n",
      "day_delay_median: 0.0294006009180422\n",
      "day_delay_std: 0.029389353613123607\n",
      "day_delay_min: -0.003953528728484838\n",
      "day_delay_max: 0.013215563381395422\n",
      "month_delay_mean: 0.05580916800498999\n",
      "month_delay_median: 0.05258149347924279\n",
      "month_delay_std: 0.047039536571719\n",
      "month_delay_min: 0.013232607528515654\n",
      "month_delay_max: 0.01843027039278405\n",
      "op_unique_carrier_delay_mean: 0.06955875470069904\n",
      "op_unique_carrier_delay_median: 0.029740027600649463\n",
      "op_unique_carrier_delay_std: 0.04733991075089899\n",
      "op_unique_carrier_delay_min: 0.019630010435997207\n",
      "op_unique_carrier_delay_max: 0.017328231028900562\n",
      "haul_delay_mean: 0.014395738618490745\n",
      "haul_delay_median: 0.006964711890221146\n",
      "haul_delay_std: -0.005027394612133939\n",
      "haul_delay_min: 0.014013331878015891\n",
      "haul_delay_max: 0.014065588912264643\n",
      "tail_num_delay_mean: 0.2725107227235319\n",
      "tail_num_delay_median: 0.1745259368220777\n",
      "tail_num_delay_std: 0.19432874696189165\n",
      "tail_num_delay_min: 0.10016241674305695\n",
      "tail_num_delay_max: 0.19000326191664754\n"
     ]
    }
   ],
   "source": [
    "for col in x_train.columns:\n",
    "    print(f\"{col}: {np.corrcoef(x_train[col], y_train.arr_delay)[0, 1]}\")"
   ]
  },
  {
   "cell_type": "code",
   "execution_count": 10,
   "metadata": {},
   "outputs": [],
   "source": [
    "def select_columns(df):\n",
    "    return df[[\n",
    "        'origin_airport_id_delay_mean',\n",
    "        'origin_airport_id_delay_std',\n",
    "        'dest_airport_id_delay_mean',\n",
    "        'dest_airport_id_delay_std',\n",
    "    ]]"
   ]
  },
  {
   "cell_type": "code",
   "execution_count": 11,
   "metadata": {},
   "outputs": [],
   "source": [
    "x_transform = harness.chain(x_transform, select_columns)\n",
    "transformer = harness.DataTransformer(\n",
    "    x_transform\n",
    ")\n",
    "x_train, y_train = transformer.extract_transform(flights_clean)"
   ]
  },
  {
   "cell_type": "code",
   "execution_count": 17,
   "metadata": {},
   "outputs": [],
   "source": [
    "def train_model():\n",
    "    linreg = lm.Ridge(random_state=42)\n",
    "    grid_search = ms.GridSearchCV(\n",
    "        linreg, dict(alpha=[10 ** i for i in range(-6, 7)]),\n",
    "    )\n",
    "    grid_search.fit(x_train.values, y_train.values)\n",
    "    print(grid_search.best_score_)\n",
    "    harness.save(grid_search.best_estimator_, 'selective_linear_model')"
   ]
  },
  {
   "cell_type": "code",
   "execution_count": 18,
   "metadata": {},
   "outputs": [
    {
     "name": "stdout",
     "output_type": "stream",
     "text": [
      "0.013860913425174592\n"
     ]
    }
   ],
   "source": [
    "#train_model()"
   ]
  },
  {
   "cell_type": "code",
   "execution_count": 14,
   "metadata": {},
   "outputs": [],
   "source": [
    "linreg = harness.load('selective_linear_model')\n",
    "linreg_model = harness.TrainedModel(linreg, transformer)"
   ]
  },
  {
   "cell_type": "code",
   "execution_count": 15,
   "metadata": {},
   "outputs": [
    {
     "data": {
      "text/plain": [
       "0.0016943873791059882"
      ]
     },
     "execution_count": 15,
     "metadata": {},
     "output_type": "execute_result"
    }
   ],
   "source": [
    "linreg_model.validate(harness.clean_train(flights_test))"
   ]
  },
  {
   "cell_type": "code",
   "execution_count": 16,
   "metadata": {},
   "outputs": [],
   "source": [
    "# linreg_model.submit(\n",
    "#     'data/test.csv', 'everything_linear_submission.csv', 'predicted_delay'\n",
    "# )"
   ]
  },
  {
   "cell_type": "code",
   "execution_count": null,
   "metadata": {},
   "outputs": [],
   "source": []
  }
 ],
 "metadata": {
  "kernelspec": {
   "display_name": "midterm",
   "language": "python",
   "name": "midterm"
  },
  "language_info": {
   "codemirror_mode": {
    "name": "ipython",
    "version": 3
   },
   "file_extension": ".py",
   "mimetype": "text/x-python",
   "name": "python",
   "nbconvert_exporter": "python",
   "pygments_lexer": "ipython3",
   "version": "3.8.8"
  }
 },
 "nbformat": 4,
 "nbformat_minor": 4
}
