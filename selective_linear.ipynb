{
 "cells": [
  {
   "cell_type": "code",
   "execution_count": 1,
   "metadata": {},
   "outputs": [],
   "source": [
    "import numpy as np\n",
    "import pandas as pd\n",
    "import sklearn.linear_model as lm\n",
    "import sklearn.preprocessing as pre\n",
    "import sklearn.model_selection as ms\n",
    "import matplotlib.pyplot as plt\n",
    "import seaborn as sns\n",
    "\n",
    "import harness\n",
    "\n",
    "np.warnings.filterwarnings('ignore', 'Ill-conditioned matrix')"
   ]
  },
  {
   "cell_type": "code",
   "execution_count": 2,
   "metadata": {},
   "outputs": [],
   "source": [
    "flights_train = pd.read_csv('data/flights_train.csv', index_col=0)\n",
    "flights_test = pd.read_csv('data/flights_test.csv', index_col=0)"
   ]
  },
  {
   "cell_type": "code",
   "execution_count": 3,
   "metadata": {},
   "outputs": [],
   "source": [
    "flights_clean = harness.clean_train(flights_train)"
   ]
  },
  {
   "cell_type": "code",
   "execution_count": 4,
   "metadata": {},
   "outputs": [],
   "source": [
    "add_features = harness.chain(\n",
    "    harness.add_date_parts, harness.add_haul, harness.add_weather\n",
    ")"
   ]
  },
  {
   "cell_type": "code",
   "execution_count": 5,
   "metadata": {},
   "outputs": [],
   "source": [
    "flights_with_features = add_features(flights_clean)"
   ]
  },
  {
   "cell_type": "code",
   "execution_count": 6,
   "metadata": {},
   "outputs": [],
   "source": [
    "x_transform = harness.chain(\n",
    "    harness.keep_only_test_columns,\n",
    "    add_features,\n",
    "    [harness.add_all_grouped_stats, flights_with_features],\n",
    "    harness.only_numeric,\n",
    "    harness.scale,\n",
    ")"
   ]
  },
  {
   "cell_type": "code",
   "execution_count": 7,
   "metadata": {},
   "outputs": [],
   "source": [
    "transformer = harness.DataTransformer(\n",
    "    x_transform\n",
    ")"
   ]
  },
  {
   "cell_type": "code",
   "execution_count": 8,
   "metadata": {},
   "outputs": [],
   "source": [
    "x_train, y_train = transformer.extract_transform(flights_clean)"
   ]
  },
  {
   "cell_type": "code",
   "execution_count": 1,
   "metadata": {},
   "outputs": [
    {
     "name": "stdout",
     "output_type": "stream",
     "text": [
      "mkt_carrier_fl_num: 0.02396390030554952\n",
      "op_carrier_fl_num: 0.023957695784052345\n",
      "origin_airport_id: -0.0059979326027192305\n",
      "dest_airport_id: 0.0007424099189047517\n",
      "crs_dep_time: 0.08637986895272753\n",
      "crs_arr_time: 0.08219644379892342\n",
      "crs_elapsed_time: -0.013246107998264683\n",
      "distance: -0.013977561031507504\n",
      "month: -0.00956819291072373\n",
      "day: -0.0029787768345340875\n",
      "conditions_origin_delay_mean: 0.006186058477773424\n",
      "conditions_origin_delay_median: 0.001537449998639927\n",
      "conditions_origin_delay_std: 0.004995596611660686\n",
      "conditions_origin_delay_min: 7.787678155686351e-05\n",
      "conditions_origin_delay_max: 0.0013206388078667924\n",
      "conditions_dest_delay_mean: 0.00553239598409512\n",
      "conditions_dest_delay_median: 0.00301426650675934\n",
      "conditions_dest_delay_std: 0.0034098259923459142\n",
      "conditions_dest_delay_min: -0.0020022489136836685\n",
      "conditions_dest_delay_max: 0.0007614044066044412\n",
      "weather_origin_delay_mean: 0.002438233137473265\n",
      "weather_origin_delay_median: -0.000591256779837111\n",
      "weather_origin_delay_std: 0.0017068471956204977\n",
      "weather_origin_delay_min: 0.00023447761932975962\n",
      "weather_origin_delay_max: 0.00028911230673430734\n",
      "weather_dest_delay_mean: 0.00454486365074821\n",
      "weather_dest_delay_median: 0.003824684019387286\n",
      "weather_dest_delay_std: 0.003813761304183972\n",
      "weather_dest_delay_min: -0.0017648015516499884\n",
      "weather_dest_delay_max: 0.000317995956908339\n",
      "origin_city_name_delay_mean: 0.09267448838029187\n",
      "origin_city_name_delay_median: 0.048971694059111254\n",
      "origin_city_name_delay_std: 0.06874010104255622\n",
      "origin_city_name_delay_min: 0.010908669767471233\n",
      "origin_city_name_delay_max: 0.03545872312067121\n",
      "dest_city_name_delay_mean: 0.07966078708124529\n",
      "dest_city_name_delay_median: 0.03315819998764685\n",
      "dest_city_name_delay_std: 0.05896074566034729\n",
      "dest_city_name_delay_min: 0.0035366482227175942\n",
      "dest_city_name_delay_max: 0.015728285165804667\n",
      "origin_airport_id_delay_mean: 0.09363780003237414\n",
      "origin_airport_id_delay_median: 0.04880936793784472\n",
      "origin_airport_id_delay_std: 0.06820664565144902\n",
      "origin_airport_id_delay_min: 0.010924355557719674\n",
      "origin_airport_id_delay_max: 0.036439150367790114\n",
      "dest_airport_id_delay_mean: 0.0825992919693956\n",
      "dest_airport_id_delay_median: 0.030414619474619195\n",
      "dest_airport_id_delay_std: 0.06250768842843939\n",
      "dest_airport_id_delay_min: 0.006251280021779709\n",
      "dest_airport_id_delay_max: 0.018213866485607983\n",
      "day_delay_mean: 0.037092260429416164\n",
      "day_delay_median: 0.029400600918042228\n",
      "day_delay_std: 0.02938935361312367\n",
      "day_delay_min: -0.003953528728484832\n",
      "day_delay_max: 0.013215563381395425\n",
      "month_delay_mean: 0.055809168004989855\n",
      "month_delay_median: 0.05258149347924278\n",
      "month_delay_std: 0.047039536571719\n",
      "month_delay_min: 0.013232607528515692\n",
      "month_delay_max: 0.018430270392783995\n",
      "op_unique_carrier_delay_mean: 0.069558754700699\n",
      "op_unique_carrier_delay_median: 0.029740027600649456\n",
      "op_unique_carrier_delay_std: 0.047339910750898904\n",
      "op_unique_carrier_delay_min: 0.019630010435997207\n",
      "op_unique_carrier_delay_max: 0.017328231028900565\n",
      "haul_delay_mean: 0.014395738618490691\n",
      "haul_delay_median: 0.006964711890221161\n",
      "haul_delay_std: -0.005027394612133941\n",
      "haul_delay_min: 0.014013331878015886\n",
      "haul_delay_max: 0.014065588912264617\n",
      "tail_num_delay_mean: 0.27251072272353133\n",
      "tail_num_delay_median: 0.174525936822078\n",
      "tail_num_delay_std: 0.19432874696189162\n",
      "tail_num_delay_min: 0.10016241674305684\n",
      "tail_num_delay_max: 0.19000326191664793\n"
     ]
    }
   ],
   "source": [
    "for col in x_train.columns:\n",
    "    print(f\"{col}: {np.corrcoef(x_train[col], y_train.arr_delay)[0, 1]}\")"
   ]
  },
  {
   "cell_type": "code",
   "execution_count": 10,
   "metadata": {},
   "outputs": [],
   "source": [
    "def select_columns(df):\n",
    "    return df[[\n",
    "        'origin_airport_id_delay_mean',\n",
    "        'origin_airport_id_delay_std',\n",
    "        'dest_airport_id_delay_mean',\n",
    "        'dest_airport_id_delay_std',\n",
    "    ]]"
   ]
  },
  {
   "cell_type": "code",
   "execution_count": 11,
   "metadata": {},
   "outputs": [],
   "source": [
    "x_transform = harness.chain(x_transform, select_columns)\n",
    "transformer = harness.DataTransformer(\n",
    "    x_transform\n",
    ")\n",
    "x_train, y_train = transformer.extract_transform(flights_clean)"
   ]
  },
  {
   "cell_type": "code",
   "execution_count": 12,
   "metadata": {},
   "outputs": [],
   "source": [
    "def train_model():\n",
    "    linreg = lm.Ridge(random_state=42)\n",
    "    grid_search = ms.GridSearchCV(\n",
    "        linreg, dict(alpha=[10 ** i for i in range(-6, 7)]),\n",
    "    )\n",
    "    grid_search.fit(x_train.values, y_train.values)\n",
    "    print(grid_search.best_score_)\n",
    "    harness.save(grid_search.best_estimator_, 'selective_linear_model')"
   ]
  },
  {
   "cell_type": "code",
   "execution_count": 13,
   "metadata": {},
   "outputs": [],
   "source": [
    "#train_model()"
   ]
  },
  {
   "cell_type": "code",
   "execution_count": 14,
   "metadata": {},
   "outputs": [],
   "source": [
    "linreg = harness.load('selective_linear_model')\n",
    "linreg_model = harness.TrainedModel(linreg, transformer)"
   ]
  },
  {
   "cell_type": "code",
   "execution_count": 15,
   "metadata": {},
   "outputs": [
    {
     "data": {
      "text/plain": [
       "R squared: 0.00169\n",
       "Median absolute error: 16.5"
      ]
     },
     "execution_count": 15,
     "metadata": {},
     "output_type": "execute_result"
    }
   ],
   "source": [
    "linreg_model.validate(harness.clean_train(flights_test))"
   ]
  },
  {
   "cell_type": "code",
   "execution_count": 16,
   "metadata": {},
   "outputs": [],
   "source": [
    "# linreg_model.submit(\n",
    "#     'data/test.csv', 'everything_linear_submission.csv', 'predicted_delay'\n",
    "# )"
   ]
  },
  {
   "cell_type": "code",
   "execution_count": null,
   "metadata": {},
   "outputs": [],
   "source": []
  }
 ],
 "metadata": {
  "kernelspec": {
   "display_name": "Python 3",
   "language": "python",
   "name": "python3"
  },
  "language_info": {
   "codemirror_mode": {
    "name": "ipython",
    "version": 3
   },
   "file_extension": ".py",
   "mimetype": "text/x-python",
   "name": "python",
   "nbconvert_exporter": "python",
   "pygments_lexer": "ipython3",
   "version": "3.8.5"
  }
 },
 "nbformat": 4,
 "nbformat_minor": 4
}
