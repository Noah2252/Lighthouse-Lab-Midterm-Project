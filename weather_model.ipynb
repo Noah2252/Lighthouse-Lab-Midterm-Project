{
 "cells": [
  {
   "cell_type": "code",
   "execution_count": 14,
   "metadata": {},
   "outputs": [],
   "source": [
    "import numpy as np\n",
    "import pandas as pd\n",
    "import sklearn.linear_model as lm\n",
    "import sklearn.preprocessing as pre\n",
    "import sklearn.model_selection as ms\n",
    "import matplotlib.pyplot as plt\n",
    "import seaborn as sns\n",
    "\n",
    "import harness"
   ]
  },
  {
   "cell_type": "code",
   "execution_count": 2,
   "metadata": {},
   "outputs": [],
   "source": [
    "flights_train = harness.read_flights('data/flights_train.csv')\n",
    "flights_test = harness.read_flights('data/flights_test.csv')"
   ]
  },
  {
   "cell_type": "code",
   "execution_count": 3,
   "metadata": {},
   "outputs": [],
   "source": [
    "flights_clean = harness.clean_train(flights_train)"
   ]
  },
  {
   "cell_type": "code",
   "execution_count": 4,
   "metadata": {},
   "outputs": [],
   "source": [
    "# add_features = harness.chain(\n",
    "#     harness.add_date_parts, harness.add_haul,\n",
    "#     harness.add_hour, harness.make_all_dummies,\n",
    "# )"
   ]
  },
  {
   "cell_type": "code",
   "execution_count": 5,
   "metadata": {},
   "outputs": [],
   "source": [
    "x_transform = harness.chain(\n",
    "    harness.keep_only_test_columns,\n",
    "    [harness.make_weather_dummies, flights_clean],\n",
    "    harness.only_numeric,\n",
    "    harness.scale,\n",
    ")"
   ]
  },
  {
   "cell_type": "code",
   "execution_count": 6,
   "metadata": {},
   "outputs": [],
   "source": [
    "transformer = harness.DataTransformer(\n",
    "    x_transform, harness.remove_early\n",
    ")"
   ]
  },
  {
   "cell_type": "code",
   "execution_count": 7,
   "metadata": {},
   "outputs": [],
   "source": [
    "x_train, y_train = transformer.extract_transform(flights_clean)"
   ]
  },
  {
   "cell_type": "code",
   "execution_count": 8,
   "metadata": {},
   "outputs": [],
   "source": [
    "def train_model():\n",
    "    linreg = lm.Ridge(random_state=42)\n",
    "    grid_search = ms.GridSearchCV(\n",
    "        linreg, dict(alpha=[10 ** i for i in range(-6, 7)]),\n",
    "        scoring=transformer.score_transformed\n",
    "    )\n",
    "    grid_search.fit(x_train.values, y_train.values)\n",
    "    harness.save(grid_search.best_estimator_, 'weather_model')"
   ]
  },
  {
   "cell_type": "code",
   "execution_count": 9,
   "metadata": {},
   "outputs": [],
   "source": [
    "# train_model()"
   ]
  },
  {
   "cell_type": "code",
   "execution_count": 10,
   "metadata": {},
   "outputs": [],
   "source": [
    "linreg = harness.load('weather_model')\n",
    "linreg_model = harness.TrainedModel(linreg, transformer)"
   ]
  },
  {
   "cell_type": "code",
   "execution_count": 11,
   "metadata": {},
   "outputs": [
    {
     "data": {
      "text/plain": [
       "{'crs_dep_time': 2.5062369626454886,\n",
       " 'crs_arr_time': 1.7770447303057946,\n",
       " 'crs_elapsed_time': 7.141477541173036,\n",
       " 'distance': -7.016086796760896,\n",
       " 'cold_o': -0.24968616652995726,\n",
       " 'fog_o': -3.986672907873232,\n",
       " 'hail_o': 0.002941947240471487,\n",
       " 'precipitation_o': 1.7205392313919976,\n",
       " 'rain_o': -1.6423241565919748,\n",
       " 'snow_o': 0.7419678446656128,\n",
       " 'storm_o': -0.059449800092904265,\n",
       " 'severity_o': 6.57781546753999,\n",
       " 'cold_d': -0.4578919840522657,\n",
       " 'fog_d': -1.6898973084116709,\n",
       " 'hail_d': 0.08740574497680006,\n",
       " 'precipitation_d': 0.5638186073083732,\n",
       " 'rain_d': 0.19638845594147197,\n",
       " 'snow_d': 0.716213588276369,\n",
       " 'storm_d': 0.4232026091226577,\n",
       " 'severity_d': 3.242166548229952}"
      ]
     },
     "execution_count": 11,
     "metadata": {},
     "output_type": "execute_result"
    }
   ],
   "source": [
    "{col: coef for col, coef in zip(x_train.columns, linreg.coef_[0])}"
   ]
  },
  {
   "cell_type": "code",
   "execution_count": 12,
   "metadata": {},
   "outputs": [
    {
     "data": {
      "text/plain": [
       "R squared: -0.00224\n",
       "Median absolute error: 22.5\n",
       "R squared (no early): 0.0195\n",
       "Median absolute error (no early): 12.1"
      ]
     },
     "execution_count": 12,
     "metadata": {},
     "output_type": "execute_result"
    }
   ],
   "source": [
    "linreg_model.validate(harness.clean_train(flights_test))"
   ]
  },
  {
   "cell_type": "code",
   "execution_count": 13,
   "metadata": {},
   "outputs": [],
   "source": [
    "# linreg_model.submit(\n",
    "#     'data/test.csv', 'weather_submission.csv', 'predicted_delay'\n",
    "# )"
   ]
  },
  {
   "cell_type": "code",
   "execution_count": null,
   "metadata": {},
   "outputs": [],
   "source": []
  }
 ],
 "metadata": {
  "kernelspec": {
   "display_name": "Python 3",
   "language": "python",
   "name": "python3"
  },
  "language_info": {
   "codemirror_mode": {
    "name": "ipython",
    "version": 3
   },
   "file_extension": ".py",
   "mimetype": "text/x-python",
   "name": "python",
   "nbconvert_exporter": "python",
   "pygments_lexer": "ipython3",
   "version": "3.8.5"
  }
 },
 "nbformat": 4,
 "nbformat_minor": 4
}
