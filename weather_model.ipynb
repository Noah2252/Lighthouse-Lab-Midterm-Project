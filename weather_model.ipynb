{
 "cells": [
  {
   "cell_type": "code",
   "execution_count": 1,
   "metadata": {},
   "outputs": [],
   "source": [
    "import numpy as np\n",
    "import pandas as pd\n",
    "import sklearn.linear_model as lm\n",
    "import sklearn.preprocessing as pre\n",
    "import sklearn.model_selection as ms\n",
    "import matplotlib.pyplot as plt\n",
    "import seaborn as sns\n",
    "\n",
    "import harness"
   ]
  },
  {
   "cell_type": "code",
   "execution_count": 2,
   "metadata": {},
   "outputs": [],
   "source": [
    "flights_train = harness.read_flights('data/flights_train.csv')\n",
    "flights_test = harness.read_flights('data/flights_test.csv')"
   ]
  },
  {
   "cell_type": "code",
   "execution_count": 3,
   "metadata": {},
   "outputs": [],
   "source": [
    "flights_clean = harness.clean_train(flights_train)"
   ]
  },
  {
   "cell_type": "code",
   "execution_count": 4,
   "metadata": {},
   "outputs": [],
   "source": [
    "# add_features = harness.chain(\n",
    "#     harness.add_date_parts, harness.add_haul,\n",
    "#     harness.add_hour, harness.make_all_dummies,\n",
    "# )"
   ]
  },
  {
   "cell_type": "code",
   "execution_count": 5,
   "metadata": {},
   "outputs": [],
   "source": [
    "x_transform = harness.chain(\n",
    "    harness.keep_only_test_columns,\n",
    "    harness.make_weather_dummies,\n",
    "    harness.only_numeric,\n",
    "    harness.scale,\n",
    ")"
   ]
  },
  {
   "cell_type": "code",
   "execution_count": 6,
   "metadata": {},
   "outputs": [],
   "source": [
    "transformer = harness.DataTransformer(\n",
    "    x_transform, harness.remove_early\n",
    ")"
   ]
  },
  {
   "cell_type": "code",
   "execution_count": 7,
   "metadata": {},
   "outputs": [],
   "source": [
    "x_train, y_train = transformer.extract_transform(flights_clean)"
   ]
  },
  {
   "cell_type": "code",
   "execution_count": 9,
   "metadata": {},
   "outputs": [],
   "source": [
    "def train_model():\n",
    "    linreg = lm.Ridge(random_state=42)\n",
    "    grid_search = ms.GridSearchCV(\n",
    "        linreg, dict(alpha=[10 ** i for i in range(-6, 7)]),\n",
    "        scoring=transformer.score\n",
    "    )\n",
    "    grid_search.fit(x_train.values, y_train.values)\n",
    "    harness.save(grid_search.best_estimator_, 'weather_model')"
   ]
  },
  {
   "cell_type": "code",
   "execution_count": 10,
   "metadata": {},
   "outputs": [],
   "source": [
    "#train_model()"
   ]
  },
  {
   "cell_type": "code",
   "execution_count": 11,
   "metadata": {},
   "outputs": [],
   "source": [
    "linreg = harness.load('weather_model')\n",
    "linreg_model = harness.TrainedModel(linreg, transformer)"
   ]
  },
  {
   "cell_type": "code",
   "execution_count": 18,
   "metadata": {},
   "outputs": [
    {
     "data": {
      "text/plain": [
       "{'mkt_carrier_fl_num': -0.362685088191627,\n",
       " 'op_carrier_fl_num': 0.3087486251620202,\n",
       " 'origin_airport_id': -0.18272107952478397,\n",
       " 'dest_airport_id': 0.2194914683430145,\n",
       " 'crs_dep_time': 0.32312626047834475,\n",
       " 'crs_arr_time': 0.4722154353554303,\n",
       " 'crs_elapsed_time': -8.642436343157227,\n",
       " 'distance': 7.766420843737963,\n",
       " 'cold_o': -0.09418322984862719,\n",
       " 'fog_o': -0.43831196865368227,\n",
       " 'hail_o': 0.014965341491729416,\n",
       " 'precipitation_o': 0.10660271569428056,\n",
       " 'rain_o': 0.035450621073347816,\n",
       " 'snow_o': 0.395379351808152,\n",
       " 'storm_o': -0.06187622081977797,\n",
       " 'severity_o': 0.9002903463938772,\n",
       " 'cold_d': -0.0798745899646338,\n",
       " 'fog_d': -0.2504392412388941,\n",
       " 'hail_d': 0.010333775391612364,\n",
       " 'precipitation_d': 0.12266048070805372,\n",
       " 'rain_d': 0.1574733084669595,\n",
       " 'snow_d': 0.058765824699360175,\n",
       " 'storm_d': -0.007758301820339872,\n",
       " 'severity_d': 0.6189948917018101}"
      ]
     },
     "execution_count": 18,
     "metadata": {},
     "output_type": "execute_result"
    }
   ],
   "source": [
    "{col: coef for col, coef in zip(x_train.columns, linreg.coef_[0])}"
   ]
  },
  {
   "cell_type": "code",
   "execution_count": 12,
   "metadata": {},
   "outputs": [
    {
     "data": {
      "text/plain": [
       "R squared: -0.0701\n",
       "Median absolute error: 9.6\n",
       "R squared (no early): 0.0532\n",
       "Median absolute error (no early): 7.22"
      ]
     },
     "execution_count": 12,
     "metadata": {},
     "output_type": "execute_result"
    }
   ],
   "source": [
    "linreg_model.validate(harness.clean_train(flights_test))"
   ]
  },
  {
   "cell_type": "code",
   "execution_count": 13,
   "metadata": {},
   "outputs": [],
   "source": [
    "# linreg_model.submit(\n",
    "#     'data/test.csv', 'everything_linear_submission.csv', 'predicted_delay'\n",
    "# )"
   ]
  },
  {
   "cell_type": "code",
   "execution_count": null,
   "metadata": {},
   "outputs": [],
   "source": []
  }
 ],
 "metadata": {
  "kernelspec": {
   "display_name": "Python 3",
   "language": "python",
   "name": "python3"
  },
  "language_info": {
   "codemirror_mode": {
    "name": "ipython",
    "version": 3
   },
   "file_extension": ".py",
   "mimetype": "text/x-python",
   "name": "python",
   "nbconvert_exporter": "python",
   "pygments_lexer": "ipython3",
   "version": "3.8.5"
  }
 },
 "nbformat": 4,
 "nbformat_minor": 4
}
