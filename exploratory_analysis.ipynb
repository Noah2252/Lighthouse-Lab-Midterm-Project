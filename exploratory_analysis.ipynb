{
 "cells": [
  {
   "cell_type": "markdown",
   "metadata": {},
   "source": [
    "## Exploratory Data Analysis\n",
    "\n",
    "Use this notebook to get familiar with the datasets we have. There is 10 questions we need to answer during the EDA.\n",
    "\n",
    "\n",
    "We shouldn't limit our EDA to these 10 questions. Let's be creative :)."
   ]
  },
  {
   "cell_type": "code",
   "execution_count": 1,
   "metadata": {},
   "outputs": [],
   "source": [
    "import pandas as pd\n",
    "import numpy as np\n",
    "import matplotlib.pyplot as plt\n",
    "from matplotlib import colors\n",
    "from matplotlib.ticker import PercentFormatter\n",
    "from scipy import stats\n",
    "import re"
   ]
  },
  {
   "cell_type": "code",
   "execution_count": 2,
   "metadata": {},
   "outputs": [],
   "source": [
    "flights_1 = pd.read_csv('data/flights_1%.csv')\n",
    "fuel_consumption = pd.read_csv('data/fuel_consumption.csv')\n",
    "passengers_10 = pd.read_csv('data/passengers_10%.csv')\n",
    "test = pd.read_csv('data/test.csv')\n",
    "pd.set_option('display.max_columns', None)"
   ]
  },
  {
   "cell_type": "code",
   "execution_count": 3,
   "metadata": {},
   "outputs": [
    {
     "data": {
      "text/plain": [
       "Index(['fl_date', 'mkt_unique_carrier', 'branded_code_share', 'mkt_carrier',\n",
       "       'mkt_carrier_fl_num', 'op_unique_carrier', 'tail_num',\n",
       "       'op_carrier_fl_num', 'origin_airport_id', 'origin', 'origin_city_name',\n",
       "       'dest_airport_id', 'dest', 'dest_city_name', 'crs_dep_time', 'dep_time',\n",
       "       'dep_delay', 'taxi_out', 'wheels_off', 'wheels_on', 'taxi_in',\n",
       "       'crs_arr_time', 'arr_time', 'arr_delay', 'cancelled',\n",
       "       'cancellation_code', 'diverted', 'dup', 'crs_elapsed_time',\n",
       "       'actual_elapsed_time', 'air_time', 'flights', 'distance',\n",
       "       'carrier_delay', 'weather_delay', 'nas_delay', 'security_delay',\n",
       "       'late_aircraft_delay', 'first_dep_time', 'total_add_gtime',\n",
       "       'longest_add_gtime', 'no_name'],\n",
       "      dtype='object')"
      ]
     },
     "execution_count": 3,
     "metadata": {},
     "output_type": "execute_result"
    }
   ],
   "source": [
    "flights_1.columns"
   ]
  },
  {
   "cell_type": "code",
   "execution_count": 4,
   "metadata": {
    "scrolled": true
   },
   "outputs": [
    {
     "data": {
      "text/html": [
       "<div>\n",
       "<style scoped>\n",
       "    .dataframe tbody tr th:only-of-type {\n",
       "        vertical-align: middle;\n",
       "    }\n",
       "\n",
       "    .dataframe tbody tr th {\n",
       "        vertical-align: top;\n",
       "    }\n",
       "\n",
       "    .dataframe thead th {\n",
       "        text-align: right;\n",
       "    }\n",
       "</style>\n",
       "<table border=\"1\" class=\"dataframe\">\n",
       "  <thead>\n",
       "    <tr style=\"text-align: right;\">\n",
       "      <th></th>\n",
       "      <th>fl_date</th>\n",
       "      <th>mkt_unique_carrier</th>\n",
       "      <th>branded_code_share</th>\n",
       "      <th>mkt_carrier</th>\n",
       "      <th>mkt_carrier_fl_num</th>\n",
       "      <th>op_unique_carrier</th>\n",
       "      <th>tail_num</th>\n",
       "      <th>op_carrier_fl_num</th>\n",
       "      <th>origin_airport_id</th>\n",
       "      <th>origin</th>\n",
       "      <th>origin_city_name</th>\n",
       "      <th>dest_airport_id</th>\n",
       "      <th>dest</th>\n",
       "      <th>dest_city_name</th>\n",
       "      <th>crs_dep_time</th>\n",
       "      <th>dep_time</th>\n",
       "      <th>dep_delay</th>\n",
       "      <th>taxi_out</th>\n",
       "      <th>wheels_off</th>\n",
       "      <th>wheels_on</th>\n",
       "      <th>taxi_in</th>\n",
       "      <th>crs_arr_time</th>\n",
       "      <th>arr_time</th>\n",
       "      <th>arr_delay</th>\n",
       "      <th>cancelled</th>\n",
       "      <th>cancellation_code</th>\n",
       "      <th>diverted</th>\n",
       "      <th>dup</th>\n",
       "      <th>crs_elapsed_time</th>\n",
       "      <th>actual_elapsed_time</th>\n",
       "      <th>air_time</th>\n",
       "      <th>flights</th>\n",
       "      <th>distance</th>\n",
       "      <th>carrier_delay</th>\n",
       "      <th>weather_delay</th>\n",
       "      <th>nas_delay</th>\n",
       "      <th>security_delay</th>\n",
       "      <th>late_aircraft_delay</th>\n",
       "      <th>first_dep_time</th>\n",
       "      <th>total_add_gtime</th>\n",
       "      <th>longest_add_gtime</th>\n",
       "      <th>no_name</th>\n",
       "    </tr>\n",
       "  </thead>\n",
       "  <tbody>\n",
       "    <tr>\n",
       "      <th>0</th>\n",
       "      <td>2019-12-19</td>\n",
       "      <td>WN</td>\n",
       "      <td>WN</td>\n",
       "      <td>WN</td>\n",
       "      <td>493</td>\n",
       "      <td>WN</td>\n",
       "      <td>N421LV</td>\n",
       "      <td>493</td>\n",
       "      <td>13342</td>\n",
       "      <td>MKE</td>\n",
       "      <td>Milwaukee, WI</td>\n",
       "      <td>13204</td>\n",
       "      <td>MCO</td>\n",
       "      <td>Orlando, FL</td>\n",
       "      <td>1140</td>\n",
       "      <td>1146.0</td>\n",
       "      <td>6.0</td>\n",
       "      <td>9.0</td>\n",
       "      <td>1155.0</td>\n",
       "      <td>1513.0</td>\n",
       "      <td>6.0</td>\n",
       "      <td>1515</td>\n",
       "      <td>1519.0</td>\n",
       "      <td>4.0</td>\n",
       "      <td>0</td>\n",
       "      <td>NaN</td>\n",
       "      <td>0</td>\n",
       "      <td>N</td>\n",
       "      <td>155</td>\n",
       "      <td>153.0</td>\n",
       "      <td>138.0</td>\n",
       "      <td>1</td>\n",
       "      <td>1066</td>\n",
       "      <td>NaN</td>\n",
       "      <td>NaN</td>\n",
       "      <td>NaN</td>\n",
       "      <td>NaN</td>\n",
       "      <td>NaN</td>\n",
       "      <td>NaN</td>\n",
       "      <td>NaN</td>\n",
       "      <td>NaN</td>\n",
       "      <td>NaN</td>\n",
       "    </tr>\n",
       "    <tr>\n",
       "      <th>1</th>\n",
       "      <td>2019-12-19</td>\n",
       "      <td>WN</td>\n",
       "      <td>WN</td>\n",
       "      <td>WN</td>\n",
       "      <td>51</td>\n",
       "      <td>WN</td>\n",
       "      <td>N7719A</td>\n",
       "      <td>51</td>\n",
       "      <td>13495</td>\n",
       "      <td>MSY</td>\n",
       "      <td>New Orleans, LA</td>\n",
       "      <td>11259</td>\n",
       "      <td>DAL</td>\n",
       "      <td>Dallas, TX</td>\n",
       "      <td>1655</td>\n",
       "      <td>1655.0</td>\n",
       "      <td>0.0</td>\n",
       "      <td>10.0</td>\n",
       "      <td>1705.0</td>\n",
       "      <td>1816.0</td>\n",
       "      <td>7.0</td>\n",
       "      <td>1820</td>\n",
       "      <td>1823.0</td>\n",
       "      <td>3.0</td>\n",
       "      <td>0</td>\n",
       "      <td>NaN</td>\n",
       "      <td>0</td>\n",
       "      <td>N</td>\n",
       "      <td>85</td>\n",
       "      <td>88.0</td>\n",
       "      <td>71.0</td>\n",
       "      <td>1</td>\n",
       "      <td>436</td>\n",
       "      <td>NaN</td>\n",
       "      <td>NaN</td>\n",
       "      <td>NaN</td>\n",
       "      <td>NaN</td>\n",
       "      <td>NaN</td>\n",
       "      <td>NaN</td>\n",
       "      <td>NaN</td>\n",
       "      <td>NaN</td>\n",
       "      <td>NaN</td>\n",
       "    </tr>\n",
       "    <tr>\n",
       "      <th>2</th>\n",
       "      <td>2019-12-19</td>\n",
       "      <td>WN</td>\n",
       "      <td>WN</td>\n",
       "      <td>WN</td>\n",
       "      <td>2398</td>\n",
       "      <td>WN</td>\n",
       "      <td>N724SW</td>\n",
       "      <td>2398</td>\n",
       "      <td>13495</td>\n",
       "      <td>MSY</td>\n",
       "      <td>New Orleans, LA</td>\n",
       "      <td>12191</td>\n",
       "      <td>HOU</td>\n",
       "      <td>Houston, TX</td>\n",
       "      <td>610</td>\n",
       "      <td>620.0</td>\n",
       "      <td>10.0</td>\n",
       "      <td>12.0</td>\n",
       "      <td>632.0</td>\n",
       "      <td>725.0</td>\n",
       "      <td>3.0</td>\n",
       "      <td>730</td>\n",
       "      <td>728.0</td>\n",
       "      <td>-2.0</td>\n",
       "      <td>0</td>\n",
       "      <td>NaN</td>\n",
       "      <td>0</td>\n",
       "      <td>N</td>\n",
       "      <td>80</td>\n",
       "      <td>68.0</td>\n",
       "      <td>53.0</td>\n",
       "      <td>1</td>\n",
       "      <td>302</td>\n",
       "      <td>NaN</td>\n",
       "      <td>NaN</td>\n",
       "      <td>NaN</td>\n",
       "      <td>NaN</td>\n",
       "      <td>NaN</td>\n",
       "      <td>NaN</td>\n",
       "      <td>NaN</td>\n",
       "      <td>NaN</td>\n",
       "      <td>NaN</td>\n",
       "    </tr>\n",
       "    <tr>\n",
       "      <th>3</th>\n",
       "      <td>2019-12-19</td>\n",
       "      <td>WN</td>\n",
       "      <td>WN</td>\n",
       "      <td>WN</td>\n",
       "      <td>943</td>\n",
       "      <td>WN</td>\n",
       "      <td>N8685B</td>\n",
       "      <td>943</td>\n",
       "      <td>13796</td>\n",
       "      <td>OAK</td>\n",
       "      <td>Oakland, CA</td>\n",
       "      <td>12889</td>\n",
       "      <td>LAS</td>\n",
       "      <td>Las Vegas, NV</td>\n",
       "      <td>1745</td>\n",
       "      <td>1745.0</td>\n",
       "      <td>0.0</td>\n",
       "      <td>13.0</td>\n",
       "      <td>1758.0</td>\n",
       "      <td>1901.0</td>\n",
       "      <td>5.0</td>\n",
       "      <td>1910</td>\n",
       "      <td>1906.0</td>\n",
       "      <td>-4.0</td>\n",
       "      <td>0</td>\n",
       "      <td>NaN</td>\n",
       "      <td>0</td>\n",
       "      <td>N</td>\n",
       "      <td>85</td>\n",
       "      <td>81.0</td>\n",
       "      <td>63.0</td>\n",
       "      <td>1</td>\n",
       "      <td>407</td>\n",
       "      <td>NaN</td>\n",
       "      <td>NaN</td>\n",
       "      <td>NaN</td>\n",
       "      <td>NaN</td>\n",
       "      <td>NaN</td>\n",
       "      <td>NaN</td>\n",
       "      <td>NaN</td>\n",
       "      <td>NaN</td>\n",
       "      <td>NaN</td>\n",
       "    </tr>\n",
       "    <tr>\n",
       "      <th>4</th>\n",
       "      <td>2019-12-19</td>\n",
       "      <td>WN</td>\n",
       "      <td>WN</td>\n",
       "      <td>WN</td>\n",
       "      <td>2443</td>\n",
       "      <td>WN</td>\n",
       "      <td>N8698B</td>\n",
       "      <td>2443</td>\n",
       "      <td>13851</td>\n",
       "      <td>OKC</td>\n",
       "      <td>Oklahoma City, OK</td>\n",
       "      <td>11292</td>\n",
       "      <td>DEN</td>\n",
       "      <td>Denver, CO</td>\n",
       "      <td>600</td>\n",
       "      <td>558.0</td>\n",
       "      <td>-2.0</td>\n",
       "      <td>8.0</td>\n",
       "      <td>606.0</td>\n",
       "      <td>618.0</td>\n",
       "      <td>6.0</td>\n",
       "      <td>645</td>\n",
       "      <td>624.0</td>\n",
       "      <td>-21.0</td>\n",
       "      <td>0</td>\n",
       "      <td>NaN</td>\n",
       "      <td>0</td>\n",
       "      <td>N</td>\n",
       "      <td>105</td>\n",
       "      <td>86.0</td>\n",
       "      <td>72.0</td>\n",
       "      <td>1</td>\n",
       "      <td>495</td>\n",
       "      <td>NaN</td>\n",
       "      <td>NaN</td>\n",
       "      <td>NaN</td>\n",
       "      <td>NaN</td>\n",
       "      <td>NaN</td>\n",
       "      <td>NaN</td>\n",
       "      <td>NaN</td>\n",
       "      <td>NaN</td>\n",
       "      <td>NaN</td>\n",
       "    </tr>\n",
       "  </tbody>\n",
       "</table>\n",
       "</div>"
      ],
      "text/plain": [
       "      fl_date mkt_unique_carrier branded_code_share mkt_carrier  \\\n",
       "0  2019-12-19                 WN                 WN          WN   \n",
       "1  2019-12-19                 WN                 WN          WN   \n",
       "2  2019-12-19                 WN                 WN          WN   \n",
       "3  2019-12-19                 WN                 WN          WN   \n",
       "4  2019-12-19                 WN                 WN          WN   \n",
       "\n",
       "   mkt_carrier_fl_num op_unique_carrier tail_num  op_carrier_fl_num  \\\n",
       "0                 493                WN   N421LV                493   \n",
       "1                  51                WN   N7719A                 51   \n",
       "2                2398                WN   N724SW               2398   \n",
       "3                 943                WN   N8685B                943   \n",
       "4                2443                WN   N8698B               2443   \n",
       "\n",
       "   origin_airport_id origin   origin_city_name  dest_airport_id dest  \\\n",
       "0              13342    MKE      Milwaukee, WI            13204  MCO   \n",
       "1              13495    MSY    New Orleans, LA            11259  DAL   \n",
       "2              13495    MSY    New Orleans, LA            12191  HOU   \n",
       "3              13796    OAK        Oakland, CA            12889  LAS   \n",
       "4              13851    OKC  Oklahoma City, OK            11292  DEN   \n",
       "\n",
       "  dest_city_name  crs_dep_time  dep_time  dep_delay  taxi_out  wheels_off  \\\n",
       "0    Orlando, FL          1140    1146.0        6.0       9.0      1155.0   \n",
       "1     Dallas, TX          1655    1655.0        0.0      10.0      1705.0   \n",
       "2    Houston, TX           610     620.0       10.0      12.0       632.0   \n",
       "3  Las Vegas, NV          1745    1745.0        0.0      13.0      1758.0   \n",
       "4     Denver, CO           600     558.0       -2.0       8.0       606.0   \n",
       "\n",
       "   wheels_on  taxi_in  crs_arr_time  arr_time  arr_delay  cancelled  \\\n",
       "0     1513.0      6.0          1515    1519.0        4.0          0   \n",
       "1     1816.0      7.0          1820    1823.0        3.0          0   \n",
       "2      725.0      3.0           730     728.0       -2.0          0   \n",
       "3     1901.0      5.0          1910    1906.0       -4.0          0   \n",
       "4      618.0      6.0           645     624.0      -21.0          0   \n",
       "\n",
       "  cancellation_code  diverted dup  crs_elapsed_time  actual_elapsed_time  \\\n",
       "0               NaN         0   N               155                153.0   \n",
       "1               NaN         0   N                85                 88.0   \n",
       "2               NaN         0   N                80                 68.0   \n",
       "3               NaN         0   N                85                 81.0   \n",
       "4               NaN         0   N               105                 86.0   \n",
       "\n",
       "   air_time  flights  distance  carrier_delay  weather_delay  nas_delay  \\\n",
       "0     138.0        1      1066            NaN            NaN        NaN   \n",
       "1      71.0        1       436            NaN            NaN        NaN   \n",
       "2      53.0        1       302            NaN            NaN        NaN   \n",
       "3      63.0        1       407            NaN            NaN        NaN   \n",
       "4      72.0        1       495            NaN            NaN        NaN   \n",
       "\n",
       "   security_delay  late_aircraft_delay  first_dep_time  total_add_gtime  \\\n",
       "0             NaN                  NaN             NaN              NaN   \n",
       "1             NaN                  NaN             NaN              NaN   \n",
       "2             NaN                  NaN             NaN              NaN   \n",
       "3             NaN                  NaN             NaN              NaN   \n",
       "4             NaN                  NaN             NaN              NaN   \n",
       "\n",
       "   longest_add_gtime  no_name  \n",
       "0                NaN      NaN  \n",
       "1                NaN      NaN  \n",
       "2                NaN      NaN  \n",
       "3                NaN      NaN  \n",
       "4                NaN      NaN  "
      ]
     },
     "execution_count": 4,
     "metadata": {},
     "output_type": "execute_result"
    }
   ],
   "source": [
    "flights_1.head()"
   ]
  },
  {
   "cell_type": "code",
   "execution_count": 5,
   "metadata": {},
   "outputs": [
    {
     "data": {
      "text/html": [
       "<div>\n",
       "<style scoped>\n",
       "    .dataframe tbody tr th:only-of-type {\n",
       "        vertical-align: middle;\n",
       "    }\n",
       "\n",
       "    .dataframe tbody tr th {\n",
       "        vertical-align: top;\n",
       "    }\n",
       "\n",
       "    .dataframe thead th {\n",
       "        text-align: right;\n",
       "    }\n",
       "</style>\n",
       "<table border=\"1\" class=\"dataframe\">\n",
       "  <thead>\n",
       "    <tr style=\"text-align: right;\">\n",
       "      <th></th>\n",
       "      <th>mkt_carrier_fl_num</th>\n",
       "      <th>op_carrier_fl_num</th>\n",
       "      <th>origin_airport_id</th>\n",
       "      <th>dest_airport_id</th>\n",
       "      <th>crs_dep_time</th>\n",
       "      <th>dep_time</th>\n",
       "      <th>dep_delay</th>\n",
       "      <th>taxi_out</th>\n",
       "      <th>wheels_off</th>\n",
       "      <th>wheels_on</th>\n",
       "      <th>taxi_in</th>\n",
       "      <th>crs_arr_time</th>\n",
       "      <th>arr_time</th>\n",
       "      <th>arr_delay</th>\n",
       "      <th>cancelled</th>\n",
       "      <th>diverted</th>\n",
       "      <th>crs_elapsed_time</th>\n",
       "      <th>actual_elapsed_time</th>\n",
       "      <th>air_time</th>\n",
       "      <th>flights</th>\n",
       "      <th>distance</th>\n",
       "      <th>carrier_delay</th>\n",
       "      <th>weather_delay</th>\n",
       "      <th>nas_delay</th>\n",
       "      <th>security_delay</th>\n",
       "      <th>late_aircraft_delay</th>\n",
       "      <th>first_dep_time</th>\n",
       "      <th>total_add_gtime</th>\n",
       "      <th>longest_add_gtime</th>\n",
       "      <th>no_name</th>\n",
       "    </tr>\n",
       "  </thead>\n",
       "  <tbody>\n",
       "    <tr>\n",
       "      <th>count</th>\n",
       "      <td>159961.000000</td>\n",
       "      <td>159961.000000</td>\n",
       "      <td>159961.000000</td>\n",
       "      <td>159961.000000</td>\n",
       "      <td>159961.000000</td>\n",
       "      <td>157456.000000</td>\n",
       "      <td>157396.000000</td>\n",
       "      <td>157305.000000</td>\n",
       "      <td>157307.000000</td>\n",
       "      <td>157242.000000</td>\n",
       "      <td>157240.000000</td>\n",
       "      <td>159961.000000</td>\n",
       "      <td>157304.000000</td>\n",
       "      <td>156904.000000</td>\n",
       "      <td>159961.000000</td>\n",
       "      <td>159961.000000</td>\n",
       "      <td>159961.000000</td>\n",
       "      <td>156938.000000</td>\n",
       "      <td>156876.000000</td>\n",
       "      <td>159961.0</td>\n",
       "      <td>159961.000000</td>\n",
       "      <td>30006.000000</td>\n",
       "      <td>30006.000000</td>\n",
       "      <td>30006.000000</td>\n",
       "      <td>30006.000000</td>\n",
       "      <td>30006.000000</td>\n",
       "      <td>1063.000000</td>\n",
       "      <td>1063.000000</td>\n",
       "      <td>1063.000000</td>\n",
       "      <td>0.0</td>\n",
       "    </tr>\n",
       "    <tr>\n",
       "      <th>mean</th>\n",
       "      <td>2733.833941</td>\n",
       "      <td>2733.827927</td>\n",
       "      <td>12691.153250</td>\n",
       "      <td>12673.365914</td>\n",
       "      <td>1328.890548</td>\n",
       "      <td>1334.127718</td>\n",
       "      <td>10.518565</td>\n",
       "      <td>17.498141</td>\n",
       "      <td>1358.618059</td>\n",
       "      <td>1459.692194</td>\n",
       "      <td>7.687770</td>\n",
       "      <td>1483.098993</td>\n",
       "      <td>1464.231081</td>\n",
       "      <td>5.444909</td>\n",
       "      <td>0.016310</td>\n",
       "      <td>0.002588</td>\n",
       "      <td>137.932859</td>\n",
       "      <td>133.154144</td>\n",
       "      <td>108.025683</td>\n",
       "      <td>1.0</td>\n",
       "      <td>768.983834</td>\n",
       "      <td>20.636273</td>\n",
       "      <td>4.141072</td>\n",
       "      <td>16.071652</td>\n",
       "      <td>0.091415</td>\n",
       "      <td>27.027528</td>\n",
       "      <td>1344.516463</td>\n",
       "      <td>41.082785</td>\n",
       "      <td>40.466604</td>\n",
       "      <td>NaN</td>\n",
       "    </tr>\n",
       "    <tr>\n",
       "      <th>std</th>\n",
       "      <td>1864.051970</td>\n",
       "      <td>1864.214715</td>\n",
       "      <td>1522.691443</td>\n",
       "      <td>1521.415464</td>\n",
       "      <td>489.678493</td>\n",
       "      <td>503.086656</td>\n",
       "      <td>48.676050</td>\n",
       "      <td>9.969041</td>\n",
       "      <td>504.562665</td>\n",
       "      <td>532.107638</td>\n",
       "      <td>6.195948</td>\n",
       "      <td>516.991582</td>\n",
       "      <td>536.355568</td>\n",
       "      <td>50.775570</td>\n",
       "      <td>0.126666</td>\n",
       "      <td>0.050808</td>\n",
       "      <td>71.428902</td>\n",
       "      <td>71.489945</td>\n",
       "      <td>69.542472</td>\n",
       "      <td>0.0</td>\n",
       "      <td>584.696281</td>\n",
       "      <td>65.467117</td>\n",
       "      <td>35.200001</td>\n",
       "      <td>36.628748</td>\n",
       "      <td>2.582176</td>\n",
       "      <td>54.173376</td>\n",
       "      <td>506.650477</td>\n",
       "      <td>36.028926</td>\n",
       "      <td>34.924273</td>\n",
       "      <td>NaN</td>\n",
       "    </tr>\n",
       "    <tr>\n",
       "      <th>min</th>\n",
       "      <td>1.000000</td>\n",
       "      <td>1.000000</td>\n",
       "      <td>10135.000000</td>\n",
       "      <td>10135.000000</td>\n",
       "      <td>1.000000</td>\n",
       "      <td>1.000000</td>\n",
       "      <td>-47.000000</td>\n",
       "      <td>0.000000</td>\n",
       "      <td>1.000000</td>\n",
       "      <td>1.000000</td>\n",
       "      <td>0.000000</td>\n",
       "      <td>1.000000</td>\n",
       "      <td>1.000000</td>\n",
       "      <td>-69.000000</td>\n",
       "      <td>0.000000</td>\n",
       "      <td>0.000000</td>\n",
       "      <td>18.000000</td>\n",
       "      <td>14.000000</td>\n",
       "      <td>8.000000</td>\n",
       "      <td>1.0</td>\n",
       "      <td>27.000000</td>\n",
       "      <td>0.000000</td>\n",
       "      <td>0.000000</td>\n",
       "      <td>0.000000</td>\n",
       "      <td>0.000000</td>\n",
       "      <td>0.000000</td>\n",
       "      <td>8.000000</td>\n",
       "      <td>1.000000</td>\n",
       "      <td>1.000000</td>\n",
       "      <td>NaN</td>\n",
       "    </tr>\n",
       "    <tr>\n",
       "      <th>25%</th>\n",
       "      <td>1121.000000</td>\n",
       "      <td>1121.000000</td>\n",
       "      <td>11292.000000</td>\n",
       "      <td>11292.000000</td>\n",
       "      <td>915.000000</td>\n",
       "      <td>918.000000</td>\n",
       "      <td>-6.000000</td>\n",
       "      <td>11.000000</td>\n",
       "      <td>933.000000</td>\n",
       "      <td>1044.000000</td>\n",
       "      <td>4.000000</td>\n",
       "      <td>1100.000000</td>\n",
       "      <td>1048.000000</td>\n",
       "      <td>-15.000000</td>\n",
       "      <td>0.000000</td>\n",
       "      <td>0.000000</td>\n",
       "      <td>87.000000</td>\n",
       "      <td>82.000000</td>\n",
       "      <td>58.000000</td>\n",
       "      <td>1.0</td>\n",
       "      <td>341.000000</td>\n",
       "      <td>0.000000</td>\n",
       "      <td>0.000000</td>\n",
       "      <td>0.000000</td>\n",
       "      <td>0.000000</td>\n",
       "      <td>0.000000</td>\n",
       "      <td>859.000000</td>\n",
       "      <td>17.000000</td>\n",
       "      <td>17.000000</td>\n",
       "      <td>NaN</td>\n",
       "    </tr>\n",
       "    <tr>\n",
       "      <th>50%</th>\n",
       "      <td>2317.000000</td>\n",
       "      <td>2317.000000</td>\n",
       "      <td>12889.000000</td>\n",
       "      <td>12889.000000</td>\n",
       "      <td>1320.000000</td>\n",
       "      <td>1326.000000</td>\n",
       "      <td>-2.000000</td>\n",
       "      <td>15.000000</td>\n",
       "      <td>1340.000000</td>\n",
       "      <td>1500.000000</td>\n",
       "      <td>6.000000</td>\n",
       "      <td>1511.000000</td>\n",
       "      <td>1503.000000</td>\n",
       "      <td>-6.000000</td>\n",
       "      <td>0.000000</td>\n",
       "      <td>0.000000</td>\n",
       "      <td>119.000000</td>\n",
       "      <td>115.000000</td>\n",
       "      <td>89.000000</td>\n",
       "      <td>1.0</td>\n",
       "      <td>604.000000</td>\n",
       "      <td>0.000000</td>\n",
       "      <td>0.000000</td>\n",
       "      <td>3.000000</td>\n",
       "      <td>0.000000</td>\n",
       "      <td>3.000000</td>\n",
       "      <td>1401.000000</td>\n",
       "      <td>30.000000</td>\n",
       "      <td>30.000000</td>\n",
       "      <td>NaN</td>\n",
       "    </tr>\n",
       "    <tr>\n",
       "      <th>75%</th>\n",
       "      <td>4325.000000</td>\n",
       "      <td>4325.000000</td>\n",
       "      <td>14057.000000</td>\n",
       "      <td>14057.000000</td>\n",
       "      <td>1735.000000</td>\n",
       "      <td>1743.000000</td>\n",
       "      <td>6.000000</td>\n",
       "      <td>20.000000</td>\n",
       "      <td>1759.000000</td>\n",
       "      <td>1908.000000</td>\n",
       "      <td>9.000000</td>\n",
       "      <td>1915.000000</td>\n",
       "      <td>1913.000000</td>\n",
       "      <td>8.000000</td>\n",
       "      <td>0.000000</td>\n",
       "      <td>0.000000</td>\n",
       "      <td>168.000000</td>\n",
       "      <td>163.000000</td>\n",
       "      <td>137.000000</td>\n",
       "      <td>1.0</td>\n",
       "      <td>1005.000000</td>\n",
       "      <td>17.000000</td>\n",
       "      <td>0.000000</td>\n",
       "      <td>20.000000</td>\n",
       "      <td>0.000000</td>\n",
       "      <td>33.000000</td>\n",
       "      <td>1737.500000</td>\n",
       "      <td>52.000000</td>\n",
       "      <td>51.000000</td>\n",
       "      <td>NaN</td>\n",
       "    </tr>\n",
       "    <tr>\n",
       "      <th>max</th>\n",
       "      <td>9391.000000</td>\n",
       "      <td>9391.000000</td>\n",
       "      <td>16869.000000</td>\n",
       "      <td>16869.000000</td>\n",
       "      <td>2359.000000</td>\n",
       "      <td>2400.000000</td>\n",
       "      <td>1671.000000</td>\n",
       "      <td>170.000000</td>\n",
       "      <td>2400.000000</td>\n",
       "      <td>2400.000000</td>\n",
       "      <td>193.000000</td>\n",
       "      <td>2359.000000</td>\n",
       "      <td>2400.000000</td>\n",
       "      <td>1648.000000</td>\n",
       "      <td>1.000000</td>\n",
       "      <td>1.000000</td>\n",
       "      <td>695.000000</td>\n",
       "      <td>685.000000</td>\n",
       "      <td>650.000000</td>\n",
       "      <td>1.0</td>\n",
       "      <td>5095.000000</td>\n",
       "      <td>1484.000000</td>\n",
       "      <td>1236.000000</td>\n",
       "      <td>1243.000000</td>\n",
       "      <td>205.000000</td>\n",
       "      <td>1648.000000</td>\n",
       "      <td>2349.000000</td>\n",
       "      <td>229.000000</td>\n",
       "      <td>229.000000</td>\n",
       "      <td>NaN</td>\n",
       "    </tr>\n",
       "  </tbody>\n",
       "</table>\n",
       "</div>"
      ],
      "text/plain": [
       "       mkt_carrier_fl_num  op_carrier_fl_num  origin_airport_id  \\\n",
       "count       159961.000000      159961.000000      159961.000000   \n",
       "mean          2733.833941        2733.827927       12691.153250   \n",
       "std           1864.051970        1864.214715        1522.691443   \n",
       "min              1.000000           1.000000       10135.000000   \n",
       "25%           1121.000000        1121.000000       11292.000000   \n",
       "50%           2317.000000        2317.000000       12889.000000   \n",
       "75%           4325.000000        4325.000000       14057.000000   \n",
       "max           9391.000000        9391.000000       16869.000000   \n",
       "\n",
       "       dest_airport_id   crs_dep_time       dep_time      dep_delay  \\\n",
       "count    159961.000000  159961.000000  157456.000000  157396.000000   \n",
       "mean      12673.365914    1328.890548    1334.127718      10.518565   \n",
       "std        1521.415464     489.678493     503.086656      48.676050   \n",
       "min       10135.000000       1.000000       1.000000     -47.000000   \n",
       "25%       11292.000000     915.000000     918.000000      -6.000000   \n",
       "50%       12889.000000    1320.000000    1326.000000      -2.000000   \n",
       "75%       14057.000000    1735.000000    1743.000000       6.000000   \n",
       "max       16869.000000    2359.000000    2400.000000    1671.000000   \n",
       "\n",
       "            taxi_out     wheels_off      wheels_on        taxi_in  \\\n",
       "count  157305.000000  157307.000000  157242.000000  157240.000000   \n",
       "mean       17.498141    1358.618059    1459.692194       7.687770   \n",
       "std         9.969041     504.562665     532.107638       6.195948   \n",
       "min         0.000000       1.000000       1.000000       0.000000   \n",
       "25%        11.000000     933.000000    1044.000000       4.000000   \n",
       "50%        15.000000    1340.000000    1500.000000       6.000000   \n",
       "75%        20.000000    1759.000000    1908.000000       9.000000   \n",
       "max       170.000000    2400.000000    2400.000000     193.000000   \n",
       "\n",
       "        crs_arr_time       arr_time      arr_delay      cancelled  \\\n",
       "count  159961.000000  157304.000000  156904.000000  159961.000000   \n",
       "mean     1483.098993    1464.231081       5.444909       0.016310   \n",
       "std       516.991582     536.355568      50.775570       0.126666   \n",
       "min         1.000000       1.000000     -69.000000       0.000000   \n",
       "25%      1100.000000    1048.000000     -15.000000       0.000000   \n",
       "50%      1511.000000    1503.000000      -6.000000       0.000000   \n",
       "75%      1915.000000    1913.000000       8.000000       0.000000   \n",
       "max      2359.000000    2400.000000    1648.000000       1.000000   \n",
       "\n",
       "            diverted  crs_elapsed_time  actual_elapsed_time       air_time  \\\n",
       "count  159961.000000     159961.000000        156938.000000  156876.000000   \n",
       "mean        0.002588        137.932859           133.154144     108.025683   \n",
       "std         0.050808         71.428902            71.489945      69.542472   \n",
       "min         0.000000         18.000000            14.000000       8.000000   \n",
       "25%         0.000000         87.000000            82.000000      58.000000   \n",
       "50%         0.000000        119.000000           115.000000      89.000000   \n",
       "75%         0.000000        168.000000           163.000000     137.000000   \n",
       "max         1.000000        695.000000           685.000000     650.000000   \n",
       "\n",
       "        flights       distance  carrier_delay  weather_delay     nas_delay  \\\n",
       "count  159961.0  159961.000000   30006.000000   30006.000000  30006.000000   \n",
       "mean        1.0     768.983834      20.636273       4.141072     16.071652   \n",
       "std         0.0     584.696281      65.467117      35.200001     36.628748   \n",
       "min         1.0      27.000000       0.000000       0.000000      0.000000   \n",
       "25%         1.0     341.000000       0.000000       0.000000      0.000000   \n",
       "50%         1.0     604.000000       0.000000       0.000000      3.000000   \n",
       "75%         1.0    1005.000000      17.000000       0.000000     20.000000   \n",
       "max         1.0    5095.000000    1484.000000    1236.000000   1243.000000   \n",
       "\n",
       "       security_delay  late_aircraft_delay  first_dep_time  total_add_gtime  \\\n",
       "count    30006.000000         30006.000000     1063.000000      1063.000000   \n",
       "mean         0.091415            27.027528     1344.516463        41.082785   \n",
       "std          2.582176            54.173376      506.650477        36.028926   \n",
       "min          0.000000             0.000000        8.000000         1.000000   \n",
       "25%          0.000000             0.000000      859.000000        17.000000   \n",
       "50%          0.000000             3.000000     1401.000000        30.000000   \n",
       "75%          0.000000            33.000000     1737.500000        52.000000   \n",
       "max        205.000000          1648.000000     2349.000000       229.000000   \n",
       "\n",
       "       longest_add_gtime  no_name  \n",
       "count        1063.000000      0.0  \n",
       "mean           40.466604      NaN  \n",
       "std            34.924273      NaN  \n",
       "min             1.000000      NaN  \n",
       "25%            17.000000      NaN  \n",
       "50%            30.000000      NaN  \n",
       "75%            51.000000      NaN  \n",
       "max           229.000000      NaN  "
      ]
     },
     "execution_count": 5,
     "metadata": {},
     "output_type": "execute_result"
    }
   ],
   "source": [
    "flights_1.describe()"
   ]
  },
  {
   "cell_type": "markdown",
   "metadata": {},
   "source": [
    "#### **Task 1**: Test the hypothesis that the delay is from Normal distribution. and that **mean** of the delay is 0. Be careful about the outliers."
   ]
  },
  {
   "cell_type": "code",
   "execution_count": 74,
   "metadata": {},
   "outputs": [],
   "source": [
    "delay = flights_1.arr_delay#.sample(5000)"
   ]
  },
  {
   "cell_type": "code",
   "execution_count": 75,
   "metadata": {},
   "outputs": [
    {
     "data": {
      "text/plain": [
       "3057"
      ]
     },
     "execution_count": 75,
     "metadata": {},
     "output_type": "execute_result"
    }
   ],
   "source": [
    "delay.isnull().sum()"
   ]
  },
  {
   "cell_type": "code",
   "execution_count": 76,
   "metadata": {},
   "outputs": [],
   "source": [
    "delay_nona = delay.dropna()"
   ]
  },
  {
   "cell_type": "code",
   "execution_count": 77,
   "metadata": {
    "scrolled": true
   },
   "outputs": [
    {
     "data": {
      "image/png": "[encoded data removed]",
      "text/plain": [
       "<Figure size 1440x720 with 1 Axes>"
      ]
     },
     "metadata": {
      "needs_background": "light"
     },
     "output_type": "display_data"
    }
   ],
   "source": [
    "plt.figure(figsize=(20,10))\n",
    "plt.hist(delay_nona, bins = 500)\n",
    "plt.show()"
   ]
  },
  {
   "cell_type": "code",
   "execution_count": 82,
   "metadata": {},
   "outputs": [],
   "source": [
    "delay_sample = delay_nona.sample(5000)"
   ]
  },
  {
   "cell_type": "code",
   "execution_count": 83,
   "metadata": {
    "scrolled": true
   },
   "outputs": [
    {
     "data": {
      "text/plain": [
       "0.0"
      ]
     },
     "execution_count": 83,
     "metadata": {},
     "output_type": "execute_result"
    }
   ],
   "source": [
    " stats.shapiro(delay_sample).pvalue"
   ]
  },
  {
   "cell_type": "code",
   "execution_count": 84,
   "metadata": {
    "scrolled": true
   },
   "outputs": [
    {
     "data": {
      "image/png": "[encoded data removed]",
      "text/plain": [
       "<Figure size 432x288 with 1 Axes>"
      ]
     },
     "metadata": {
      "needs_background": "light"
     },
     "output_type": "display_data"
    }
   ],
   "source": [
    "from statsmodels.graphics.gofplots import qqplot\n",
    "from matplotlib import pyplot\n",
    "\n",
    "\n",
    "qqplot(delay_sample, line='s')\n",
    "pyplot.show()"
   ]
  },
  {
   "cell_type": "code",
   "execution_count": 85,
   "metadata": {},
   "outputs": [],
   "source": [
    "conf_int = stats.norm.interval(0.68, loc=delay_sample.mean(), \n",
    "    scale=delay_sample.std())"
   ]
  },
  {
   "cell_type": "code",
   "execution_count": 89,
   "metadata": {},
   "outputs": [
    {
     "data": {
      "text/plain": [
       "5.3608"
      ]
     },
     "execution_count": 89,
     "metadata": {},
     "output_type": "execute_result"
    }
   ],
   "source": [
    "delay_sample.mean()"
   ]
  },
  {
   "cell_type": "code",
   "execution_count": 90,
   "metadata": {},
   "outputs": [
    {
     "data": {
      "text/plain": [
       "50.4902810158095"
      ]
     },
     "execution_count": 90,
     "metadata": {},
     "output_type": "execute_result"
    }
   ],
   "source": [
    "delay_sample.std()"
   ]
  },
  {
   "cell_type": "code",
   "execution_count": 91,
   "metadata": {},
   "outputs": [
    {
     "data": {
      "text/plain": [
       "(-44.849657981647496, 55.57125798164751)"
      ]
     },
     "execution_count": 91,
     "metadata": {},
     "output_type": "execute_result"
    }
   ],
   "source": [
    "conf_int"
   ]
  },
  {
   "cell_type": "code",
   "execution_count": 92,
   "metadata": {},
   "outputs": [],
   "source": [
    "delay_2 = delay_sample[delay_sample<delay.std()*3]"
   ]
  },
  {
   "cell_type": "code",
   "execution_count": 93,
   "metadata": {},
   "outputs": [
    {
     "data": {
      "text/plain": [
       "27.750432968889463"
      ]
     },
     "execution_count": 93,
     "metadata": {},
     "output_type": "execute_result"
    }
   ],
   "source": [
    "delay_2.std()"
   ]
  },
  {
   "cell_type": "code",
   "execution_count": 94,
   "metadata": {},
   "outputs": [
    {
     "data": {
      "text/plain": [
       "1.1375177737152142"
      ]
     },
     "execution_count": 94,
     "metadata": {},
     "output_type": "execute_result"
    }
   ],
   "source": [
    "delay_2.mean()"
   ]
  },
  {
   "cell_type": "code",
   "execution_count": 95,
   "metadata": {},
   "outputs": [
    {
     "data": {
      "image/png": "[encoded data removed]",
      "text/plain": [
       "<Figure size 1440x720 with 1 Axes>"
      ]
     },
     "metadata": {
      "needs_background": "light"
     },
     "output_type": "display_data"
    }
   ],
   "source": [
    "plt.figure(figsize=(20,10))\n",
    "plt.hist(delay_2, bins = 500)\n",
    "plt.show()"
   ]
  },
  {
   "cell_type": "code",
   "execution_count": 96,
   "metadata": {
    "scrolled": true
   },
   "outputs": [
    {
     "data": {
      "text/plain": [
       "0.0"
      ]
     },
     "execution_count": 96,
     "metadata": {},
     "output_type": "execute_result"
    }
   ],
   "source": [
    " stats.shapiro(delay_2).pvalue"
   ]
  },
  {
   "cell_type": "code",
   "execution_count": 97,
   "metadata": {},
   "outputs": [
    {
     "data": {
      "image/png": "[encoded data removed]",
      "text/plain": [
       "<Figure size 432x288 with 1 Axes>"
      ]
     },
     "metadata": {
      "needs_background": "light"
     },
     "output_type": "display_data"
    }
   ],
   "source": [
    "from statsmodels.graphics.gofplots import qqplot\n",
    "from matplotlib import pyplot\n",
    "\n",
    "\n",
    "qqplot(delay_2, line='s')\n",
    "pyplot.show()"
   ]
  },
  {
   "cell_type": "code",
   "execution_count": 546,
   "metadata": {},
   "outputs": [
    {
     "data": {
      "text/plain": [
       "(0.3337829006150791, -67.6819818680994, 64.7387124939551)"
      ]
     },
     "execution_count": 546,
     "metadata": {},
     "output_type": "execute_result"
    }
   ],
   "source": [
    "stats.lognorm.fit(delay_2)"
   ]
  },
  {
   "cell_type": "code",
   "execution_count": null,
   "metadata": {},
   "outputs": [],
   "source": []
  },
  {
   "cell_type": "code",
   "execution_count": 103,
   "metadata": {
    "scrolled": true
   },
   "outputs": [
    {
     "data": {
      "text/plain": [
       "KstestResult(statistic=0.10936463632755633, pvalue=9.780758275162914e-52)"
      ]
     },
     "execution_count": 103,
     "metadata": {},
     "output_type": "execute_result"
    }
   ],
   "source": [
    "#stats.kstest(delay_2, 'lognorm')\n",
    "stats.kstest(delay_2, 'lognorm',stats.lognorm.fit(delay_2))\n"
   ]
  },
  {
   "cell_type": "code",
   "execution_count": 104,
   "metadata": {
    "scrolled": true
   },
   "outputs": [
    {
     "data": {
      "text/plain": [
       "(3.8137316181437577, -65.00000029858205, 0.6200412770042235)"
      ]
     },
     "execution_count": 104,
     "metadata": {},
     "output_type": "execute_result"
    }
   ],
   "source": [
    "stats.lognorm.fit(delay_sample)"
   ]
  },
  {
   "cell_type": "code",
   "execution_count": 105,
   "metadata": {},
   "outputs": [
    {
     "data": {
      "text/plain": [
       "KstestResult(statistic=0.8366536372618466, pvalue=0.0)"
      ]
     },
     "execution_count": 105,
     "metadata": {},
     "output_type": "execute_result"
    }
   ],
   "source": [
    "stats.kstest(delay_2, 'lognorm',stats.lognorm.fit(delay_sample))"
   ]
  },
  {
   "cell_type": "code",
   "execution_count": 107,
   "metadata": {
    "scrolled": true
   },
   "outputs": [
    {
     "data": {
      "text/plain": [
       "0.0"
      ]
     },
     "execution_count": 107,
     "metadata": {},
     "output_type": "execute_result"
    }
   ],
   "source": [
    "stats.normaltest(delay_sample).pvalue"
   ]
  },
  {
   "cell_type": "code",
   "execution_count": 108,
   "metadata": {},
   "outputs": [
    {
     "data": {
      "text/plain": [
       "0.0"
      ]
     },
     "execution_count": 108,
     "metadata": {},
     "output_type": "execute_result"
    }
   ],
   "source": [
    "stats.normaltest(delay_2).pvalue"
   ]
  },
  {
   "cell_type": "markdown",
   "metadata": {},
   "source": [
    "#### **Task 2**: Is average/median monthly delay different during the year? If yes, which are months with the biggest delays and what could be the reason?"
   ]
  },
  {
   "cell_type": "code",
   "execution_count": 109,
   "metadata": {},
   "outputs": [],
   "source": [
    "flights_1_copy = flights_1.copy()"
   ]
  },
  {
   "cell_type": "code",
   "execution_count": 110,
   "metadata": {},
   "outputs": [],
   "source": [
    "flights_1_copy['month']=flights_1_copy.fl_date"
   ]
  },
  {
   "cell_type": "code",
   "execution_count": 111,
   "metadata": {
    "scrolled": true
   },
   "outputs": [],
   "source": [
    "flights_1_copy.month = flights_1_copy.month.map(lambda v: int(v[5:7]))\n"
   ]
  },
  {
   "cell_type": "code",
   "execution_count": 117,
   "metadata": {},
   "outputs": [],
   "source": [
    "month_v_delays = flights_1_copy[['month','arr_delay']]"
   ]
  },
  {
   "cell_type": "code",
   "execution_count": 118,
   "metadata": {
    "scrolled": true
   },
   "outputs": [
    {
     "data": {
      "image/png": "[encoded data removed]",
      "text/plain": [
       "<Figure size 360x360 with 1 Axes>"
      ]
     },
     "metadata": {},
     "output_type": "display_data"
    }
   ],
   "source": [
    "import seaborn as sns; sns.set_theme(color_codes=True)\n",
    "\n",
    "g = sns.lmplot(x=\"month\", y=\"arr_delay\", data=month_v_delays)"
   ]
  },
  {
   "cell_type": "code",
   "execution_count": 130,
   "metadata": {},
   "outputs": [],
   "source": [
    "flights_1_copy_month1 = flights_1_copy[flights_1_copy.month==1].arr_delay.dropna()\n",
    "flights_1_copy_month2 = flights_1_copy[flights_1_copy.month==2].arr_delay.dropna()\n",
    "flights_1_copy_month3 = flights_1_copy[flights_1_copy.month==3].arr_delay.dropna()\n",
    "flights_1_copy_month4 = flights_1_copy[flights_1_copy.month==4].arr_delay.dropna()\n",
    "flights_1_copy_month5 = flights_1_copy[flights_1_copy.month==5].arr_delay.dropna()\n",
    "flights_1_copy_month6 = flights_1_copy[flights_1_copy.month==6].arr_delay.dropna()\n",
    "flights_1_copy_month7 = flights_1_copy[flights_1_copy.month==7].arr_delay.dropna()\n",
    "flights_1_copy_month8 = flights_1_copy[flights_1_copy.month==8].arr_delay.dropna()\n",
    "flights_1_copy_month9 = flights_1_copy[flights_1_copy.month==9].arr_delay.dropna()\n",
    "flights_1_copy_month10 = flights_1_copy[flights_1_copy.month==10].arr_delay.dropna()\n",
    "flights_1_copy_month11 = flights_1_copy[flights_1_copy.month==11].arr_delay.dropna()\n",
    "flights_1_copy_month12 = flights_1_copy[flights_1_copy.month==12].arr_delay.dropna()\n"
   ]
  },
  {
   "cell_type": "code",
   "execution_count": 134,
   "metadata": {},
   "outputs": [
    {
     "data": {
      "text/plain": [
       "1.3124775867467312e-90"
      ]
     },
     "execution_count": 134,
     "metadata": {},
     "output_type": "execute_result"
    }
   ],
   "source": [
    "stats.f_oneway(flights_1_copy_month1,\n",
    "             flights_1_copy_month2,\n",
    "             flights_1_copy_month3,\n",
    "             flights_1_copy_month4,\n",
    "             flights_1_copy_month5,\n",
    "             flights_1_copy_month6,\n",
    "             flights_1_copy_month7,\n",
    "             flights_1_copy_month8,\n",
    "             flights_1_copy_month9,\n",
    "             flights_1_copy_month10,\n",
    "             flights_1_copy_month11,\n",
    "             flights_1_copy_month12).pvalue"
   ]
  },
  {
   "cell_type": "code",
   "execution_count": 549,
   "metadata": {},
   "outputs": [
    {
     "name": "stdout",
     "output_type": "stream",
     "text": [
      "Mean of Jan:  4.045409592879512 \n",
      " Mean of Feb:  5.850384441429218 \n",
      " Mean of Mar:  3.911124501016796 \n",
      " Mean of Apr:  4.774859144205878 \n",
      " Mean of May:  6.772097575666315 \n",
      " Mean of Jun:  9.561670109176749 \n",
      " Mean of Jul:  8.600245735761781 \n",
      " Mean of Aug:  9.695371367061357 \n",
      " Mean of Sep:  0.441340349791054 \n",
      " Mean of Oct:  2.992882823391298 \n",
      " Mean of Nov:  3.4523443504996156 \n",
      " Mean of Dec:  4.633241967412822 \n",
      " \n",
      "\n",
      "Std of Jan:  51.23429131824918 \n",
      " Std of Feb:  49.99592034728438 \n",
      " Std of Mar:  51.75449695170088 \n",
      " Std of Apr:  49.645154659224524 \n",
      " Std of May:  50.0818719348212 \n",
      " Std of Jun:  52.36012505680034 \n",
      " Std of Jul:  54.50448200531263 \n",
      " Std of Aug:  58.972393603850364 \n",
      " Std of Sep:  39.98932993278864 \n",
      " Std of Oct:  46.871719088493904 \n",
      " Std of Nov:  51.19862923103246 \n",
      " Std of Dec:  48.74629731641367\n"
     ]
    }
   ],
   "source": [
    "print('Mean of Jan: ',flights_1_copy_month1.mean(),'\\n',\n",
    "             'Mean of Feb: ',flights_1_copy_month2.mean(),'\\n',\n",
    "             'Mean of Mar: ',flights_1_copy_month3.mean(),'\\n',\n",
    "             'Mean of Apr: ',flights_1_copy_month4.mean(),'\\n',\n",
    "             'Mean of May: ',flights_1_copy_month5.mean(),'\\n',\n",
    "             'Mean of Jun: ',flights_1_copy_month6.mean(),'\\n',\n",
    "             'Mean of Jul: ',flights_1_copy_month7.mean(),'\\n',\n",
    "             'Mean of Aug: ',flights_1_copy_month8.mean(),'\\n',\n",
    "             'Mean of Sep: ',flights_1_copy_month9.mean(),'\\n',\n",
    "             'Mean of Oct: ',flights_1_copy_month10.mean(),'\\n',\n",
    "             'Mean of Nov: ',flights_1_copy_month11.mean(),'\\n',\n",
    "             'Mean of Dec: ',flights_1_copy_month12.mean(),'\\n',\n",
    "             '\\n')\n",
    "print('Std of Jan: ',flights_1_copy_month1.std(),'\\n',\n",
    "             'Std of Feb: ',flights_1_copy_month2.std(),'\\n',\n",
    "             'Std of Mar: ',flights_1_copy_month3.std(),'\\n',\n",
    "             'Std of Apr: ',flights_1_copy_month4.std(),'\\n',\n",
    "             'Std of May: ',flights_1_copy_month5.std(),'\\n',\n",
    "             'Std of Jun: ',flights_1_copy_month6.std(),'\\n',\n",
    "             'Std of Jul: ',flights_1_copy_month7.std(),'\\n',\n",
    "             'Std of Aug: ',flights_1_copy_month8.std(),'\\n',\n",
    "             'Std of Sep: ',flights_1_copy_month9.std(),'\\n',\n",
    "             'Std of Oct: ',flights_1_copy_month10.std(),'\\n',\n",
    "             'Std of Nov: ',flights_1_copy_month11.std(),'\\n',\n",
    "             'Std of Dec: ',flights_1_copy_month12.std())"
   ]
  },
  {
   "cell_type": "markdown",
   "metadata": {},
   "source": [
    "#### **Task 3**: Does the weather affect the delay? \n",
    "Use the API to pull the weather information for flights. There is no need to get weather for ALL flights. We can choose the right representative sample. Let's focus on four weather types:\n",
    "- sunny\n",
    "- cloudy\n",
    "- rainy\n",
    "- snow.\n",
    "Test the hypothesis that these 4 delays are from the same distribution. If they are not, which ones are significantly different?"
   ]
  },
  {
   "cell_type": "code",
   "execution_count": null,
   "metadata": {},
   "outputs": [],
   "source": []
  },
  {
   "cell_type": "code",
   "execution_count": null,
   "metadata": {},
   "outputs": [],
   "source": []
  },
  {
   "cell_type": "markdown",
   "metadata": {},
   "source": [
    "#### **Task 4**: How taxi times changing during the day? Does higher traffic lead to bigger taxi times?"
   ]
  },
  {
   "cell_type": "code",
   "execution_count": null,
   "metadata": {},
   "outputs": [],
   "source": []
  },
  {
   "cell_type": "code",
   "execution_count": null,
   "metadata": {},
   "outputs": [],
   "source": []
  },
  {
   "cell_type": "markdown",
   "metadata": {},
   "source": [
    "#### **Task 5**: What is the average percentage of delays that is already created before departure? (aka are arrival delays caused by departure delays?) Are airlines able to lower the delay during the flights?"
   ]
  },
  {
   "cell_type": "code",
   "execution_count": null,
   "metadata": {},
   "outputs": [],
   "source": []
  },
  {
   "cell_type": "code",
   "execution_count": null,
   "metadata": {},
   "outputs": [],
   "source": []
  },
  {
   "cell_type": "markdown",
   "metadata": {},
   "source": [
    "#### **Task 6**: How many states cover 50% of US air traffic? "
   ]
  },
  {
   "cell_type": "code",
   "execution_count": 199,
   "metadata": {},
   "outputs": [],
   "source": [
    "flights_1_copy2 = flights_1.copy()"
   ]
  },
  {
   "cell_type": "code",
   "execution_count": 200,
   "metadata": {},
   "outputs": [],
   "source": [
    "flights_1_copy2['State'] = flights_1_copy2['origin_city_name'].str.extract(pat = ', (..)')"
   ]
  },
  {
   "cell_type": "code",
   "execution_count": 203,
   "metadata": {
    "scrolled": true
   },
   "outputs": [
    {
     "data": {
      "text/plain": [
       "array(['WI', 'LA', 'CA', 'OK', 'OR', 'AZ', 'TX', 'UT', 'MO', 'FL', 'NY',\n",
       "       'NC', 'TN', 'PR', 'DC', 'WA', 'HI', 'SC', 'IL', 'GA', 'CO', 'PA',\n",
       "       'MI', 'OH', 'AR', 'NV', 'IA', 'AL', 'VA', 'MS', 'NJ', 'MA', 'MN',\n",
       "       'NM', 'IN', 'ID', 'MD', 'KY', 'MT', 'KS', 'AK', 'CT', 'ME', 'TT',\n",
       "       'ND', 'NH', 'WY', 'NE', 'SD', 'VT', 'VI', 'RI', 'WV'], dtype=object)"
      ]
     },
     "execution_count": 203,
     "metadata": {},
     "output_type": "execute_result"
    }
   ],
   "source": [
    "flights_1_copy2.State.unique()"
   ]
  },
  {
   "cell_type": "code",
   "execution_count": 204,
   "metadata": {},
   "outputs": [
    {
     "data": {
      "text/plain": [
       "159961"
      ]
     },
     "execution_count": 204,
     "metadata": {},
     "output_type": "execute_result"
    }
   ],
   "source": [
    "len(flights_1_copy2)"
   ]
  },
  {
   "cell_type": "code",
   "execution_count": 223,
   "metadata": {
    "scrolled": true
   },
   "outputs": [
    {
     "data": {
      "text/plain": [
       "State\n",
       "CA    17531\n",
       "TX    15726\n",
       "FL    11508\n",
       "IL    10228\n",
       "GA     8286\n",
       "NY     8132\n",
       "NC     7464\n",
       "CO     6249\n",
       "PA     4860\n",
       "DC     4770\n",
       "WA     4576\n",
       "MI     4569\n",
       "AZ     4278\n",
       "NV     3822\n",
       "OH     3596\n",
       "MN     3458\n",
       "NJ     3331\n",
       "MA     3140\n",
       "MO     2957\n",
       "TN     2802\n",
       "UT     2585\n",
       "HI     2463\n",
       "OR     2259\n",
       "MD     2105\n",
       "LA     1724\n",
       "VA     1561\n",
       "IN     1480\n",
       "SC     1444\n",
       "WI     1402\n",
       "OK      922\n",
       "AL      887\n",
       "AK      823\n",
       "KY      789\n",
       "NE      696\n",
       "ID      688\n",
       "AR      675\n",
       "NM      619\n",
       "MT      615\n",
       "PR      589\n",
       "CT      588\n",
       "IA      568\n",
       "ND      450\n",
       "ME      408\n",
       "RI      373\n",
       "KS      338\n",
       "MS      336\n",
       "SD      325\n",
       "NH      244\n",
       "VT      243\n",
       "WY      199\n",
       "WV      152\n",
       "VI       84\n",
       "TT       44\n",
       "Name: mkt_carrier_fl_num, dtype: int64"
      ]
     },
     "execution_count": 223,
     "metadata": {},
     "output_type": "execute_result"
    }
   ],
   "source": [
    "flights_1_copy2.groupby('State').mkt_carrier_fl_num.count().sort_values(ascending=False)"
   ]
  },
  {
   "cell_type": "code",
   "execution_count": 225,
   "metadata": {},
   "outputs": [],
   "source": [
    "CA = flights_1_copy2.groupby('State').mkt_carrier_fl_num.count()['CA']/len(flights_1_copy2)"
   ]
  },
  {
   "cell_type": "code",
   "execution_count": 227,
   "metadata": {},
   "outputs": [],
   "source": [
    "TX = flights_1_copy2.groupby('State').mkt_carrier_fl_num.count()['TX']/len(flights_1_copy2)"
   ]
  },
  {
   "cell_type": "code",
   "execution_count": 229,
   "metadata": {},
   "outputs": [],
   "source": [
    "FL = flights_1_copy2.groupby('State').mkt_carrier_fl_num.count()['FL']/len(flights_1_copy2)"
   ]
  },
  {
   "cell_type": "code",
   "execution_count": 231,
   "metadata": {},
   "outputs": [],
   "source": [
    "IL = flights_1_copy2.groupby('State').mkt_carrier_fl_num.count()['IL']/len(flights_1_copy2)"
   ]
  },
  {
   "cell_type": "code",
   "execution_count": 234,
   "metadata": {},
   "outputs": [],
   "source": [
    "GA = flights_1_copy2.groupby('State').mkt_carrier_fl_num.count()['GA']/len(flights_1_copy2)"
   ]
  },
  {
   "cell_type": "code",
   "execution_count": 235,
   "metadata": {},
   "outputs": [],
   "source": [
    "NY = flights_1_copy2.groupby('State').mkt_carrier_fl_num.count()['NY']/len(flights_1_copy2)"
   ]
  },
  {
   "cell_type": "code",
   "execution_count": 236,
   "metadata": {},
   "outputs": [],
   "source": [
    "NC = flights_1_copy2.groupby('State').mkt_carrier_fl_num.count()['NC']/len(flights_1_copy2)"
   ]
  },
  {
   "cell_type": "code",
   "execution_count": 238,
   "metadata": {},
   "outputs": [],
   "source": [
    "CO = flights_1_copy2.groupby('State').mkt_carrier_fl_num.count()['CO']/len(flights_1_copy2)"
   ]
  },
  {
   "cell_type": "code",
   "execution_count": 239,
   "metadata": {},
   "outputs": [
    {
     "data": {
      "text/plain": [
       "0.5321547127112233"
      ]
     },
     "execution_count": 239,
     "metadata": {},
     "output_type": "execute_result"
    }
   ],
   "source": [
    "CA + TX + FL + IL + GA + NY + NC + CO"
   ]
  },
  {
   "cell_type": "markdown",
   "metadata": {},
   "source": [
    "8 States make up 50% of the travel in the United States"
   ]
  },
  {
   "cell_type": "markdown",
   "metadata": {},
   "source": [
    "#### **Task 7**: Test the hypothesis whether planes fly faster when there is the departure delay? "
   ]
  },
  {
   "cell_type": "code",
   "execution_count": 507,
   "metadata": {},
   "outputs": [],
   "source": [
    "flights_1_copy5 = flights_1.copy()"
   ]
  },
  {
   "cell_type": "code",
   "execution_count": 510,
   "metadata": {
    "collapsed": true
   },
   "outputs": [
    {
     "data": {
      "text/plain": [
       "Index(['fl_date', 'mkt_unique_carrier', 'branded_code_share', 'mkt_carrier',\n",
       "       'mkt_carrier_fl_num', 'op_unique_carrier', 'tail_num',\n",
       "       'op_carrier_fl_num', 'origin_airport_id', 'origin', 'origin_city_name',\n",
       "       'dest_airport_id', 'dest', 'dest_city_name', 'crs_dep_time', 'dep_time',\n",
       "       'dep_delay', 'taxi_out', 'wheels_off', 'wheels_on', 'taxi_in',\n",
       "       'crs_arr_time', 'arr_time', 'arr_delay', 'cancelled',\n",
       "       'cancellation_code', 'diverted', 'dup', 'crs_elapsed_time',\n",
       "       'actual_elapsed_time', 'air_time', 'flights', 'distance',\n",
       "       'carrier_delay', 'weather_delay', 'nas_delay', 'security_delay',\n",
       "       'late_aircraft_delay', 'first_dep_time', 'total_add_gtime',\n",
       "       'longest_add_gtime', 'no_name'],\n",
       "      dtype='object')"
      ]
     },
     "execution_count": 510,
     "metadata": {},
     "output_type": "execute_result"
    }
   ],
   "source": [
    "flights_1_copy5.columns"
   ]
  },
  {
   "cell_type": "code",
   "execution_count": 511,
   "metadata": {},
   "outputs": [],
   "source": [
    "flights_1_copy5['flight_speed'] = flights_1_copy5.distance\n",
    "flights_1_copy5.flight_speed = flights_1_copy5.flight_speed/flights_1_copy5.air_time"
   ]
  },
  {
   "cell_type": "code",
   "execution_count": 518,
   "metadata": {},
   "outputs": [],
   "source": [
    "flights_1_copy5 = flights_1_copy5.dropna(subset=['flight_speed'])"
   ]
  },
  {
   "cell_type": "code",
   "execution_count": 523,
   "metadata": {
    "scrolled": true
   },
   "outputs": [
    {
     "data": {
      "text/plain": [
       "0"
      ]
     },
     "execution_count": 523,
     "metadata": {},
     "output_type": "execute_result"
    }
   ],
   "source": [
    "flights_1_copy5.flight_speed.isnull().sum()"
   ]
  },
  {
   "cell_type": "code",
   "execution_count": 526,
   "metadata": {},
   "outputs": [],
   "source": [
    "flights_1_copy5 = flights_1_copy5.dropna(subset=['dep_delay'])"
   ]
  },
  {
   "cell_type": "code",
   "execution_count": 527,
   "metadata": {
    "scrolled": false
   },
   "outputs": [
    {
     "data": {
      "text/plain": [
       "0"
      ]
     },
     "execution_count": 527,
     "metadata": {},
     "output_type": "execute_result"
    }
   ],
   "source": [
    "flights_1_copy5.dep_delay.isnull().sum()"
   ]
  },
  {
   "cell_type": "code",
   "execution_count": 537,
   "metadata": {
    "scrolled": true
   },
   "outputs": [
    {
     "data": {
      "text/plain": [
       "<matplotlib.collections.PathCollection at 0x1745596a0>"
      ]
     },
     "execution_count": 537,
     "metadata": {},
     "output_type": "execute_result"
    },
    {
     "data": {
      "image/png": "[encoded data removed]",
      "text/plain": [
       "<Figure size 432x288 with 1 Axes>"
      ]
     },
     "metadata": {},
     "output_type": "display_data"
    }
   ],
   "source": [
    "x = flights_1_copy5.dep_delay\n",
    "y = flights_1_copy5.flight_speed\n",
    "\n",
    "plt.plot(np.unique(x), np.poly1d(np.polyfit(x, y, 1))(np.unique(x)), color = 'red')\n",
    "plt.scatter(x, y)#, 'o', color='black');\n",
    "#plt.plot(x, w*x, c='red')"
   ]
  },
  {
   "cell_type": "code",
   "execution_count": 538,
   "metadata": {
    "scrolled": true
   },
   "outputs": [
    {
     "name": "stdout",
     "output_type": "stream",
     "text": [
      "9.418699958209476e-05\n"
     ]
    }
   ],
   "source": [
    "correlation_matrix = np.corrcoef(x, y)\n",
    "correlation_xy = correlation_matrix[0,1]\n",
    "r_squared = correlation_xy**2\n",
    "\n",
    "print(r_squared)"
   ]
  },
  {
   "cell_type": "code",
   "execution_count": null,
   "metadata": {},
   "outputs": [],
   "source": []
  },
  {
   "cell_type": "markdown",
   "metadata": {},
   "source": [
    "#### **Task 8**: When (which hour) do most 'LONG', 'SHORT', 'MEDIUM' haul flights take off?"
   ]
  },
  {
   "cell_type": "code",
   "execution_count": 240,
   "metadata": {},
   "outputs": [],
   "source": [
    "flights_1_copy3 = flights_1.copy()"
   ]
  },
  {
   "cell_type": "code",
   "execution_count": 280,
   "metadata": {},
   "outputs": [],
   "source": [
    "sort_flights_1_copy3 = flights_1_copy3[flights_1_copy3.crs_elapsed_time/60<3]\n",
    "medium_flights_1_copy3 = flights_1_copy3[(flights_1_copy3.crs_elapsed_time/60>=3)&(flights_1_copy3.crs_elapsed_time/60<6)]\n",
    "long_flights_1_copy3 = flights_1_copy3[flights_1_copy3.crs_elapsed_time/60>=6]\n"
   ]
  },
  {
   "cell_type": "code",
   "execution_count": 285,
   "metadata": {},
   "outputs": [
    {
     "data": {
      "text/plain": [
       "11.583333333333334"
      ]
     },
     "execution_count": 285,
     "metadata": {},
     "output_type": "execute_result"
    }
   ],
   "source": [
    "(long_flights_1_copy3.crs_elapsed_time/60).max()"
   ]
  },
  {
   "cell_type": "code",
   "execution_count": 295,
   "metadata": {},
   "outputs": [],
   "source": [
    "sort_flight_hours = round(sort_flights_1_copy3.wheels_off/100)\n",
    "medium_flight_hours = round(medium_flights_1_copy3.wheels_off/100)\n",
    "long_flight_hours = round(long_flights_1_copy3.wheels_off/100)"
   ]
  },
  {
   "cell_type": "code",
   "execution_count": 300,
   "metadata": {
    "scrolled": true
   },
   "outputs": [
    {
     "data": {
      "image/png": "[encoded data removed]",
      "text/plain": [
       "<Figure size 1440x720 with 1 Axes>"
      ]
     },
     "metadata": {},
     "output_type": "display_data"
    }
   ],
   "source": [
    "plt.figure(figsize=(20,10))\n",
    "plt.hist(sort_flight_hours, bins = 24)\n",
    "plt.show()"
   ]
  },
  {
   "cell_type": "code",
   "execution_count": 301,
   "metadata": {
    "scrolled": true
   },
   "outputs": [
    {
     "data": {
      "image/png": "[encoded data removed]",
      "text/plain": [
       "<Figure size 1440x720 with 1 Axes>"
      ]
     },
     "metadata": {},
     "output_type": "display_data"
    }
   ],
   "source": [
    "plt.figure(figsize=(20,10))\n",
    "plt.hist(medium_flight_hours, bins = 24)\n",
    "plt.show()"
   ]
  },
  {
   "cell_type": "code",
   "execution_count": 303,
   "metadata": {
    "scrolled": true
   },
   "outputs": [
    {
     "data": {
      "image/png": "[encoded data removed]",
      "text/plain": [
       "<Figure size 1440x720 with 1 Axes>"
      ]
     },
     "metadata": {},
     "output_type": "display_data"
    }
   ],
   "source": [
    "plt.figure(figsize=(20,10))\n",
    "plt.hist(long_flight_hours, bins = 24)\n",
    "plt.show()"
   ]
  },
  {
   "cell_type": "code",
   "execution_count": 308,
   "metadata": {
    "scrolled": true
   },
   "outputs": [
    {
     "data": {
      "text/plain": [
       "0    6.0\n",
       "dtype: float64"
      ]
     },
     "execution_count": 308,
     "metadata": {},
     "output_type": "execute_result"
    }
   ],
   "source": [
    "sort_flight_hours.mode()"
   ]
  },
  {
   "cell_type": "code",
   "execution_count": 310,
   "metadata": {},
   "outputs": [
    {
     "data": {
      "text/plain": [
       "0    7.0\n",
       "dtype: float64"
      ]
     },
     "execution_count": 310,
     "metadata": {},
     "output_type": "execute_result"
    }
   ],
   "source": [
    "medium_flight_hours.mode()"
   ]
  },
  {
   "cell_type": "code",
   "execution_count": 313,
   "metadata": {},
   "outputs": [
    {
     "data": {
      "text/plain": [
       "0    18.0\n",
       "dtype: float64"
      ]
     },
     "execution_count": 313,
     "metadata": {},
     "output_type": "execute_result"
    }
   ],
   "source": [
    "long_flight_hours.mode()"
   ]
  },
  {
   "cell_type": "markdown",
   "metadata": {},
   "source": [
    "#### **Task 9**: Find the top 10 the bussiest airports. Does the biggest number of flights mean that the biggest number of passengers went through the particular airport? How much traffic do these 10 airports cover?"
   ]
  },
  {
   "cell_type": "code",
   "execution_count": null,
   "metadata": {},
   "outputs": [],
   "source": []
  },
  {
   "cell_type": "code",
   "execution_count": null,
   "metadata": {},
   "outputs": [],
   "source": []
  },
  {
   "cell_type": "markdown",
   "metadata": {},
   "source": [
    "#### **Task 10**: Do bigger delays lead to bigger fuel comsumption per passenger? \n",
    "We need to do four things to answer this as accurate as possible:\n",
    "- Find out average monthly delay per air carrier (monthly delay is sum of all delays in 1 month)\n",
    "- Find out distance covered monthly by different air carriers\n",
    "- Find out number of passengers that were carried by different air carriers\n",
    "- Find out total fuel comsumption per air carrier.\n",
    "\n",
    "Use this information to get the average fuel comsumption per passenger per km. Is this higher for the airlines with bigger average delays?"
   ]
  },
  {
   "cell_type": "code",
   "execution_count": 317,
   "metadata": {},
   "outputs": [],
   "source": [
    "flights_1_copy4 = flights_1.copy()\n",
    "fuel_consumption_copy = fuel_consumption.copy()\n",
    "passengers_10_copy = passengers_10.copy()"
   ]
  },
  {
   "cell_type": "code",
   "execution_count": 341,
   "metadata": {},
   "outputs": [],
   "source": [
    "flights_1_copy4['month']=flights_1_copy4.fl_date\n",
    "flights_1_copy4.month = flights_1_copy4.month.map(lambda v: int(v[5:7]))"
   ]
  },
  {
   "cell_type": "markdown",
   "metadata": {},
   "source": [
    "### First Point\n",
    "Find out average monthly delay per air carrier (monthly delay is sum of all delays in 1 month)"
   ]
  },
  {
   "cell_type": "code",
   "execution_count": 600,
   "metadata": {
    "scrolled": false
   },
   "outputs": [],
   "source": [
    "flights_1_op_unique_carrier = list(flights_1_copy4.op_unique_carrier.unique())"
   ]
  },
  {
   "cell_type": "code",
   "execution_count": 392,
   "metadata": {},
   "outputs": [],
   "source": [
    "flights_1_copy4_1 = flights_1_copy4.dropna(subset=['arr_delay'])"
   ]
  },
  {
   "cell_type": "code",
   "execution_count": 599,
   "metadata": {},
   "outputs": [],
   "source": [
    "ave_mon_delay_per_air_car = flights_1_copy4_1.groupby(['op_unique_carrier','month']).arr_delay.mean().groupby('op_unique_carrier').mean()\n",
    "ave_mon_delay_per_air_car = ave_mon_delay_per_air_car.sort_values()\n",
    "\n"
   ]
  },
  {
   "cell_type": "code",
   "execution_count": 553,
   "metadata": {
    "scrolled": true
   },
   "outputs": [
    {
     "data": {
      "text/plain": [
       "<BarContainer object of 28 artists>"
      ]
     },
     "execution_count": 553,
     "metadata": {},
     "output_type": "execute_result"
    },
    {
     "data": {
      "image/png": "[encoded data removed]",
      "text/plain": [
       "<Figure size 1440x720 with 1 Axes>"
      ]
     },
     "metadata": {},
     "output_type": "display_data"
    }
   ],
   "source": [
    "plt.figure(figsize=(20,10))\n",
    "plt.bar(ave_mon_delay_per_air_car.keys(), ave_mon_delay_per_air_car)"
   ]
  },
  {
   "cell_type": "markdown",
   "metadata": {},
   "source": [
    "### Second Point\n",
    "Find out distance covered monthly by different air carriers"
   ]
  },
  {
   "cell_type": "code",
   "execution_count": 598,
   "metadata": {
    "scrolled": true
   },
   "outputs": [],
   "source": [
    "monthly_dist_per_air_car = flights_1_copy4.groupby(['op_unique_carrier','month']).distance.sum().groupby('op_unique_carrier').mean()\n",
    "monthly_dist_per_air_car = monthly_dist_per_air_car.sort_values()\n",
    "\n"
   ]
  },
  {
   "cell_type": "code",
   "execution_count": 551,
   "metadata": {},
   "outputs": [
    {
     "data": {
      "text/plain": [
       "<BarContainer object of 28 artists>"
      ]
     },
     "execution_count": 551,
     "metadata": {},
     "output_type": "execute_result"
    },
    {
     "data": {
      "image/png": "[encoded data removed]",
      "text/plain": [
       "<Figure size 1440x720 with 1 Axes>"
      ]
     },
     "metadata": {},
     "output_type": "display_data"
    }
   ],
   "source": [
    "plt.figure(figsize=(20,10))\n",
    "plt.bar(monthly_dist_per_air_car.keys(), monthly_dist_per_air_car)"
   ]
  },
  {
   "cell_type": "markdown",
   "metadata": {},
   "source": [
    "### Third Point\n",
    "Find out number of passengers that were carried by different air carriers"
   ]
  },
  {
   "cell_type": "code",
   "execution_count": 575,
   "metadata": {},
   "outputs": [],
   "source": [
    "passengers_10_unique_carrier = passengers_10_copy[passengers_10_copy.unique_carrier.isin(flights_1_op_unique_carrier)]\n",
    "passengers_10_unique_carrier = passengers_10_unique_carrier.groupby('unique_carrier').passengers.sum().sort_values()\n"
   ]
  },
  {
   "cell_type": "code",
   "execution_count": 583,
   "metadata": {
    "scrolled": true
   },
   "outputs": [
    {
     "data": {
      "text/plain": [
       "<BarContainer object of 28 artists>"
      ]
     },
     "execution_count": 583,
     "metadata": {},
     "output_type": "execute_result"
    },
    {
     "data": {
      "image/png": "[encoded data removed]",
      "text/plain": [
       "<Figure size 1440x720 with 1 Axes>"
      ]
     },
     "metadata": {},
     "output_type": "display_data"
    }
   ],
   "source": [
    "plt.figure(figsize=(20,10))\n",
    "plt.bar(passengers_10_unique_carrier.keys(), passengers_10_unique_carrier)"
   ]
  },
  {
   "cell_type": "markdown",
   "metadata": {},
   "source": [
    "### Fourth Point\n",
    "Find out total fuel comsumption per air carrier."
   ]
  },
  {
   "cell_type": "code",
   "execution_count": 597,
   "metadata": {},
   "outputs": [],
   "source": [
    "fuel_consumption_unique_carrier = fuel_consumption_copy[fuel_consumption_copy.unique_carrier.isin(flights_1_op_unique_carrier)]\n",
    "fuel_consumption_unique_carrier = fuel_consumption_unique_carrier.groupby('unique_carrier').total_gallons.sum().sort_values()\n"
   ]
  },
  {
   "cell_type": "code",
   "execution_count": 596,
   "metadata": {},
   "outputs": [
    {
     "data": {
      "text/plain": [
       "<BarContainer object of 22 artists>"
      ]
     },
     "execution_count": 596,
     "metadata": {},
     "output_type": "execute_result"
    },
    {
     "data": {
      "image/png": "[encoded data removed]",
      "text/plain": [
       "<Figure size 1440x720 with 1 Axes>"
      ]
     },
     "metadata": {},
     "output_type": "display_data"
    }
   ],
   "source": [
    "plt.figure(figsize=(20,10))\n",
    "plt.bar(fuel_consumption_unique_carrier.keys(), fuel_consumption_unique_carrier)"
   ]
  },
  {
   "cell_type": "code",
   "execution_count": null,
   "metadata": {},
   "outputs": [],
   "source": []
  }
 ],
 "metadata": {
  "kernelspec": {
   "display_name": "Python 3",
   "language": "python",
   "name": "python3"
  },
  "language_info": {
   "codemirror_mode": {
    "name": "ipython",
    "version": 3
   },
   "file_extension": ".py",
   "mimetype": "text/x-python",
   "name": "python",
   "nbconvert_exporter": "python",
   "pygments_lexer": "ipython3",
   "version": "3.8.2"
  },
  "toc": {
   "base_numbering": 1,
   "nav_menu": {},
   "number_sections": true,
   "sideBar": true,
   "skip_h1_title": false,
   "title_cell": "Table of Contents",
   "title_sidebar": "Contents",
   "toc_cell": false,
   "toc_position": {},
   "toc_section_display": true,
   "toc_window_display": false
  },
  "varInspector": {
   "cols": {
    "lenName": 16,
    "lenType": 16,
    "lenVar": 40
   },
   "kernels_config": {
    "python": {
     "delete_cmd_postfix": "",
     "delete_cmd_prefix": "del ",
     "library": "var_list.py",
     "varRefreshCmd": "print(var_dic_list())"
    },
    "r": {
     "delete_cmd_postfix": ") ",
     "delete_cmd_prefix": "rm(",
     "library": "var_list.r",
     "varRefreshCmd": "cat(var_dic_list()) "
    }
   },
   "types_to_exclude": [
    "module",
    "function",
    "builtin_function_or_method",
    "instance",
    "_Feature"
   ],
   "window_display": false
  }
 },
 "nbformat": 4,
 "nbformat_minor": 4
}
