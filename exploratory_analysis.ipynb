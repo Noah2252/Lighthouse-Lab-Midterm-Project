{
 "cells": [
  {
   "cell_type": "markdown",
   "metadata": {},
   "source": [
    "## Exploratory Data Analysis\n",
    "\n",
    "Use this notebook to get familiar with the datasets we have. There is 10 questions we need to answer during the EDA.\n",
    "\n",
    "\n",
    "We shouldn't limit our EDA to these 10 questions. Let's be creative :)."
   ]
  },
  {
   "cell_type": "code",
   "execution_count": 1,
   "metadata": {},
   "outputs": [],
   "source": [
    "import pandas as pd\n",
    "import numpy as np\n",
    "import matplotlib.pyplot as plt\n",
    "from matplotlib import colors\n",
    "from matplotlib.ticker import PercentFormatter\n",
    "\n",
    "import scipy.stats as st\n",
    "\n",
    "import re\n",
    "from statsmodels.graphics.gofplots import qqplot\n",
    "from matplotlib import pyplot\n",
    "import sklearn.preprocessing as pre\n",
    "import requests as req\n",
    "import seaborn as sns\n",
    "\n",
    "import harness"
   ]
  },
  {
   "cell_type": "code",
   "execution_count": 2,
   "metadata": {},
   "outputs": [],
   "source": [
    "flights_1 = pd.read_csv('data/flights_1%.csv')\n",
    "fuel_consumption = pd.read_csv('data/fuel_consumption.csv')\n",
    "passengers_10 = pd.read_csv('data/passengers_10%.csv')\n",
    "test = pd.read_csv('data/test.csv')\n",
    "pd.set_option('display.max_columns', None)"
   ]
  },
  {
   "cell_type": "code",
   "execution_count": 3,
   "metadata": {},
   "outputs": [],
   "source": [
    "flights = pd.read_csv('data/flights_1%.csv')"
   ]
  },
  {
   "cell_type": "code",
   "execution_count": 4,
   "metadata": {},
   "outputs": [
    {
     "data": {
      "text/plain": [
       "Index(['fl_date', 'mkt_unique_carrier', 'branded_code_share', 'mkt_carrier',\n",
       "       'mkt_carrier_fl_num', 'op_unique_carrier', 'tail_num',\n",
       "       'op_carrier_fl_num', 'origin_airport_id', 'origin', 'origin_city_name',\n",
       "       'dest_airport_id', 'dest', 'dest_city_name', 'crs_dep_time', 'dep_time',\n",
       "       'dep_delay', 'taxi_out', 'wheels_off', 'wheels_on', 'taxi_in',\n",
       "       'crs_arr_time', 'arr_time', 'arr_delay', 'cancelled',\n",
       "       'cancellation_code', 'diverted', 'dup', 'crs_elapsed_time',\n",
       "       'actual_elapsed_time', 'air_time', 'flights', 'distance',\n",
       "       'carrier_delay', 'weather_delay', 'nas_delay', 'security_delay',\n",
       "       'late_aircraft_delay', 'first_dep_time', 'total_add_gtime',\n",
       "       'longest_add_gtime', 'no_name'],\n",
       "      dtype='object')"
      ]
     },
     "execution_count": 4,
     "metadata": {},
     "output_type": "execute_result"
    }
   ],
   "source": [
    "flights_1.columns"
   ]
  },
  {
   "cell_type": "code",
   "execution_count": 5,
   "metadata": {
    "scrolled": true
   },
   "outputs": [
    {
     "data": {
      "text/html": [
       "<div>\n",
       "<style scoped>\n",
       "    .dataframe tbody tr th:only-of-type {\n",
       "        vertical-align: middle;\n",
       "    }\n",
       "\n",
       "    .dataframe tbody tr th {\n",
       "        vertical-align: top;\n",
       "    }\n",
       "\n",
       "    .dataframe thead th {\n",
       "        text-align: right;\n",
       "    }\n",
       "</style>\n",
       "<table border=\"1\" class=\"dataframe\">\n",
       "  <thead>\n",
       "    <tr style=\"text-align: right;\">\n",
       "      <th></th>\n",
       "      <th>fl_date</th>\n",
       "      <th>mkt_unique_carrier</th>\n",
       "      <th>branded_code_share</th>\n",
       "      <th>mkt_carrier</th>\n",
       "      <th>mkt_carrier_fl_num</th>\n",
       "      <th>op_unique_carrier</th>\n",
       "      <th>tail_num</th>\n",
       "      <th>op_carrier_fl_num</th>\n",
       "      <th>origin_airport_id</th>\n",
       "      <th>origin</th>\n",
       "      <th>origin_city_name</th>\n",
       "      <th>dest_airport_id</th>\n",
       "      <th>dest</th>\n",
       "      <th>dest_city_name</th>\n",
       "      <th>crs_dep_time</th>\n",
       "      <th>dep_time</th>\n",
       "      <th>dep_delay</th>\n",
       "      <th>taxi_out</th>\n",
       "      <th>wheels_off</th>\n",
       "      <th>wheels_on</th>\n",
       "      <th>taxi_in</th>\n",
       "      <th>crs_arr_time</th>\n",
       "      <th>arr_time</th>\n",
       "      <th>arr_delay</th>\n",
       "      <th>cancelled</th>\n",
       "      <th>cancellation_code</th>\n",
       "      <th>diverted</th>\n",
       "      <th>dup</th>\n",
       "      <th>crs_elapsed_time</th>\n",
       "      <th>actual_elapsed_time</th>\n",
       "      <th>air_time</th>\n",
       "      <th>flights</th>\n",
       "      <th>distance</th>\n",
       "      <th>carrier_delay</th>\n",
       "      <th>weather_delay</th>\n",
       "      <th>nas_delay</th>\n",
       "      <th>security_delay</th>\n",
       "      <th>late_aircraft_delay</th>\n",
       "      <th>first_dep_time</th>\n",
       "      <th>total_add_gtime</th>\n",
       "      <th>longest_add_gtime</th>\n",
       "      <th>no_name</th>\n",
       "    </tr>\n",
       "  </thead>\n",
       "  <tbody>\n",
       "    <tr>\n",
       "      <th>0</th>\n",
       "      <td>2019-12-19</td>\n",
       "      <td>WN</td>\n",
       "      <td>WN</td>\n",
       "      <td>WN</td>\n",
       "      <td>493</td>\n",
       "      <td>WN</td>\n",
       "      <td>N421LV</td>\n",
       "      <td>493</td>\n",
       "      <td>13342</td>\n",
       "      <td>MKE</td>\n",
       "      <td>Milwaukee, WI</td>\n",
       "      <td>13204</td>\n",
       "      <td>MCO</td>\n",
       "      <td>Orlando, FL</td>\n",
       "      <td>1140</td>\n",
       "      <td>1146.0</td>\n",
       "      <td>6.0</td>\n",
       "      <td>9.0</td>\n",
       "      <td>1155.0</td>\n",
       "      <td>1513.0</td>\n",
       "      <td>6.0</td>\n",
       "      <td>1515</td>\n",
       "      <td>1519.0</td>\n",
       "      <td>4.0</td>\n",
       "      <td>0</td>\n",
       "      <td>NaN</td>\n",
       "      <td>0</td>\n",
       "      <td>N</td>\n",
       "      <td>155</td>\n",
       "      <td>153.0</td>\n",
       "      <td>138.0</td>\n",
       "      <td>1</td>\n",
       "      <td>1066</td>\n",
       "      <td>NaN</td>\n",
       "      <td>NaN</td>\n",
       "      <td>NaN</td>\n",
       "      <td>NaN</td>\n",
       "      <td>NaN</td>\n",
       "      <td>NaN</td>\n",
       "      <td>NaN</td>\n",
       "      <td>NaN</td>\n",
       "      <td>NaN</td>\n",
       "    </tr>\n",
       "    <tr>\n",
       "      <th>1</th>\n",
       "      <td>2019-12-19</td>\n",
       "      <td>WN</td>\n",
       "      <td>WN</td>\n",
       "      <td>WN</td>\n",
       "      <td>51</td>\n",
       "      <td>WN</td>\n",
       "      <td>N7719A</td>\n",
       "      <td>51</td>\n",
       "      <td>13495</td>\n",
       "      <td>MSY</td>\n",
       "      <td>New Orleans, LA</td>\n",
       "      <td>11259</td>\n",
       "      <td>DAL</td>\n",
       "      <td>Dallas, TX</td>\n",
       "      <td>1655</td>\n",
       "      <td>1655.0</td>\n",
       "      <td>0.0</td>\n",
       "      <td>10.0</td>\n",
       "      <td>1705.0</td>\n",
       "      <td>1816.0</td>\n",
       "      <td>7.0</td>\n",
       "      <td>1820</td>\n",
       "      <td>1823.0</td>\n",
       "      <td>3.0</td>\n",
       "      <td>0</td>\n",
       "      <td>NaN</td>\n",
       "      <td>0</td>\n",
       "      <td>N</td>\n",
       "      <td>85</td>\n",
       "      <td>88.0</td>\n",
       "      <td>71.0</td>\n",
       "      <td>1</td>\n",
       "      <td>436</td>\n",
       "      <td>NaN</td>\n",
       "      <td>NaN</td>\n",
       "      <td>NaN</td>\n",
       "      <td>NaN</td>\n",
       "      <td>NaN</td>\n",
       "      <td>NaN</td>\n",
       "      <td>NaN</td>\n",
       "      <td>NaN</td>\n",
       "      <td>NaN</td>\n",
       "    </tr>\n",
       "    <tr>\n",
       "      <th>2</th>\n",
       "      <td>2019-12-19</td>\n",
       "      <td>WN</td>\n",
       "      <td>WN</td>\n",
       "      <td>WN</td>\n",
       "      <td>2398</td>\n",
       "      <td>WN</td>\n",
       "      <td>N724SW</td>\n",
       "      <td>2398</td>\n",
       "      <td>13495</td>\n",
       "      <td>MSY</td>\n",
       "      <td>New Orleans, LA</td>\n",
       "      <td>12191</td>\n",
       "      <td>HOU</td>\n",
       "      <td>Houston, TX</td>\n",
       "      <td>610</td>\n",
       "      <td>620.0</td>\n",
       "      <td>10.0</td>\n",
       "      <td>12.0</td>\n",
       "      <td>632.0</td>\n",
       "      <td>725.0</td>\n",
       "      <td>3.0</td>\n",
       "      <td>730</td>\n",
       "      <td>728.0</td>\n",
       "      <td>-2.0</td>\n",
       "      <td>0</td>\n",
       "      <td>NaN</td>\n",
       "      <td>0</td>\n",
       "      <td>N</td>\n",
       "      <td>80</td>\n",
       "      <td>68.0</td>\n",
       "      <td>53.0</td>\n",
       "      <td>1</td>\n",
       "      <td>302</td>\n",
       "      <td>NaN</td>\n",
       "      <td>NaN</td>\n",
       "      <td>NaN</td>\n",
       "      <td>NaN</td>\n",
       "      <td>NaN</td>\n",
       "      <td>NaN</td>\n",
       "      <td>NaN</td>\n",
       "      <td>NaN</td>\n",
       "      <td>NaN</td>\n",
       "    </tr>\n",
       "    <tr>\n",
       "      <th>3</th>\n",
       "      <td>2019-12-19</td>\n",
       "      <td>WN</td>\n",
       "      <td>WN</td>\n",
       "      <td>WN</td>\n",
       "      <td>943</td>\n",
       "      <td>WN</td>\n",
       "      <td>N8685B</td>\n",
       "      <td>943</td>\n",
       "      <td>13796</td>\n",
       "      <td>OAK</td>\n",
       "      <td>Oakland, CA</td>\n",
       "      <td>12889</td>\n",
       "      <td>LAS</td>\n",
       "      <td>Las Vegas, NV</td>\n",
       "      <td>1745</td>\n",
       "      <td>1745.0</td>\n",
       "      <td>0.0</td>\n",
       "      <td>13.0</td>\n",
       "      <td>1758.0</td>\n",
       "      <td>1901.0</td>\n",
       "      <td>5.0</td>\n",
       "      <td>1910</td>\n",
       "      <td>1906.0</td>\n",
       "      <td>-4.0</td>\n",
       "      <td>0</td>\n",
       "      <td>NaN</td>\n",
       "      <td>0</td>\n",
       "      <td>N</td>\n",
       "      <td>85</td>\n",
       "      <td>81.0</td>\n",
       "      <td>63.0</td>\n",
       "      <td>1</td>\n",
       "      <td>407</td>\n",
       "      <td>NaN</td>\n",
       "      <td>NaN</td>\n",
       "      <td>NaN</td>\n",
       "      <td>NaN</td>\n",
       "      <td>NaN</td>\n",
       "      <td>NaN</td>\n",
       "      <td>NaN</td>\n",
       "      <td>NaN</td>\n",
       "      <td>NaN</td>\n",
       "    </tr>\n",
       "    <tr>\n",
       "      <th>4</th>\n",
       "      <td>2019-12-19</td>\n",
       "      <td>WN</td>\n",
       "      <td>WN</td>\n",
       "      <td>WN</td>\n",
       "      <td>2443</td>\n",
       "      <td>WN</td>\n",
       "      <td>N8698B</td>\n",
       "      <td>2443</td>\n",
       "      <td>13851</td>\n",
       "      <td>OKC</td>\n",
       "      <td>Oklahoma City, OK</td>\n",
       "      <td>11292</td>\n",
       "      <td>DEN</td>\n",
       "      <td>Denver, CO</td>\n",
       "      <td>600</td>\n",
       "      <td>558.0</td>\n",
       "      <td>-2.0</td>\n",
       "      <td>8.0</td>\n",
       "      <td>606.0</td>\n",
       "      <td>618.0</td>\n",
       "      <td>6.0</td>\n",
       "      <td>645</td>\n",
       "      <td>624.0</td>\n",
       "      <td>-21.0</td>\n",
       "      <td>0</td>\n",
       "      <td>NaN</td>\n",
       "      <td>0</td>\n",
       "      <td>N</td>\n",
       "      <td>105</td>\n",
       "      <td>86.0</td>\n",
       "      <td>72.0</td>\n",
       "      <td>1</td>\n",
       "      <td>495</td>\n",
       "      <td>NaN</td>\n",
       "      <td>NaN</td>\n",
       "      <td>NaN</td>\n",
       "      <td>NaN</td>\n",
       "      <td>NaN</td>\n",
       "      <td>NaN</td>\n",
       "      <td>NaN</td>\n",
       "      <td>NaN</td>\n",
       "      <td>NaN</td>\n",
       "    </tr>\n",
       "  </tbody>\n",
       "</table>\n",
       "</div>"
      ],
      "text/plain": [
       "      fl_date mkt_unique_carrier branded_code_share mkt_carrier  \\\n",
       "0  2019-12-19                 WN                 WN          WN   \n",
       "1  2019-12-19                 WN                 WN          WN   \n",
       "2  2019-12-19                 WN                 WN          WN   \n",
       "3  2019-12-19                 WN                 WN          WN   \n",
       "4  2019-12-19                 WN                 WN          WN   \n",
       "\n",
       "   mkt_carrier_fl_num op_unique_carrier tail_num  op_carrier_fl_num  \\\n",
       "0                 493                WN   N421LV                493   \n",
       "1                  51                WN   N7719A                 51   \n",
       "2                2398                WN   N724SW               2398   \n",
       "3                 943                WN   N8685B                943   \n",
       "4                2443                WN   N8698B               2443   \n",
       "\n",
       "   origin_airport_id origin   origin_city_name  dest_airport_id dest  \\\n",
       "0              13342    MKE      Milwaukee, WI            13204  MCO   \n",
       "1              13495    MSY    New Orleans, LA            11259  DAL   \n",
       "2              13495    MSY    New Orleans, LA            12191  HOU   \n",
       "3              13796    OAK        Oakland, CA            12889  LAS   \n",
       "4              13851    OKC  Oklahoma City, OK            11292  DEN   \n",
       "\n",
       "  dest_city_name  crs_dep_time  dep_time  dep_delay  taxi_out  wheels_off  \\\n",
       "0    Orlando, FL          1140    1146.0        6.0       9.0      1155.0   \n",
       "1     Dallas, TX          1655    1655.0        0.0      10.0      1705.0   \n",
       "2    Houston, TX           610     620.0       10.0      12.0       632.0   \n",
       "3  Las Vegas, NV          1745    1745.0        0.0      13.0      1758.0   \n",
       "4     Denver, CO           600     558.0       -2.0       8.0       606.0   \n",
       "\n",
       "   wheels_on  taxi_in  crs_arr_time  arr_time  arr_delay  cancelled  \\\n",
       "0     1513.0      6.0          1515    1519.0        4.0          0   \n",
       "1     1816.0      7.0          1820    1823.0        3.0          0   \n",
       "2      725.0      3.0           730     728.0       -2.0          0   \n",
       "3     1901.0      5.0          1910    1906.0       -4.0          0   \n",
       "4      618.0      6.0           645     624.0      -21.0          0   \n",
       "\n",
       "  cancellation_code  diverted dup  crs_elapsed_time  actual_elapsed_time  \\\n",
       "0               NaN         0   N               155                153.0   \n",
       "1               NaN         0   N                85                 88.0   \n",
       "2               NaN         0   N                80                 68.0   \n",
       "3               NaN         0   N                85                 81.0   \n",
       "4               NaN         0   N               105                 86.0   \n",
       "\n",
       "   air_time  flights  distance  carrier_delay  weather_delay  nas_delay  \\\n",
       "0     138.0        1      1066            NaN            NaN        NaN   \n",
       "1      71.0        1       436            NaN            NaN        NaN   \n",
       "2      53.0        1       302            NaN            NaN        NaN   \n",
       "3      63.0        1       407            NaN            NaN        NaN   \n",
       "4      72.0        1       495            NaN            NaN        NaN   \n",
       "\n",
       "   security_delay  late_aircraft_delay  first_dep_time  total_add_gtime  \\\n",
       "0             NaN                  NaN             NaN              NaN   \n",
       "1             NaN                  NaN             NaN              NaN   \n",
       "2             NaN                  NaN             NaN              NaN   \n",
       "3             NaN                  NaN             NaN              NaN   \n",
       "4             NaN                  NaN             NaN              NaN   \n",
       "\n",
       "   longest_add_gtime  no_name  \n",
       "0                NaN      NaN  \n",
       "1                NaN      NaN  \n",
       "2                NaN      NaN  \n",
       "3                NaN      NaN  \n",
       "4                NaN      NaN  "
      ]
     },
     "execution_count": 5,
     "metadata": {},
     "output_type": "execute_result"
    }
   ],
   "source": [
    "flights_1.head()"
   ]
  },
  {
   "cell_type": "code",
   "execution_count": 6,
   "metadata": {},
   "outputs": [
    {
     "data": {
      "text/html": [
       "<div>\n",
       "<style scoped>\n",
       "    .dataframe tbody tr th:only-of-type {\n",
       "        vertical-align: middle;\n",
       "    }\n",
       "\n",
       "    .dataframe tbody tr th {\n",
       "        vertical-align: top;\n",
       "    }\n",
       "\n",
       "    .dataframe thead th {\n",
       "        text-align: right;\n",
       "    }\n",
       "</style>\n",
       "<table border=\"1\" class=\"dataframe\">\n",
       "  <thead>\n",
       "    <tr style=\"text-align: right;\">\n",
       "      <th></th>\n",
       "      <th>mkt_carrier_fl_num</th>\n",
       "      <th>op_carrier_fl_num</th>\n",
       "      <th>origin_airport_id</th>\n",
       "      <th>dest_airport_id</th>\n",
       "      <th>crs_dep_time</th>\n",
       "      <th>dep_time</th>\n",
       "      <th>dep_delay</th>\n",
       "      <th>taxi_out</th>\n",
       "      <th>wheels_off</th>\n",
       "      <th>wheels_on</th>\n",
       "      <th>taxi_in</th>\n",
       "      <th>crs_arr_time</th>\n",
       "      <th>arr_time</th>\n",
       "      <th>arr_delay</th>\n",
       "      <th>cancelled</th>\n",
       "      <th>diverted</th>\n",
       "      <th>crs_elapsed_time</th>\n",
       "      <th>actual_elapsed_time</th>\n",
       "      <th>air_time</th>\n",
       "      <th>flights</th>\n",
       "      <th>distance</th>\n",
       "      <th>carrier_delay</th>\n",
       "      <th>weather_delay</th>\n",
       "      <th>nas_delay</th>\n",
       "      <th>security_delay</th>\n",
       "      <th>late_aircraft_delay</th>\n",
       "      <th>first_dep_time</th>\n",
       "      <th>total_add_gtime</th>\n",
       "      <th>longest_add_gtime</th>\n",
       "      <th>no_name</th>\n",
       "    </tr>\n",
       "  </thead>\n",
       "  <tbody>\n",
       "    <tr>\n",
       "      <th>count</th>\n",
       "      <td>159961.000000</td>\n",
       "      <td>159961.000000</td>\n",
       "      <td>159961.000000</td>\n",
       "      <td>159961.000000</td>\n",
       "      <td>159961.000000</td>\n",
       "      <td>157456.000000</td>\n",
       "      <td>157396.000000</td>\n",
       "      <td>157305.000000</td>\n",
       "      <td>157307.000000</td>\n",
       "      <td>157242.000000</td>\n",
       "      <td>157240.000000</td>\n",
       "      <td>159961.000000</td>\n",
       "      <td>157304.000000</td>\n",
       "      <td>156904.000000</td>\n",
       "      <td>159961.000000</td>\n",
       "      <td>159961.000000</td>\n",
       "      <td>159961.000000</td>\n",
       "      <td>156938.000000</td>\n",
       "      <td>156876.000000</td>\n",
       "      <td>159961.0</td>\n",
       "      <td>159961.000000</td>\n",
       "      <td>30006.000000</td>\n",
       "      <td>30006.000000</td>\n",
       "      <td>30006.000000</td>\n",
       "      <td>30006.000000</td>\n",
       "      <td>30006.000000</td>\n",
       "      <td>1063.000000</td>\n",
       "      <td>1063.000000</td>\n",
       "      <td>1063.000000</td>\n",
       "      <td>0.0</td>\n",
       "    </tr>\n",
       "    <tr>\n",
       "      <th>mean</th>\n",
       "      <td>2733.833941</td>\n",
       "      <td>2733.827927</td>\n",
       "      <td>12691.153250</td>\n",
       "      <td>12673.365914</td>\n",
       "      <td>1328.890548</td>\n",
       "      <td>1334.127718</td>\n",
       "      <td>10.518565</td>\n",
       "      <td>17.498141</td>\n",
       "      <td>1358.618059</td>\n",
       "      <td>1459.692194</td>\n",
       "      <td>7.687770</td>\n",
       "      <td>1483.098993</td>\n",
       "      <td>1464.231081</td>\n",
       "      <td>5.444909</td>\n",
       "      <td>0.016310</td>\n",
       "      <td>0.002588</td>\n",
       "      <td>137.932859</td>\n",
       "      <td>133.154144</td>\n",
       "      <td>108.025683</td>\n",
       "      <td>1.0</td>\n",
       "      <td>768.983834</td>\n",
       "      <td>20.636273</td>\n",
       "      <td>4.141072</td>\n",
       "      <td>16.071652</td>\n",
       "      <td>0.091415</td>\n",
       "      <td>27.027528</td>\n",
       "      <td>1344.516463</td>\n",
       "      <td>41.082785</td>\n",
       "      <td>40.466604</td>\n",
       "      <td>NaN</td>\n",
       "    </tr>\n",
       "    <tr>\n",
       "      <th>std</th>\n",
       "      <td>1864.051970</td>\n",
       "      <td>1864.214715</td>\n",
       "      <td>1522.691443</td>\n",
       "      <td>1521.415464</td>\n",
       "      <td>489.678493</td>\n",
       "      <td>503.086656</td>\n",
       "      <td>48.676050</td>\n",
       "      <td>9.969041</td>\n",
       "      <td>504.562665</td>\n",
       "      <td>532.107638</td>\n",
       "      <td>6.195948</td>\n",
       "      <td>516.991582</td>\n",
       "      <td>536.355568</td>\n",
       "      <td>50.775570</td>\n",
       "      <td>0.126666</td>\n",
       "      <td>0.050808</td>\n",
       "      <td>71.428902</td>\n",
       "      <td>71.489945</td>\n",
       "      <td>69.542472</td>\n",
       "      <td>0.0</td>\n",
       "      <td>584.696281</td>\n",
       "      <td>65.467117</td>\n",
       "      <td>35.200001</td>\n",
       "      <td>36.628748</td>\n",
       "      <td>2.582176</td>\n",
       "      <td>54.173376</td>\n",
       "      <td>506.650477</td>\n",
       "      <td>36.028926</td>\n",
       "      <td>34.924273</td>\n",
       "      <td>NaN</td>\n",
       "    </tr>\n",
       "    <tr>\n",
       "      <th>min</th>\n",
       "      <td>1.000000</td>\n",
       "      <td>1.000000</td>\n",
       "      <td>10135.000000</td>\n",
       "      <td>10135.000000</td>\n",
       "      <td>1.000000</td>\n",
       "      <td>1.000000</td>\n",
       "      <td>-47.000000</td>\n",
       "      <td>0.000000</td>\n",
       "      <td>1.000000</td>\n",
       "      <td>1.000000</td>\n",
       "      <td>0.000000</td>\n",
       "      <td>1.000000</td>\n",
       "      <td>1.000000</td>\n",
       "      <td>-69.000000</td>\n",
       "      <td>0.000000</td>\n",
       "      <td>0.000000</td>\n",
       "      <td>18.000000</td>\n",
       "      <td>14.000000</td>\n",
       "      <td>8.000000</td>\n",
       "      <td>1.0</td>\n",
       "      <td>27.000000</td>\n",
       "      <td>0.000000</td>\n",
       "      <td>0.000000</td>\n",
       "      <td>0.000000</td>\n",
       "      <td>0.000000</td>\n",
       "      <td>0.000000</td>\n",
       "      <td>8.000000</td>\n",
       "      <td>1.000000</td>\n",
       "      <td>1.000000</td>\n",
       "      <td>NaN</td>\n",
       "    </tr>\n",
       "    <tr>\n",
       "      <th>25%</th>\n",
       "      <td>1121.000000</td>\n",
       "      <td>1121.000000</td>\n",
       "      <td>11292.000000</td>\n",
       "      <td>11292.000000</td>\n",
       "      <td>915.000000</td>\n",
       "      <td>918.000000</td>\n",
       "      <td>-6.000000</td>\n",
       "      <td>11.000000</td>\n",
       "      <td>933.000000</td>\n",
       "      <td>1044.000000</td>\n",
       "      <td>4.000000</td>\n",
       "      <td>1100.000000</td>\n",
       "      <td>1048.000000</td>\n",
       "      <td>-15.000000</td>\n",
       "      <td>0.000000</td>\n",
       "      <td>0.000000</td>\n",
       "      <td>87.000000</td>\n",
       "      <td>82.000000</td>\n",
       "      <td>58.000000</td>\n",
       "      <td>1.0</td>\n",
       "      <td>341.000000</td>\n",
       "      <td>0.000000</td>\n",
       "      <td>0.000000</td>\n",
       "      <td>0.000000</td>\n",
       "      <td>0.000000</td>\n",
       "      <td>0.000000</td>\n",
       "      <td>859.000000</td>\n",
       "      <td>17.000000</td>\n",
       "      <td>17.000000</td>\n",
       "      <td>NaN</td>\n",
       "    </tr>\n",
       "    <tr>\n",
       "      <th>50%</th>\n",
       "      <td>2317.000000</td>\n",
       "      <td>2317.000000</td>\n",
       "      <td>12889.000000</td>\n",
       "      <td>12889.000000</td>\n",
       "      <td>1320.000000</td>\n",
       "      <td>1326.000000</td>\n",
       "      <td>-2.000000</td>\n",
       "      <td>15.000000</td>\n",
       "      <td>1340.000000</td>\n",
       "      <td>1500.000000</td>\n",
       "      <td>6.000000</td>\n",
       "      <td>1511.000000</td>\n",
       "      <td>1503.000000</td>\n",
       "      <td>-6.000000</td>\n",
       "      <td>0.000000</td>\n",
       "      <td>0.000000</td>\n",
       "      <td>119.000000</td>\n",
       "      <td>115.000000</td>\n",
       "      <td>89.000000</td>\n",
       "      <td>1.0</td>\n",
       "      <td>604.000000</td>\n",
       "      <td>0.000000</td>\n",
       "      <td>0.000000</td>\n",
       "      <td>3.000000</td>\n",
       "      <td>0.000000</td>\n",
       "      <td>3.000000</td>\n",
       "      <td>1401.000000</td>\n",
       "      <td>30.000000</td>\n",
       "      <td>30.000000</td>\n",
       "      <td>NaN</td>\n",
       "    </tr>\n",
       "    <tr>\n",
       "      <th>75%</th>\n",
       "      <td>4325.000000</td>\n",
       "      <td>4325.000000</td>\n",
       "      <td>14057.000000</td>\n",
       "      <td>14057.000000</td>\n",
       "      <td>1735.000000</td>\n",
       "      <td>1743.000000</td>\n",
       "      <td>6.000000</td>\n",
       "      <td>20.000000</td>\n",
       "      <td>1759.000000</td>\n",
       "      <td>1908.000000</td>\n",
       "      <td>9.000000</td>\n",
       "      <td>1915.000000</td>\n",
       "      <td>1913.000000</td>\n",
       "      <td>8.000000</td>\n",
       "      <td>0.000000</td>\n",
       "      <td>0.000000</td>\n",
       "      <td>168.000000</td>\n",
       "      <td>163.000000</td>\n",
       "      <td>137.000000</td>\n",
       "      <td>1.0</td>\n",
       "      <td>1005.000000</td>\n",
       "      <td>17.000000</td>\n",
       "      <td>0.000000</td>\n",
       "      <td>20.000000</td>\n",
       "      <td>0.000000</td>\n",
       "      <td>33.000000</td>\n",
       "      <td>1737.500000</td>\n",
       "      <td>52.000000</td>\n",
       "      <td>51.000000</td>\n",
       "      <td>NaN</td>\n",
       "    </tr>\n",
       "    <tr>\n",
       "      <th>max</th>\n",
       "      <td>9391.000000</td>\n",
       "      <td>9391.000000</td>\n",
       "      <td>16869.000000</td>\n",
       "      <td>16869.000000</td>\n",
       "      <td>2359.000000</td>\n",
       "      <td>2400.000000</td>\n",
       "      <td>1671.000000</td>\n",
       "      <td>170.000000</td>\n",
       "      <td>2400.000000</td>\n",
       "      <td>2400.000000</td>\n",
       "      <td>193.000000</td>\n",
       "      <td>2359.000000</td>\n",
       "      <td>2400.000000</td>\n",
       "      <td>1648.000000</td>\n",
       "      <td>1.000000</td>\n",
       "      <td>1.000000</td>\n",
       "      <td>695.000000</td>\n",
       "      <td>685.000000</td>\n",
       "      <td>650.000000</td>\n",
       "      <td>1.0</td>\n",
       "      <td>5095.000000</td>\n",
       "      <td>1484.000000</td>\n",
       "      <td>1236.000000</td>\n",
       "      <td>1243.000000</td>\n",
       "      <td>205.000000</td>\n",
       "      <td>1648.000000</td>\n",
       "      <td>2349.000000</td>\n",
       "      <td>229.000000</td>\n",
       "      <td>229.000000</td>\n",
       "      <td>NaN</td>\n",
       "    </tr>\n",
       "  </tbody>\n",
       "</table>\n",
       "</div>"
      ],
      "text/plain": [
       "       mkt_carrier_fl_num  op_carrier_fl_num  origin_airport_id  \\\n",
       "count       159961.000000      159961.000000      159961.000000   \n",
       "mean          2733.833941        2733.827927       12691.153250   \n",
       "std           1864.051970        1864.214715        1522.691443   \n",
       "min              1.000000           1.000000       10135.000000   \n",
       "25%           1121.000000        1121.000000       11292.000000   \n",
       "50%           2317.000000        2317.000000       12889.000000   \n",
       "75%           4325.000000        4325.000000       14057.000000   \n",
       "max           9391.000000        9391.000000       16869.000000   \n",
       "\n",
       "       dest_airport_id   crs_dep_time       dep_time      dep_delay  \\\n",
       "count    159961.000000  159961.000000  157456.000000  157396.000000   \n",
       "mean      12673.365914    1328.890548    1334.127718      10.518565   \n",
       "std        1521.415464     489.678493     503.086656      48.676050   \n",
       "min       10135.000000       1.000000       1.000000     -47.000000   \n",
       "25%       11292.000000     915.000000     918.000000      -6.000000   \n",
       "50%       12889.000000    1320.000000    1326.000000      -2.000000   \n",
       "75%       14057.000000    1735.000000    1743.000000       6.000000   \n",
       "max       16869.000000    2359.000000    2400.000000    1671.000000   \n",
       "\n",
       "            taxi_out     wheels_off      wheels_on        taxi_in  \\\n",
       "count  157305.000000  157307.000000  157242.000000  157240.000000   \n",
       "mean       17.498141    1358.618059    1459.692194       7.687770   \n",
       "std         9.969041     504.562665     532.107638       6.195948   \n",
       "min         0.000000       1.000000       1.000000       0.000000   \n",
       "25%        11.000000     933.000000    1044.000000       4.000000   \n",
       "50%        15.000000    1340.000000    1500.000000       6.000000   \n",
       "75%        20.000000    1759.000000    1908.000000       9.000000   \n",
       "max       170.000000    2400.000000    2400.000000     193.000000   \n",
       "\n",
       "        crs_arr_time       arr_time      arr_delay      cancelled  \\\n",
       "count  159961.000000  157304.000000  156904.000000  159961.000000   \n",
       "mean     1483.098993    1464.231081       5.444909       0.016310   \n",
       "std       516.991582     536.355568      50.775570       0.126666   \n",
       "min         1.000000       1.000000     -69.000000       0.000000   \n",
       "25%      1100.000000    1048.000000     -15.000000       0.000000   \n",
       "50%      1511.000000    1503.000000      -6.000000       0.000000   \n",
       "75%      1915.000000    1913.000000       8.000000       0.000000   \n",
       "max      2359.000000    2400.000000    1648.000000       1.000000   \n",
       "\n",
       "            diverted  crs_elapsed_time  actual_elapsed_time       air_time  \\\n",
       "count  159961.000000     159961.000000        156938.000000  156876.000000   \n",
       "mean        0.002588        137.932859           133.154144     108.025683   \n",
       "std         0.050808         71.428902            71.489945      69.542472   \n",
       "min         0.000000         18.000000            14.000000       8.000000   \n",
       "25%         0.000000         87.000000            82.000000      58.000000   \n",
       "50%         0.000000        119.000000           115.000000      89.000000   \n",
       "75%         0.000000        168.000000           163.000000     137.000000   \n",
       "max         1.000000        695.000000           685.000000     650.000000   \n",
       "\n",
       "        flights       distance  carrier_delay  weather_delay     nas_delay  \\\n",
       "count  159961.0  159961.000000   30006.000000   30006.000000  30006.000000   \n",
       "mean        1.0     768.983834      20.636273       4.141072     16.071652   \n",
       "std         0.0     584.696281      65.467117      35.200001     36.628748   \n",
       "min         1.0      27.000000       0.000000       0.000000      0.000000   \n",
       "25%         1.0     341.000000       0.000000       0.000000      0.000000   \n",
       "50%         1.0     604.000000       0.000000       0.000000      3.000000   \n",
       "75%         1.0    1005.000000      17.000000       0.000000     20.000000   \n",
       "max         1.0    5095.000000    1484.000000    1236.000000   1243.000000   \n",
       "\n",
       "       security_delay  late_aircraft_delay  first_dep_time  total_add_gtime  \\\n",
       "count    30006.000000         30006.000000     1063.000000      1063.000000   \n",
       "mean         0.091415            27.027528     1344.516463        41.082785   \n",
       "std          2.582176            54.173376      506.650477        36.028926   \n",
       "min          0.000000             0.000000        8.000000         1.000000   \n",
       "25%          0.000000             0.000000      859.000000        17.000000   \n",
       "50%          0.000000             3.000000     1401.000000        30.000000   \n",
       "75%          0.000000            33.000000     1737.500000        52.000000   \n",
       "max        205.000000          1648.000000     2349.000000       229.000000   \n",
       "\n",
       "       longest_add_gtime  no_name  \n",
       "count        1063.000000      0.0  \n",
       "mean           40.466604      NaN  \n",
       "std            34.924273      NaN  \n",
       "min             1.000000      NaN  \n",
       "25%            17.000000      NaN  \n",
       "50%            30.000000      NaN  \n",
       "75%            51.000000      NaN  \n",
       "max           229.000000      NaN  "
      ]
     },
     "execution_count": 6,
     "metadata": {},
     "output_type": "execute_result"
    }
   ],
   "source": [
    "flights_1.describe()"
   ]
  },
  {
   "cell_type": "markdown",
   "metadata": {},
   "source": [
    "#### **Task 1**: Test the hypothesis that the delay is from Normal distribution. and that **mean** of the delay is 0. Be careful about the outliers."
   ]
  },
  {
   "cell_type": "code",
   "execution_count": 7,
   "metadata": {},
   "outputs": [],
   "source": [
    "delay = flights_1.arr_delay#.sample(5000)"
   ]
  },
  {
   "cell_type": "code",
   "execution_count": 8,
   "metadata": {},
   "outputs": [
    {
     "data": {
      "text/plain": [
       "3057"
      ]
     },
     "execution_count": 8,
     "metadata": {},
     "output_type": "execute_result"
    }
   ],
   "source": [
    "delay.isnull().sum()"
   ]
  },
  {
   "cell_type": "code",
   "execution_count": 9,
   "metadata": {},
   "outputs": [],
   "source": [
    "delay_nona = delay.dropna()"
   ]
  },
  {
   "cell_type": "code",
   "execution_count": 10,
   "metadata": {
    "scrolled": true
   },
   "outputs": [
    {
     "data": {
      "image/png": "[encoded data removed]",
      "text/plain": [
       "<Figure size 1440x720 with 1 Axes>"
      ]
     },
     "metadata": {
      "needs_background": "light"
     },
     "output_type": "display_data"
    }
   ],
   "source": [
    "plt.figure(figsize=(20,10))\n",
    "plt.hist(delay_nona, bins = 500)\n",
    "plt.show()"
   ]
  },
  {
   "cell_type": "code",
   "execution_count": 11,
   "metadata": {},
   "outputs": [],
   "source": [
    "# yj = pre.PowerTransformer()\n",
    "# yj.fit(delay_nona.values.reshape(-1, 1))\n",
    "# model.save(yj, 'y_normalizer')"
   ]
  },
  {
   "cell_type": "code",
   "execution_count": 13,
   "metadata": {},
   "outputs": [
    {
     "name": "stderr",
     "output_type": "stream",
     "text": [
      "/opt/anaconda3/lib/python3.8/site-packages/sklearn/base.py:310: UserWarning: Trying to unpickle estimator StandardScaler from version 0.23.2 when using version 0.24.1. This might lead to breaking code or invalid results. Use at your own risk.\n",
      "  warnings.warn(\n",
      "/opt/anaconda3/lib/python3.8/site-packages/sklearn/base.py:310: UserWarning: Trying to unpickle estimator PowerTransformer from version 0.23.2 when using version 0.24.1. This might lead to breaking code or invalid results. Use at your own risk.\n",
      "  warnings.warn(\n"
     ]
    }
   ],
   "source": [
    "delay_yj = harness.load('y_normalizer').transform(delay_nona.values.reshape(-1, 1))"
   ]
  },
  {
   "cell_type": "code",
   "execution_count": 14,
   "metadata": {},
   "outputs": [
    {
     "data": {
      "image/png": "[encoded data removed]",
      "text/plain": [
       "<Figure size 432x288 with 1 Axes>"
      ]
     },
     "metadata": {
      "needs_background": "light"
     },
     "output_type": "display_data"
    }
   ],
   "source": [
    "plt.hist(delay_yj, bins = 100)\n",
    "plt.show()"
   ]
  },
  {
   "cell_type": "code",
   "execution_count": 15,
   "metadata": {},
   "outputs": [],
   "source": [
    "delay_sample = delay_nona.sample(5000)"
   ]
  },
  {
   "cell_type": "code",
   "execution_count": 16,
   "metadata": {
    "scrolled": true
   },
   "outputs": [
    {
     "data": {
      "text/plain": [
       "0.0"
      ]
     },
     "execution_count": 16,
     "metadata": {},
     "output_type": "execute_result"
    }
   ],
   "source": [
    " st.shapiro(delay_sample).pvalue"
   ]
  },
  {
   "cell_type": "code",
   "execution_count": 17,
   "metadata": {},
   "outputs": [
    {
     "data": {
      "text/plain": [
       "-6.602580614504577e-17"
      ]
     },
     "execution_count": 17,
     "metadata": {},
     "output_type": "execute_result"
    }
   ],
   "source": [
    "delay_yj.mean()"
   ]
  },
  {
   "cell_type": "code",
   "execution_count": 18,
   "metadata": {},
   "outputs": [
    {
     "data": {
      "text/plain": [
       "0.08269698071442079"
      ]
     },
     "execution_count": 18,
     "metadata": {},
     "output_type": "execute_result"
    }
   ],
   "source": [
    "np.median(delay_yj)"
   ]
  },
  {
   "cell_type": "code",
   "execution_count": 19,
   "metadata": {
    "scrolled": true
   },
   "outputs": [
    {
     "data": {
      "image/png": "[encoded data removed]",
      "text/plain": [
       "<Figure size 432x288 with 1 Axes>"
      ]
     },
     "metadata": {
      "needs_background": "light"
     },
     "output_type": "display_data"
    }
   ],
   "source": [
    "\n",
    "\n",
    "\n",
    "qqplot(delay_sample, line='s')\n",
    "pyplot.show()"
   ]
  },
  {
   "cell_type": "code",
   "execution_count": 20,
   "metadata": {},
   "outputs": [],
   "source": [
    "conf_int = st.norm.interval(0.68, loc=delay_sample.mean(), \n",
    "    scale=delay_sample.std())"
   ]
  },
  {
   "cell_type": "code",
   "execution_count": 21,
   "metadata": {},
   "outputs": [
    {
     "data": {
      "text/plain": [
       "5.66"
      ]
     },
     "execution_count": 21,
     "metadata": {},
     "output_type": "execute_result"
    }
   ],
   "source": [
    "delay_sample.mean()"
   ]
  },
  {
   "cell_type": "code",
   "execution_count": 22,
   "metadata": {},
   "outputs": [
    {
     "data": {
      "text/plain": [
       "57.505876092422334"
      ]
     },
     "execution_count": 22,
     "metadata": {},
     "output_type": "execute_result"
    }
   ],
   "source": [
    "delay_sample.std()"
   ]
  },
  {
   "cell_type": "code",
   "execution_count": 23,
   "metadata": {},
   "outputs": [
    {
     "data": {
      "text/plain": [
       "(-51.527171810992655, 62.84717181099268)"
      ]
     },
     "execution_count": 23,
     "metadata": {},
     "output_type": "execute_result"
    }
   ],
   "source": [
    "conf_int"
   ]
  },
  {
   "cell_type": "code",
   "execution_count": 24,
   "metadata": {},
   "outputs": [],
   "source": [
    "delay_2 = delay_sample[delay_sample<delay.std()*3]"
   ]
  },
  {
   "cell_type": "code",
   "execution_count": 25,
   "metadata": {},
   "outputs": [
    {
     "data": {
      "text/plain": [
       "27.29314419162925"
      ]
     },
     "execution_count": 25,
     "metadata": {},
     "output_type": "execute_result"
    }
   ],
   "source": [
    "delay_2.std()"
   ]
  },
  {
   "cell_type": "code",
   "execution_count": 26,
   "metadata": {},
   "outputs": [
    {
     "data": {
      "text/plain": [
       "0.4821138211382114"
      ]
     },
     "execution_count": 26,
     "metadata": {},
     "output_type": "execute_result"
    }
   ],
   "source": [
    "delay_2.mean()"
   ]
  },
  {
   "cell_type": "code",
   "execution_count": 27,
   "metadata": {},
   "outputs": [
    {
     "data": {
      "image/png": "[encoded data removed]",
      "text/plain": [
       "<Figure size 1440x720 with 1 Axes>"
      ]
     },
     "metadata": {
      "needs_background": "light"
     },
     "output_type": "display_data"
    }
   ],
   "source": [
    "plt.figure(figsize=(20,10))\n",
    "plt.hist(delay_2, bins = 500)\n",
    "plt.show()"
   ]
  },
  {
   "cell_type": "code",
   "execution_count": 28,
   "metadata": {
    "scrolled": true
   },
   "outputs": [
    {
     "data": {
      "text/plain": [
       "0.0"
      ]
     },
     "execution_count": 28,
     "metadata": {},
     "output_type": "execute_result"
    }
   ],
   "source": [
    " st.shapiro(delay_2).pvalue"
   ]
  },
  {
   "cell_type": "code",
   "execution_count": 29,
   "metadata": {},
   "outputs": [
    {
     "data": {
      "image/png": "[encoded data removed]",
      "text/plain": [
       "<Figure size 432x288 with 1 Axes>"
      ]
     },
     "metadata": {
      "needs_background": "light"
     },
     "output_type": "display_data"
    }
   ],
   "source": [
    "qqplot(delay_2, line='s')\n",
    "pyplot.show()"
   ]
  },
  {
   "cell_type": "code",
   "execution_count": 30,
   "metadata": {},
   "outputs": [
    {
     "data": {
      "text/plain": [
       "(0.3381298707645731, -67.18485654661535, 63.59254322684755)"
      ]
     },
     "execution_count": 30,
     "metadata": {},
     "output_type": "execute_result"
    }
   ],
   "source": [
    "st.lognorm.fit(delay_2)"
   ]
  },
  {
   "cell_type": "code",
   "execution_count": 31,
   "metadata": {
    "scrolled": true
   },
   "outputs": [
    {
     "data": {
      "text/plain": [
       "KstestResult(statistic=0.0995127674346713, pvalue=7.265550694385429e-43)"
      ]
     },
     "execution_count": 31,
     "metadata": {},
     "output_type": "execute_result"
    }
   ],
   "source": [
    "#stats.kstest(delay_2, 'lognorm')\n",
    "st.kstest(delay_2, 'lognorm',st.lognorm.fit(delay_2))\n"
   ]
  },
  {
   "cell_type": "code",
   "execution_count": 32,
   "metadata": {
    "scrolled": true
   },
   "outputs": [
    {
     "data": {
      "text/plain": [
       "(3.9523591974608623, -64.00000017616381, 1.0682795514268433)"
      ]
     },
     "execution_count": 32,
     "metadata": {},
     "output_type": "execute_result"
    }
   ],
   "source": [
    "st.lognorm.fit(delay_sample)"
   ]
  },
  {
   "cell_type": "code",
   "execution_count": 33,
   "metadata": {},
   "outputs": [
    {
     "data": {
      "text/plain": [
       "KstestResult(statistic=0.7886614045720475, pvalue=0.0)"
      ]
     },
     "execution_count": 33,
     "metadata": {},
     "output_type": "execute_result"
    }
   ],
   "source": [
    "st.kstest(delay_2, 'lognorm',st.lognorm.fit(delay_sample))\n"
   ]
  },
  {
   "cell_type": "code",
   "execution_count": 34,
   "metadata": {
    "scrolled": true
   },
   "outputs": [
    {
     "data": {
      "text/plain": [
       "0.0"
      ]
     },
     "execution_count": 34,
     "metadata": {},
     "output_type": "execute_result"
    }
   ],
   "source": [
    "st.normaltest(delay_sample).pvalue"
   ]
  },
  {
   "cell_type": "code",
   "execution_count": 35,
   "metadata": {},
   "outputs": [
    {
     "data": {
      "text/plain": [
       "0.0"
      ]
     },
     "execution_count": 35,
     "metadata": {},
     "output_type": "execute_result"
    }
   ],
   "source": [
    "st.normaltest(delay_2).pvalue"
   ]
  },
  {
   "cell_type": "markdown",
   "metadata": {},
   "source": [
    "#### **Task 2**: Is average/median monthly delay different during the year? If yes, which are months with the biggest delays and what could be the reason?"
   ]
  },
  {
   "cell_type": "code",
   "execution_count": 36,
   "metadata": {},
   "outputs": [],
   "source": [
    "flights_1_copy = flights_1.copy()"
   ]
  },
  {
   "cell_type": "code",
   "execution_count": 37,
   "metadata": {},
   "outputs": [],
   "source": [
    "flights_1_copy['month']=flights_1_copy.fl_date"
   ]
  },
  {
   "cell_type": "code",
   "execution_count": 38,
   "metadata": {
    "scrolled": true
   },
   "outputs": [],
   "source": [
    "flights_1_copy.month = flights_1_copy.month.map(lambda v: int(v[5:7]))\n"
   ]
  },
  {
   "cell_type": "code",
   "execution_count": 39,
   "metadata": {},
   "outputs": [],
   "source": [
    "month_v_delays = flights_1_copy[['month','arr_delay']]"
   ]
  },
  {
   "cell_type": "code",
   "execution_count": 40,
   "metadata": {
    "scrolled": true
   },
   "outputs": [
    {
     "data": {
      "image/png": "[encoded data removed]",
      "text/plain": [
       "<Figure size 360x360 with 1 Axes>"
      ]
     },
     "metadata": {},
     "output_type": "display_data"
    }
   ],
   "source": [
    "sns.set_theme(color_codes=True)\n",
    "\n",
    "g = sns.lmplot(x=\"month\", y=\"arr_delay\", data=month_v_delays)"
   ]
  },
  {
   "cell_type": "code",
   "execution_count": 41,
   "metadata": {},
   "outputs": [],
   "source": [
    "flights_1_copy_month1 = flights_1_copy[flights_1_copy.month==1].arr_delay.dropna()\n",
    "flights_1_copy_month2 = flights_1_copy[flights_1_copy.month==2].arr_delay.dropna()\n",
    "flights_1_copy_month3 = flights_1_copy[flights_1_copy.month==3].arr_delay.dropna()\n",
    "flights_1_copy_month4 = flights_1_copy[flights_1_copy.month==4].arr_delay.dropna()\n",
    "flights_1_copy_month5 = flights_1_copy[flights_1_copy.month==5].arr_delay.dropna()\n",
    "flights_1_copy_month6 = flights_1_copy[flights_1_copy.month==6].arr_delay.dropna()\n",
    "flights_1_copy_month7 = flights_1_copy[flights_1_copy.month==7].arr_delay.dropna()\n",
    "flights_1_copy_month8 = flights_1_copy[flights_1_copy.month==8].arr_delay.dropna()\n",
    "flights_1_copy_month9 = flights_1_copy[flights_1_copy.month==9].arr_delay.dropna()\n",
    "flights_1_copy_month10 = flights_1_copy[flights_1_copy.month==10].arr_delay.dropna()\n",
    "flights_1_copy_month11 = flights_1_copy[flights_1_copy.month==11].arr_delay.dropna()\n",
    "flights_1_copy_month12 = flights_1_copy[flights_1_copy.month==12].arr_delay.dropna()\n"
   ]
  },
  {
   "cell_type": "code",
   "execution_count": 42,
   "metadata": {},
   "outputs": [
    {
     "data": {
      "text/plain": [
       "1.3124775867467312e-90"
      ]
     },
     "execution_count": 42,
     "metadata": {},
     "output_type": "execute_result"
    }
   ],
   "source": [
    "st.f_oneway(flights_1_copy_month1,\n",
    "             flights_1_copy_month2,\n",
    "             flights_1_copy_month3,\n",
    "             flights_1_copy_month4,\n",
    "             flights_1_copy_month5,\n",
    "             flights_1_copy_month6,\n",
    "             flights_1_copy_month7,\n",
    "             flights_1_copy_month8,\n",
    "             flights_1_copy_month9,\n",
    "             flights_1_copy_month10,\n",
    "             flights_1_copy_month11,\n",
    "             flights_1_copy_month12).pvalue"
   ]
  },
  {
   "cell_type": "code",
   "execution_count": 43,
   "metadata": {},
   "outputs": [
    {
     "name": "stdout",
     "output_type": "stream",
     "text": [
      "Mean of Jan:  4.045409592879512 \n",
      " Mean of Feb:  5.850384441429218 \n",
      " Mean of Mar:  3.911124501016796 \n",
      " Mean of Apr:  4.774859144205878 \n",
      " Mean of May:  6.772097575666315 \n",
      " Mean of Jun:  9.561670109176749 \n",
      " Mean of Jul:  8.600245735761781 \n",
      " Mean of Aug:  9.695371367061357 \n",
      " Mean of Sep:  0.441340349791054 \n",
      " Mean of Oct:  2.992882823391298 \n",
      " Mean of Nov:  3.4523443504996156 \n",
      " Mean of Dec:  4.633241967412822 \n",
      " \n",
      "\n",
      "Std of Jan:  51.23429131824918 \n",
      " Std of Feb:  49.99592034728438 \n",
      " Std of Mar:  51.75449695170088 \n",
      " Std of Apr:  49.645154659224524 \n",
      " Std of May:  50.0818719348212 \n",
      " Std of Jun:  52.36012505680034 \n",
      " Std of Jul:  54.50448200531263 \n",
      " Std of Aug:  58.972393603850364 \n",
      " Std of Sep:  39.98932993278864 \n",
      " Std of Oct:  46.871719088493904 \n",
      " Std of Nov:  51.19862923103246 \n",
      " Std of Dec:  48.74629731641367\n"
     ]
    }
   ],
   "source": [
    "print('Mean of Jan: ',flights_1_copy_month1.mean(),'\\n',\n",
    "             'Mean of Feb: ',flights_1_copy_month2.mean(),'\\n',\n",
    "             'Mean of Mar: ',flights_1_copy_month3.mean(),'\\n',\n",
    "             'Mean of Apr: ',flights_1_copy_month4.mean(),'\\n',\n",
    "             'Mean of May: ',flights_1_copy_month5.mean(),'\\n',\n",
    "             'Mean of Jun: ',flights_1_copy_month6.mean(),'\\n',\n",
    "             'Mean of Jul: ',flights_1_copy_month7.mean(),'\\n',\n",
    "             'Mean of Aug: ',flights_1_copy_month8.mean(),'\\n',\n",
    "             'Mean of Sep: ',flights_1_copy_month9.mean(),'\\n',\n",
    "             'Mean of Oct: ',flights_1_copy_month10.mean(),'\\n',\n",
    "             'Mean of Nov: ',flights_1_copy_month11.mean(),'\\n',\n",
    "             'Mean of Dec: ',flights_1_copy_month12.mean(),'\\n',\n",
    "             '\\n')\n",
    "print('Std of Jan: ',flights_1_copy_month1.std(),'\\n',\n",
    "             'Std of Feb: ',flights_1_copy_month2.std(),'\\n',\n",
    "             'Std of Mar: ',flights_1_copy_month3.std(),'\\n',\n",
    "             'Std of Apr: ',flights_1_copy_month4.std(),'\\n',\n",
    "             'Std of May: ',flights_1_copy_month5.std(),'\\n',\n",
    "             'Std of Jun: ',flights_1_copy_month6.std(),'\\n',\n",
    "             'Std of Jul: ',flights_1_copy_month7.std(),'\\n',\n",
    "             'Std of Aug: ',flights_1_copy_month8.std(),'\\n',\n",
    "             'Std of Sep: ',flights_1_copy_month9.std(),'\\n',\n",
    "             'Std of Oct: ',flights_1_copy_month10.std(),'\\n',\n",
    "             'Std of Nov: ',flights_1_copy_month11.std(),'\\n',\n",
    "             'Std of Dec: ',flights_1_copy_month12.std())"
   ]
  },
  {
   "cell_type": "markdown",
   "metadata": {},
   "source": [
    "#### **Task 3**: Does the weather affect the delay? \n",
    "Use the API to pull the weather information for flights. There is no need to get weather for ALL flights. We can choose the right representative sample. Let's focus on four weather types:\n",
    "- sunny\n",
    "- cloudy\n",
    "- rainy\n",
    "- snow.\n",
    "Test the hypothesis that these 4 delays are from the same distribution. If they are not, which ones are significantly different?"
   ]
  },
  {
   "cell_type": "markdown",
   "metadata": {},
   "source": [
    "So what kinds of numbers are we dealing with?"
   ]
  },
  {
   "cell_type": "code",
   "execution_count": 44,
   "metadata": {},
   "outputs": [
    {
     "data": {
      "text/plain": [
       "83424"
      ]
     },
     "execution_count": 44,
     "metadata": {},
     "output_type": "execute_result"
    }
   ],
   "source": [
    "city_dates = list(\n",
    "    set(flights.groupby(['origin_city_name', 'fl_date']).groups.keys()) |\n",
    "    set(flights.groupby(['dest_city_name', 'fl_date']).groups.keys())\n",
    ")\n",
    "len(city_dates)"
   ]
  },
  {
   "cell_type": "code",
   "execution_count": 45,
   "metadata": {},
   "outputs": [
    {
     "data": {
      "text/plain": [
       "3771"
      ]
     },
     "execution_count": 45,
     "metadata": {},
     "output_type": "execute_result"
    }
   ],
   "source": [
    "flights_sample = flights.sample(2000, random_state=1234)\n",
    "city_dates_sample = list(\n",
    "    set(flights_sample.groupby(['origin_city_name', 'fl_date']).groups.keys()) |\n",
    "    set(flights_sample.groupby(['dest_city_name', 'fl_date']).groups.keys())\n",
    ")\n",
    "len(city_dates_sample)"
   ]
  },
  {
   "cell_type": "code",
   "execution_count": 46,
   "metadata": {},
   "outputs": [
    {
     "data": {
      "text/plain": [
       "10850"
      ]
     },
     "execution_count": 46,
     "metadata": {},
     "output_type": "execute_result"
    }
   ],
   "source": [
    "len(\n",
    "    set(test.groupby(['origin_city_name', 'fl_date']).groups.keys()) |\n",
    "    set(test.groupby(['dest_city_name', 'fl_date']).groups.keys())\n",
    ")"
   ]
  },
  {
   "cell_type": "code",
   "execution_count": 47,
   "metadata": {},
   "outputs": [
    {
     "data": {
      "text/plain": [
       "('2018-01-01', '2019-12-31')"
      ]
     },
     "execution_count": 47,
     "metadata": {},
     "output_type": "execute_result"
    }
   ],
   "source": [
    "flights.fl_date.min(), flights.fl_date.max()"
   ]
  },
  {
   "cell_type": "code",
   "execution_count": 48,
   "metadata": {
    "scrolled": true
   },
   "outputs": [
    {
     "data": {
      "text/plain": [
       "('2020-01-01 00:00:00', '2020-01-31 00:00:00')"
      ]
     },
     "execution_count": 48,
     "metadata": {},
     "output_type": "execute_result"
    }
   ],
   "source": [
    "test.fl_date.min(), test.fl_date.max()"
   ]
  },
  {
   "cell_type": "markdown",
   "metadata": {},
   "source": [
    "Set up the Visual Crossing API call"
   ]
  },
  {
   "cell_type": "code",
   "execution_count": 49,
   "metadata": {},
   "outputs": [],
   "source": [
    "def deslash(place):\n",
    "    \"\"\"\n",
    "    Extracts only the first name in a \"slashed\" city name.\n",
    "    \n",
    "    Some cities in the flight data are for multi-city metro areas, written\n",
    "    with slashes; for example, \"Pasco/Kennewick/Richland, WA\".\n",
    "    This function pulls out only the first name so we can pass it to the\n",
    "    Visual Crossing API. The example above would yield \"Pasco, WA\".\n",
    "    \"\"\"\n",
    "    city, state = place.split(', ')\n",
    "    city = city.split('/')[0]\n",
    "    return f'{city}, {state}'"
   ]
  },
  {
   "cell_type": "code",
   "execution_count": 50,
   "metadata": {},
   "outputs": [],
   "source": [
    "#import visual_crossing_env\n",
    "#api_key = visual_crossing_env.API_KEY\n",
    "url = (\n",
    "    'https://weather.visualcrossing.com/'\n",
    "    'VisualCrossingWebServices/rest/services/timeline'\n",
    ")\n",
    "def get_weather(place, date):\n",
    "    response = req.get(\n",
    "        f\"{url}/{deslash(place)}/{date}\",\n",
    "        params=dict(\n",
    "            unitGroup='us',\n",
    "            key=api_key,\n",
    "            include='obs',\n",
    "        )\n",
    "    )\n",
    "    if response.status_code == 200:\n",
    "        return response.json()\n",
    "    else:\n",
    "        print(response.status_code)"
   ]
  },
  {
   "cell_type": "code",
   "execution_count": 51,
   "metadata": {},
   "outputs": [],
   "source": [
    "def get_weather_conditions(place, date):\n",
    "    weather = get_weather(place, date)\n",
    "    if weather is not None:\n",
    "        return weather['days'][0]['conditions']"
   ]
  },
  {
   "cell_type": "code",
   "execution_count": 52,
   "metadata": {},
   "outputs": [],
   "source": [
    "# Test call\n",
    "# get_weather('Milwaukee, WI', '2018-01-01')\n",
    "# get_weather_conditions('Milwaukee, WI', '2018-01-01')\n",
    "# get_weather_conditions('Pasco/Kennewick/Richland, WA', '2018-11-10')"
   ]
  },
  {
   "cell_type": "code",
   "execution_count": 53,
   "metadata": {},
   "outputs": [],
   "source": [
    "city_dates_split = np.array_split(np.array(city_dates_sample), 5)"
   ]
  },
  {
   "cell_type": "code",
   "execution_count": 54,
   "metadata": {},
   "outputs": [],
   "source": [
    "def get_weather_for_splits(splits, split_idxs):\n",
    "    result = []\n",
    "    for split_idx in split_idxs:\n",
    "        split_result = []\n",
    "        for row in splits[split_idx]:\n",
    "            city, date = row\n",
    "            split_result.append([city, date, get_weather_conditions(city, date)])\n",
    "        result.append(np.array(split_result))\n",
    "    return np.vstack(result)"
   ]
  },
  {
   "cell_type": "markdown",
   "metadata": {},
   "source": [
    "Uncomment to get new data:"
   ]
  },
  {
   "cell_type": "code",
   "execution_count": 55,
   "metadata": {},
   "outputs": [],
   "source": [
    "# weather_0 = get_weather_for_splits(city_dates_split, [0])\n",
    "# weather_0_df = pd.DataFrame(weather_0)\n",
    "# weather_0_df.columns = ['city', 'date', 'conditions']\n",
    "# weather_0_df.to_csv('weather_0.csv', index=False)"
   ]
  },
  {
   "cell_type": "code",
   "execution_count": 56,
   "metadata": {},
   "outputs": [],
   "source": [
    "# for i in range(1, 5):\n",
    "#     weather = get_weather_for_splits(city_dates_split, [i])\n",
    "#     weather_df = pd.DataFrame(weather)\n",
    "#     weather_df.columns = ['city', 'date', 'conditions']\n",
    "#     weather_df.to_csv(f'weather_{i}.csv', index=False)"
   ]
  },
  {
   "cell_type": "markdown",
   "metadata": {},
   "source": [
    "Load saved data:"
   ]
  },
  {
   "cell_type": "code",
   "execution_count": 57,
   "metadata": {},
   "outputs": [
    {
     "data": {
      "text/plain": [
       "3771"
      ]
     },
     "execution_count": 57,
     "metadata": {},
     "output_type": "execute_result"
    }
   ],
   "source": [
    "weather_bits = [pd.read_csv(f'weather_{i}.csv') for i in range(5)]\n",
    "weather = pd.concat(weather_bits)\n",
    "len(weather)"
   ]
  },
  {
   "cell_type": "markdown",
   "metadata": {},
   "source": [
    "Analysis"
   ]
  },
  {
   "cell_type": "code",
   "execution_count": 58,
   "metadata": {},
   "outputs": [
    {
     "data": {
      "text/html": [
       "<div>\n",
       "<style scoped>\n",
       "    .dataframe tbody tr th:only-of-type {\n",
       "        vertical-align: middle;\n",
       "    }\n",
       "\n",
       "    .dataframe tbody tr th {\n",
       "        vertical-align: top;\n",
       "    }\n",
       "\n",
       "    .dataframe thead th {\n",
       "        text-align: right;\n",
       "    }\n",
       "</style>\n",
       "<table border=\"1\" class=\"dataframe\">\n",
       "  <thead>\n",
       "    <tr style=\"text-align: right;\">\n",
       "      <th></th>\n",
       "      <th>city</th>\n",
       "      <th>date</th>\n",
       "      <th>conditions</th>\n",
       "    </tr>\n",
       "  </thead>\n",
       "  <tbody>\n",
       "    <tr>\n",
       "      <th>0</th>\n",
       "      <td>Indianapolis, IN</td>\n",
       "      <td>2018-12-02</td>\n",
       "      <td>Partially cloudy</td>\n",
       "    </tr>\n",
       "    <tr>\n",
       "      <th>1</th>\n",
       "      <td>San Antonio, TX</td>\n",
       "      <td>2018-05-20</td>\n",
       "      <td>Rain, Partially cloudy</td>\n",
       "    </tr>\n",
       "    <tr>\n",
       "      <th>2</th>\n",
       "      <td>Houston, TX</td>\n",
       "      <td>2019-05-26</td>\n",
       "      <td>Partially cloudy</td>\n",
       "    </tr>\n",
       "    <tr>\n",
       "      <th>3</th>\n",
       "      <td>Newark, NJ</td>\n",
       "      <td>2018-07-12</td>\n",
       "      <td>Partially cloudy</td>\n",
       "    </tr>\n",
       "    <tr>\n",
       "      <th>4</th>\n",
       "      <td>Las Vegas, NV</td>\n",
       "      <td>2018-03-01</td>\n",
       "      <td>Partially cloudy</td>\n",
       "    </tr>\n",
       "  </tbody>\n",
       "</table>\n",
       "</div>"
      ],
      "text/plain": [
       "               city        date              conditions\n",
       "0  Indianapolis, IN  2018-12-02        Partially cloudy\n",
       "1   San Antonio, TX  2018-05-20  Rain, Partially cloudy\n",
       "2       Houston, TX  2019-05-26        Partially cloudy\n",
       "3        Newark, NJ  2018-07-12        Partially cloudy\n",
       "4     Las Vegas, NV  2018-03-01        Partially cloudy"
      ]
     },
     "execution_count": 58,
     "metadata": {},
     "output_type": "execute_result"
    }
   ],
   "source": [
    "weather.head()"
   ]
  },
  {
   "cell_type": "code",
   "execution_count": 59,
   "metadata": {},
   "outputs": [],
   "source": [
    "flights_with_weather = flights.merge(\n",
    "    weather, left_on=['fl_date', 'origin_city_name'], right_on=['date', 'city']\n",
    ").merge(\n",
    "    weather, left_on=['fl_date', 'dest_city_name'], right_on=['date', 'city'],\n",
    "    suffixes=('_origin', '_dest')\n",
    ")"
   ]
  },
  {
   "cell_type": "code",
   "execution_count": 60,
   "metadata": {
    "scrolled": true
   },
   "outputs": [
    {
     "data": {
      "text/plain": [
       "Partially cloudy          1173\n",
       "Clear                      830\n",
       "Rain, Partially cloudy     755\n",
       "Rain, Overcast             435\n",
       "Overcast                   221\n",
       "Rain                        95\n",
       "Snow, Partially cloudy      77\n",
       "Snow, Overcast              54\n",
       "Snow                        27\n",
       "Name: conditions_origin, dtype: int64"
      ]
     },
     "execution_count": 60,
     "metadata": {},
     "output_type": "execute_result"
    }
   ],
   "source": [
    "flights_with_weather.conditions_origin.value_counts()"
   ]
  },
  {
   "cell_type": "code",
   "execution_count": 61,
   "metadata": {},
   "outputs": [],
   "source": [
    "weather_category_map = {\n",
    "    'Partially cloudy': 'Cloudy',\n",
    "    'Clear': 'Sunny',\n",
    "    'Rain, Partially cloudy': 'Rainy',\n",
    "    'Rain, Overcast': 'Rainy',\n",
    "    'Overcast': 'Cloudy',\n",
    "    'Rain': 'Rainy',\n",
    "    'Snow, Partially cloudy': 'Snowy',\n",
    "    'Snow, Overcast': 'Snowy',\n",
    "    'Snow': 'Snowy',\n",
    "}"
   ]
  },
  {
   "cell_type": "code",
   "execution_count": 62,
   "metadata": {},
   "outputs": [],
   "source": [
    "weather_categories = ['Sunny', 'Cloudy', 'Rainy', 'Snowy']"
   ]
  },
  {
   "cell_type": "code",
   "execution_count": 63,
   "metadata": {},
   "outputs": [],
   "source": [
    "flights_with_weather['weather_origin'] = flights_with_weather.conditions_origin.map(weather_category_map)\n",
    "flights_with_weather['weather_dest'] = flights_with_weather.conditions_dest.map(weather_category_map)"
   ]
  },
  {
   "cell_type": "code",
   "execution_count": 64,
   "metadata": {},
   "outputs": [
    {
     "data": {
      "image/png": "[encoded data removed]",
      "text/plain": [
       "<Figure size 432x288 with 1 Axes>"
      ]
     },
     "metadata": {},
     "output_type": "display_data"
    }
   ],
   "source": [
    "sns.countplot(data=flights_with_weather, x='weather_origin', order=weather_categories)\n",
    "plt.title('Weather conditions on departure')\n",
    "plt.show()"
   ]
  },
  {
   "cell_type": "code",
   "execution_count": 65,
   "metadata": {},
   "outputs": [
    {
     "data": {
      "image/png": "[encoded data removed]",
      "text/plain": [
       "<Figure size 432x288 with 1 Axes>"
      ]
     },
     "metadata": {},
     "output_type": "display_data"
    }
   ],
   "source": [
    "sns.boxplot(data=flights_with_weather, x='weather_origin', y='dep_delay', order=weather_categories)\n",
    "plt.title('Weather conditions on departure')\n",
    "plt.ylim(-60, 60)\n",
    "plt.show()"
   ]
  },
  {
   "cell_type": "code",
   "execution_count": 66,
   "metadata": {},
   "outputs": [],
   "source": [
    "def all_ranksums(conditions, delays):\n",
    "    for i, condition_i in enumerate(conditions):\n",
    "        for j, condition_j in enumerate(conditions):\n",
    "            if j > i:\n",
    "                pvalue = st.ranksums(delays[i], delays[j]).pvalue\n",
    "                print(f'{condition_i} vs. {condition_j}: {pvalue}')"
   ]
  },
  {
   "cell_type": "code",
   "execution_count": 67,
   "metadata": {},
   "outputs": [],
   "source": [
    "dep_delays = flights_with_weather.groupby('weather_origin').dep_delay\n",
    "dep_delays = [dep_delays.groups[category] for category in weather_categories]"
   ]
  },
  {
   "cell_type": "code",
   "execution_count": 68,
   "metadata": {},
   "outputs": [
    {
     "name": "stdout",
     "output_type": "stream",
     "text": [
      "Sunny vs. Cloudy: 0.4694989831943952\n",
      "Sunny vs. Rainy: 0.5077626187409153\n",
      "Sunny vs. Snowy: 0.6882669239783149\n",
      "Cloudy vs. Rainy: 0.11850177790238425\n",
      "Cloudy vs. Snowy: 0.9970110819605214\n",
      "Rainy vs. Snowy: 0.6052165856282392\n"
     ]
    }
   ],
   "source": [
    "all_ranksums(weather_categories, dep_delays)"
   ]
  },
  {
   "cell_type": "markdown",
   "metadata": {},
   "source": [
    "Nothing is significant!"
   ]
  },
  {
   "cell_type": "code",
   "execution_count": 69,
   "metadata": {},
   "outputs": [
    {
     "data": {
      "image/png": "[encoded data removed]",
      "text/plain": [
       "<Figure size 432x288 with 1 Axes>"
      ]
     },
     "metadata": {},
     "output_type": "display_data"
    }
   ],
   "source": [
    "sns.countplot(data=flights_with_weather, x='weather_dest', order=weather_categories)\n",
    "plt.title('Weather conditions on arrival')\n",
    "plt.show()"
   ]
  },
  {
   "cell_type": "code",
   "execution_count": 70,
   "metadata": {},
   "outputs": [
    {
     "data": {
      "image/png": "[encoded data removed]",
      "text/plain": [
       "<Figure size 432x288 with 1 Axes>"
      ]
     },
     "metadata": {},
     "output_type": "display_data"
    }
   ],
   "source": [
    "sns.boxplot(data=flights_with_weather, x='weather_dest', y='arr_delay', order=weather_categories)\n",
    "plt.title('Weather conditions on arrival')\n",
    "plt.ylim(-60, 60)\n",
    "plt.show()"
   ]
  },
  {
   "cell_type": "code",
   "execution_count": 71,
   "metadata": {},
   "outputs": [],
   "source": [
    "arr_delays = flights_with_weather.groupby('weather_dest').arr_delay\n",
    "arr_delays = [arr_delays.groups[category] for category in weather_categories]"
   ]
  },
  {
   "cell_type": "code",
   "execution_count": 72,
   "metadata": {},
   "outputs": [
    {
     "name": "stdout",
     "output_type": "stream",
     "text": [
      "Sunny vs. Cloudy: 0.3868077354706917\n",
      "Sunny vs. Rainy: 0.18002882569134204\n",
      "Sunny vs. Snowy: 0.24374841699455063\n",
      "Cloudy vs. Rainy: 0.012646287512659511\n",
      "Cloudy vs. Snowy: 0.40112845898756133\n",
      "Rainy vs. Snowy: 0.05851946060892765\n"
     ]
    }
   ],
   "source": [
    "all_ranksums(weather_categories, arr_delays)"
   ]
  },
  {
   "cell_type": "markdown",
   "metadata": {},
   "source": [
    "Now only cloudy vs. rainy is significant."
   ]
  },
  {
   "cell_type": "markdown",
   "metadata": {},
   "source": [
    "#### **Task 4**: How taxi times changing during the day? Does higher traffic lead to bigger taxi times?"
   ]
  },
  {
   "cell_type": "code",
   "execution_count": 73,
   "metadata": {},
   "outputs": [
    {
     "data": {
      "image/png": "[encoded data removed]",
      "text/plain": [
       "<Figure size 432x288 with 1 Axes>"
      ]
     },
     "metadata": {},
     "output_type": "display_data"
    }
   ],
   "source": [
    "sns.scatterplot(data=flights, x='dep_time', y='taxi_out', alpha=0.05)\n",
    "plt.xlabel('Departure Time')\n",
    "plt.ylabel('Taxi Out Time (minutes)')\n",
    "plt.title('Before-takeoff taxi time by time of day')\n",
    "plt.show()"
   ]
  },
  {
   "cell_type": "code",
   "execution_count": 74,
   "metadata": {
    "scrolled": true
   },
   "outputs": [
    {
     "data": {
      "image/png": "[encoded data removed]",
      "text/plain": [
       "<Figure size 432x288 with 1 Axes>"
      ]
     },
     "metadata": {},
     "output_type": "display_data"
    }
   ],
   "source": [
    "sns.scatterplot(data=flights, x='arr_time', y='taxi_in', alpha=0.05)\n",
    "plt.xlabel('Arrival Time')\n",
    "plt.ylabel('Taxi In Time (minutes)')\n",
    "plt.title('After-landing taxi time by time of day')\n",
    "plt.show()"
   ]
  },
  {
   "cell_type": "code",
   "execution_count": 75,
   "metadata": {},
   "outputs": [],
   "source": [
    "outbound_traffic = flights.origin.value_counts().to_frame(name='flights')"
   ]
  },
  {
   "cell_type": "code",
   "execution_count": 76,
   "metadata": {},
   "outputs": [],
   "source": [
    "outbound_traffic_taxi = flights[['taxi_out', 'origin']].merge(\n",
    "    outbound_traffic, left_on='origin', right_index=True\n",
    ")"
   ]
  },
  {
   "cell_type": "code",
   "execution_count": 77,
   "metadata": {},
   "outputs": [
    {
     "data": {
      "image/png": "[encoded data removed]",
      "text/plain": [
       "<Figure size 360x360 with 1 Axes>"
      ]
     },
     "metadata": {},
     "output_type": "display_data"
    }
   ],
   "source": [
    "sns.lmplot(data=outbound_traffic_taxi, x='flights', y='taxi_out', scatter_kws=dict(alpha=0.05))\n",
    "plt.ylim(0, 60)\n",
    "plt.xlabel('Number of Outbound Flights')\n",
    "plt.ylabel('Taxi Out Time (minutes)')\n",
    "plt.title('Do busier airports have greater taxi-out times?')\n",
    "plt.show()"
   ]
  },
  {
   "cell_type": "markdown",
   "metadata": {},
   "source": [
    "But for actual training, it may be better to assume a logarithmic relationship"
   ]
  },
  {
   "cell_type": "code",
   "execution_count": 78,
   "metadata": {},
   "outputs": [],
   "source": [
    "inbound_traffic = flights.dest.value_counts().to_frame(name='flights')"
   ]
  },
  {
   "cell_type": "code",
   "execution_count": 79,
   "metadata": {},
   "outputs": [],
   "source": [
    "inbound_traffic_taxi = flights[['taxi_in', 'dest']].merge(\n",
    "    outbound_traffic, left_on='dest', right_index=True\n",
    ")"
   ]
  },
  {
   "cell_type": "code",
   "execution_count": 80,
   "metadata": {},
   "outputs": [
    {
     "data": {
      "image/png": "[encoded data removed]",
      "text/plain": [
       "<Figure size 360x360 with 1 Axes>"
      ]
     },
     "metadata": {},
     "output_type": "display_data"
    }
   ],
   "source": [
    "sns.lmplot(data=inbound_traffic_taxi, x='flights', y='taxi_in', scatter_kws=dict(alpha=0.05))\n",
    "plt.ylim(0, 60)\n",
    "plt.xlabel('Number of Inbound Flights')\n",
    "plt.ylabel('Taxi In Time (minutes)')\n",
    "plt.title('Do busier airports have greater taxi-in times?')\n",
    "plt.show()"
   ]
  },
  {
   "cell_type": "markdown",
   "metadata": {},
   "source": [
    "#### **Task 5**: What is the average percentage of delays that is already created before departure? (aka are arrival delays caused by departure delays?) Are airlines able to lower the delay during the flights?"
   ]
  },
  {
   "cell_type": "code",
   "execution_count": 81,
   "metadata": {},
   "outputs": [
    {
     "data": {
      "text/plain": [
       "54832"
      ]
     },
     "execution_count": 81,
     "metadata": {},
     "output_type": "execute_result"
    }
   ],
   "source": [
    "num_arr_delays = flights.arr_delay[flights.arr_delay > 0].count()\n",
    "num_arr_delays"
   ]
  },
  {
   "cell_type": "code",
   "execution_count": 82,
   "metadata": {},
   "outputs": [
    {
     "data": {
      "text/plain": [
       "39112"
      ]
     },
     "execution_count": 82,
     "metadata": {},
     "output_type": "execute_result"
    }
   ],
   "source": [
    "num_arr_delays_with_dep_delay = flights.arr_delay[\n",
    "    (flights.arr_delay > 0) & (flights.dep_delay > 0)\n",
    "].count()\n",
    "num_arr_delays_with_dep_delay"
   ]
  },
  {
   "cell_type": "code",
   "execution_count": 83,
   "metadata": {},
   "outputs": [
    {
     "data": {
      "text/plain": [
       "24660"
      ]
     },
     "execution_count": 83,
     "metadata": {},
     "output_type": "execute_result"
    }
   ],
   "source": [
    "num_arr_delays_with_bigger_dep_delay = flights.arr_delay[\n",
    "    (flights.arr_delay > 0) & (flights.dep_delay >= flights.arr_delay)\n",
    "].count()\n",
    "num_arr_delays_with_bigger_dep_delay"
   ]
  },
  {
   "cell_type": "code",
   "execution_count": 84,
   "metadata": {},
   "outputs": [
    {
     "data": {
      "text/plain": [
       "'71.3% of delayed arrivals also had delayed departures'"
      ]
     },
     "execution_count": 84,
     "metadata": {},
     "output_type": "execute_result"
    }
   ],
   "source": [
    "fr_arr_delays_with_dep_delay = num_arr_delays_with_dep_delay / num_arr_delays\n",
    "f\"{fr_arr_delays_with_dep_delay:.1%} of delayed arrivals also had delayed departures\""
   ]
  },
  {
   "cell_type": "code",
   "execution_count": 85,
   "metadata": {},
   "outputs": [
    {
     "data": {
      "text/plain": [
       "'45.0% of delayed arrivals had departure delays at least as long'"
      ]
     },
     "execution_count": 85,
     "metadata": {},
     "output_type": "execute_result"
    }
   ],
   "source": [
    "fr_arr_delays_with_bigger_dep_delay = num_arr_delays_with_bigger_dep_delay / num_arr_delays\n",
    "f\"{fr_arr_delays_with_bigger_dep_delay:.1%} of delayed arrivals had departure delays at least as long\""
   ]
  },
  {
   "cell_type": "markdown",
   "metadata": {},
   "source": [
    "We can think of this range (45% to 71%) as bounds on the percentage of arrival delays that are caused by departure delays. At the upper bound, we're counting any departure delay as causing the arrival delay, even if there were also other causes. At the lower bound, we reason that if the departure delay isn't at least as long as the arrival delay, it can't be the only cause. This misses cases where the departure delay was still the primary cause (e.g. a 50 minute departure delay leading to a 52 minute arrival delay), but counts complicated cases where the departure was delayed, then the plane made up the lost time before being delayed again for unrelated reasons."
   ]
  },
  {
   "cell_type": "code",
   "execution_count": 86,
   "metadata": {},
   "outputs": [
    {
     "data": {
      "text/plain": [
       "53502"
      ]
     },
     "execution_count": 86,
     "metadata": {},
     "output_type": "execute_result"
    }
   ],
   "source": [
    "num_dep_delays = flights.dep_delay[flights.dep_delay > 0].count()\n",
    "num_dep_delays"
   ]
  },
  {
   "cell_type": "code",
   "execution_count": 87,
   "metadata": {},
   "outputs": [
    {
     "data": {
      "text/plain": [
       "38738"
      ]
     },
     "execution_count": 87,
     "metadata": {},
     "output_type": "execute_result"
    }
   ],
   "source": [
    "num_dep_delays_with_smaller_arr_delay = flights.dep_delay[\n",
    "    (flights.dep_delay > 0) & (flights.arr_delay <= flights.dep_delay)\n",
    "].count()\n",
    "num_dep_delays_with_smaller_arr_delay"
   ]
  },
  {
   "cell_type": "code",
   "execution_count": 88,
   "metadata": {},
   "outputs": [
    {
     "data": {
      "text/plain": [
       "14078"
      ]
     },
     "execution_count": 88,
     "metadata": {},
     "output_type": "execute_result"
    }
   ],
   "source": [
    "num_dep_delays_with_ontime_arr = flights.dep_delay[\n",
    "    (flights.dep_delay > 0) & (flights.arr_delay <= 0)\n",
    "].count()\n",
    "num_dep_delays_with_ontime_arr"
   ]
  },
  {
   "cell_type": "code",
   "execution_count": 89,
   "metadata": {},
   "outputs": [
    {
     "data": {
      "text/plain": [
       "'72.4% of delayed departures made up some of the time during flight'"
      ]
     },
     "execution_count": 89,
     "metadata": {},
     "output_type": "execute_result"
    }
   ],
   "source": [
    "fr_dep_delays_with_smaller_arr_delay = num_dep_delays_with_smaller_arr_delay / num_dep_delays\n",
    "f\"{fr_dep_delays_with_smaller_arr_delay:.1%} of delayed departures made up some of the time during flight\""
   ]
  },
  {
   "cell_type": "code",
   "execution_count": 90,
   "metadata": {},
   "outputs": [
    {
     "data": {
      "text/plain": [
       "'26.3% of delayed departures arrived on time anyway'"
      ]
     },
     "execution_count": 90,
     "metadata": {},
     "output_type": "execute_result"
    }
   ],
   "source": [
    "fr_dep_delays_with_ontime_arr = num_dep_delays_with_ontime_arr / num_dep_delays\n",
    "f\"{fr_dep_delays_with_ontime_arr:.1%} of delayed departures arrived on time anyway\""
   ]
  },
  {
   "cell_type": "markdown",
   "metadata": {},
   "source": [
    "#### **Task 6**: How many states cover 50% of US air traffic? "
   ]
  },
  {
   "cell_type": "code",
   "execution_count": 91,
   "metadata": {},
   "outputs": [],
   "source": [
    "flights_1_copy2 = flights_1.copy()"
   ]
  },
  {
   "cell_type": "code",
   "execution_count": 92,
   "metadata": {},
   "outputs": [],
   "source": [
    "flights_1_copy2['State'] = flights_1_copy2['origin_city_name'].str.extract(pat = ', (..)')\n"
   ]
  },
  {
   "cell_type": "code",
   "execution_count": 93,
   "metadata": {
    "scrolled": true
   },
   "outputs": [
    {
     "data": {
      "text/plain": [
       "array(['WI', 'LA', 'CA', 'OK', 'OR', 'AZ', 'TX', 'UT', 'MO', 'FL', 'NY',\n",
       "       'NC', 'TN', 'PR', 'DC', 'WA', 'HI', 'SC', 'IL', 'GA', 'CO', 'PA',\n",
       "       'MI', 'OH', 'AR', 'NV', 'IA', 'AL', 'VA', 'MS', 'NJ', 'MA', 'MN',\n",
       "       'NM', 'IN', 'ID', 'MD', 'KY', 'MT', 'KS', 'AK', 'CT', 'ME', 'TT',\n",
       "       'ND', 'NH', 'WY', 'NE', 'SD', 'VT', 'VI', 'RI', 'WV'], dtype=object)"
      ]
     },
     "execution_count": 93,
     "metadata": {},
     "output_type": "execute_result"
    }
   ],
   "source": [
    "flights_1_copy2.State.unique()"
   ]
  },
  {
   "cell_type": "code",
   "execution_count": 94,
   "metadata": {},
   "outputs": [
    {
     "data": {
      "text/plain": [
       "159961"
      ]
     },
     "execution_count": 94,
     "metadata": {},
     "output_type": "execute_result"
    }
   ],
   "source": [
    "len(flights_1_copy2)"
   ]
  },
  {
   "cell_type": "code",
   "execution_count": 95,
   "metadata": {},
   "outputs": [
    {
     "data": {
      "text/plain": [
       "State\n",
       "CA    17531\n",
       "TX    15726\n",
       "FL    11508\n",
       "IL    10228\n",
       "GA     8286\n",
       "NY     8132\n",
       "NC     7464\n",
       "CO     6249\n",
       "PA     4860\n",
       "DC     4770\n",
       "WA     4576\n",
       "MI     4569\n",
       "AZ     4278\n",
       "NV     3822\n",
       "OH     3596\n",
       "MN     3458\n",
       "NJ     3331\n",
       "MA     3140\n",
       "MO     2957\n",
       "TN     2802\n",
       "UT     2585\n",
       "HI     2463\n",
       "OR     2259\n",
       "MD     2105\n",
       "LA     1724\n",
       "VA     1561\n",
       "IN     1480\n",
       "SC     1444\n",
       "WI     1402\n",
       "OK      922\n",
       "AL      887\n",
       "AK      823\n",
       "KY      789\n",
       "NE      696\n",
       "ID      688\n",
       "AR      675\n",
       "NM      619\n",
       "MT      615\n",
       "PR      589\n",
       "CT      588\n",
       "IA      568\n",
       "ND      450\n",
       "ME      408\n",
       "RI      373\n",
       "KS      338\n",
       "MS      336\n",
       "SD      325\n",
       "NH      244\n",
       "VT      243\n",
       "WY      199\n",
       "WV      152\n",
       "VI       84\n",
       "TT       44\n",
       "Name: mkt_carrier_fl_num, dtype: int64"
      ]
     },
     "execution_count": 95,
     "metadata": {},
     "output_type": "execute_result"
    }
   ],
   "source": [
    "flights_1_copy2.groupby('State').mkt_carrier_fl_num.count().sort_values(ascending=False)\n"
   ]
  },
  {
   "cell_type": "code",
   "execution_count": 96,
   "metadata": {},
   "outputs": [],
   "source": [
    "CA = flights_1_copy2.groupby('State').mkt_carrier_fl_num.count()['CA']/len(flights_1_copy2)"
   ]
  },
  {
   "cell_type": "code",
   "execution_count": 97,
   "metadata": {},
   "outputs": [],
   "source": [
    "TX = flights_1_copy2.groupby('State').mkt_carrier_fl_num.count()['TX']/len(flights_1_copy2)"
   ]
  },
  {
   "cell_type": "code",
   "execution_count": 98,
   "metadata": {},
   "outputs": [],
   "source": [
    "FL = flights_1_copy2.groupby('State').mkt_carrier_fl_num.count()['FL']/len(flights_1_copy2)"
   ]
  },
  {
   "cell_type": "code",
   "execution_count": 99,
   "metadata": {},
   "outputs": [],
   "source": [
    "IL = flights_1_copy2.groupby('State').mkt_carrier_fl_num.count()['IL']/len(flights_1_copy2)"
   ]
  },
  {
   "cell_type": "code",
   "execution_count": 100,
   "metadata": {},
   "outputs": [],
   "source": [
    "GA = flights_1_copy2.groupby('State').mkt_carrier_fl_num.count()['GA']/len(flights_1_copy2)"
   ]
  },
  {
   "cell_type": "code",
   "execution_count": 101,
   "metadata": {},
   "outputs": [],
   "source": [
    "NY = flights_1_copy2.groupby('State').mkt_carrier_fl_num.count()['NY']/len(flights_1_copy2)"
   ]
  },
  {
   "cell_type": "code",
   "execution_count": 102,
   "metadata": {},
   "outputs": [],
   "source": [
    "NC = flights_1_copy2.groupby('State').mkt_carrier_fl_num.count()['NC']/len(flights_1_copy2)"
   ]
  },
  {
   "cell_type": "code",
   "execution_count": 103,
   "metadata": {},
   "outputs": [],
   "source": [
    "CO = flights_1_copy2.groupby('State').mkt_carrier_fl_num.count()['CO']/len(flights_1_copy2)"
   ]
  },
  {
   "cell_type": "code",
   "execution_count": 104,
   "metadata": {},
   "outputs": [
    {
     "data": {
      "text/plain": [
       "0.5321547127112233"
      ]
     },
     "execution_count": 104,
     "metadata": {},
     "output_type": "execute_result"
    }
   ],
   "source": [
    "CA + TX + FL + IL + GA + NY + NC + CO"
   ]
  },
  {
   "cell_type": "markdown",
   "metadata": {},
   "source": [
    "8 States make up 50% of the travel in the United States"
   ]
  },
  {
   "cell_type": "markdown",
   "metadata": {},
   "source": [
    "#### **Task 7**: Test the hypothesis whether planes fly faster when there is the departure delay? "
   ]
  },
  {
   "cell_type": "code",
   "execution_count": 105,
   "metadata": {},
   "outputs": [],
   "source": [
    "flights_1_copy5 = flights_1.copy()"
   ]
  },
  {
   "cell_type": "code",
   "execution_count": 106,
   "metadata": {},
   "outputs": [
    {
     "data": {
      "text/plain": [
       "Index(['fl_date', 'mkt_unique_carrier', 'branded_code_share', 'mkt_carrier',\n",
       "       'mkt_carrier_fl_num', 'op_unique_carrier', 'tail_num',\n",
       "       'op_carrier_fl_num', 'origin_airport_id', 'origin', 'origin_city_name',\n",
       "       'dest_airport_id', 'dest', 'dest_city_name', 'crs_dep_time', 'dep_time',\n",
       "       'dep_delay', 'taxi_out', 'wheels_off', 'wheels_on', 'taxi_in',\n",
       "       'crs_arr_time', 'arr_time', 'arr_delay', 'cancelled',\n",
       "       'cancellation_code', 'diverted', 'dup', 'crs_elapsed_time',\n",
       "       'actual_elapsed_time', 'air_time', 'flights', 'distance',\n",
       "       'carrier_delay', 'weather_delay', 'nas_delay', 'security_delay',\n",
       "       'late_aircraft_delay', 'first_dep_time', 'total_add_gtime',\n",
       "       'longest_add_gtime', 'no_name'],\n",
       "      dtype='object')"
      ]
     },
     "execution_count": 106,
     "metadata": {},
     "output_type": "execute_result"
    }
   ],
   "source": [
    "flights_1_copy5.columns"
   ]
  },
  {
   "cell_type": "code",
   "execution_count": 107,
   "metadata": {},
   "outputs": [],
   "source": [
    "flights_1_copy5['flight_speed'] = flights_1_copy5.distance\n",
    "flights_1_copy5.flight_speed = flights_1_copy5.flight_speed/flights_1_copy5.air_time"
   ]
  },
  {
   "cell_type": "code",
   "execution_count": 108,
   "metadata": {},
   "outputs": [],
   "source": [
    "flights_1_copy5 = flights_1_copy5.dropna(subset=['flight_speed'])"
   ]
  },
  {
   "cell_type": "code",
   "execution_count": 109,
   "metadata": {
    "scrolled": true
   },
   "outputs": [
    {
     "data": {
      "text/plain": [
       "0"
      ]
     },
     "execution_count": 109,
     "metadata": {},
     "output_type": "execute_result"
    }
   ],
   "source": [
    "flights_1_copy5.flight_speed.isnull().sum()"
   ]
  },
  {
   "cell_type": "code",
   "execution_count": 110,
   "metadata": {},
   "outputs": [],
   "source": [
    "flights_1_copy5 = flights_1_copy5.dropna(subset=['dep_delay'])"
   ]
  },
  {
   "cell_type": "code",
   "execution_count": 111,
   "metadata": {},
   "outputs": [
    {
     "data": {
      "text/plain": [
       "0"
      ]
     },
     "execution_count": 111,
     "metadata": {},
     "output_type": "execute_result"
    }
   ],
   "source": [
    "flights_1_copy5.dep_delay.isnull().sum()"
   ]
  },
  {
   "cell_type": "code",
   "execution_count": 112,
   "metadata": {
    "scrolled": true
   },
   "outputs": [
    {
     "data": {
      "text/plain": [
       "<matplotlib.collections.PathCollection at 0x11f89efd0>"
      ]
     },
     "execution_count": 112,
     "metadata": {},
     "output_type": "execute_result"
    },
    {
     "data": {
      "image/png": "[encoded data removed]",
      "text/plain": [
       "<Figure size 432x288 with 1 Axes>"
      ]
     },
     "metadata": {},
     "output_type": "display_data"
    }
   ],
   "source": [
    "x = flights_1_copy5.dep_delay\n",
    "y = flights_1_copy5.flight_speed\n",
    "\n",
    "plt.plot(np.unique(x), np.poly1d(np.polyfit(x, y, 1))(np.unique(x)), color = 'red')\n",
    "plt.scatter(x, y)#, 'o', color='black');\n",
    "#plt.plot(x, w*x, c='red')"
   ]
  },
  {
   "cell_type": "code",
   "execution_count": 113,
   "metadata": {
    "scrolled": true
   },
   "outputs": [
    {
     "name": "stdout",
     "output_type": "stream",
     "text": [
      "9.418699958209476e-05\n"
     ]
    }
   ],
   "source": [
    "correlation_matrix = np.corrcoef(x, y)\n",
    "correlation_xy = correlation_matrix[0,1]\n",
    "r_squared = correlation_xy**2\n",
    "\n",
    "print(r_squared)"
   ]
  },
  {
   "cell_type": "code",
   "execution_count": null,
   "metadata": {},
   "outputs": [],
   "source": []
  },
  {
   "cell_type": "markdown",
   "metadata": {},
   "source": [
    "#### **Task 8**: When (which hour) do most 'LONG', 'SHORT', 'MEDIUM' haul flights take off?"
   ]
  },
  {
   "cell_type": "code",
   "execution_count": 114,
   "metadata": {},
   "outputs": [],
   "source": [
    "flights_1_copy3 = flights_1.copy()"
   ]
  },
  {
   "cell_type": "code",
   "execution_count": 115,
   "metadata": {},
   "outputs": [],
   "source": [
    "sort_flights_1_copy3 = flights_1_copy3[flights_1_copy3.crs_elapsed_time/60<3]\n",
    "medium_flights_1_copy3 = flights_1_copy3[(flights_1_copy3.crs_elapsed_time/60>=3)&(flights_1_copy3.crs_elapsed_time/60<6)]\n",
    "long_flights_1_copy3 = flights_1_copy3[flights_1_copy3.crs_elapsed_time/60>=6]\n"
   ]
  },
  {
   "cell_type": "code",
   "execution_count": 116,
   "metadata": {},
   "outputs": [
    {
     "data": {
      "text/plain": [
       "11.583333333333334"
      ]
     },
     "execution_count": 116,
     "metadata": {},
     "output_type": "execute_result"
    }
   ],
   "source": [
    "(long_flights_1_copy3.crs_elapsed_time/60).max()"
   ]
  },
  {
   "cell_type": "code",
   "execution_count": 117,
   "metadata": {},
   "outputs": [],
   "source": [
    "sort_flight_hours = round(sort_flights_1_copy3.wheels_off/100)\n",
    "medium_flight_hours = round(medium_flights_1_copy3.wheels_off/100)\n",
    "long_flight_hours = round(long_flights_1_copy3.wheels_off/100)"
   ]
  },
  {
   "cell_type": "code",
   "execution_count": 118,
   "metadata": {
    "scrolled": true
   },
   "outputs": [
    {
     "data": {
      "image/png": "[encoded data removed]",
      "text/plain": [
       "<Figure size 1440x720 with 1 Axes>"
      ]
     },
     "metadata": {},
     "output_type": "display_data"
    }
   ],
   "source": [
    "plt.figure(figsize=(20,10))\n",
    "plt.hist(sort_flight_hours, bins = 24)\n",
    "plt.show()"
   ]
  },
  {
   "cell_type": "code",
   "execution_count": 119,
   "metadata": {
    "scrolled": true
   },
   "outputs": [
    {
     "data": {
      "image/png": "[encoded data removed]",
      "text/plain": [
       "<Figure size 1440x720 with 1 Axes>"
      ]
     },
     "metadata": {},
     "output_type": "display_data"
    }
   ],
   "source": [
    "plt.figure(figsize=(20,10))\n",
    "plt.hist(medium_flight_hours, bins = 24)\n",
    "plt.show()"
   ]
  },
  {
   "cell_type": "code",
   "execution_count": 120,
   "metadata": {
    "scrolled": true
   },
   "outputs": [
    {
     "data": {
      "image/png": "[encoded data removed]",
      "text/plain": [
       "<Figure size 1440x720 with 1 Axes>"
      ]
     },
     "metadata": {},
     "output_type": "display_data"
    }
   ],
   "source": [
    "plt.figure(figsize=(20,10))\n",
    "plt.hist(long_flight_hours, bins = 24)\n",
    "plt.show()"
   ]
  },
  {
   "cell_type": "code",
   "execution_count": 121,
   "metadata": {
    "scrolled": true
   },
   "outputs": [
    {
     "data": {
      "text/plain": [
       "0    6.0\n",
       "dtype: float64"
      ]
     },
     "execution_count": 121,
     "metadata": {},
     "output_type": "execute_result"
    }
   ],
   "source": [
    "sort_flight_hours.mode()"
   ]
  },
  {
   "cell_type": "code",
   "execution_count": 122,
   "metadata": {},
   "outputs": [
    {
     "data": {
      "text/plain": [
       "0    7.0\n",
       "dtype: float64"
      ]
     },
     "execution_count": 122,
     "metadata": {},
     "output_type": "execute_result"
    }
   ],
   "source": [
    "medium_flight_hours.mode()"
   ]
  },
  {
   "cell_type": "code",
   "execution_count": 123,
   "metadata": {},
   "outputs": [
    {
     "data": {
      "text/plain": [
       "0    18.0\n",
       "dtype: float64"
      ]
     },
     "execution_count": 123,
     "metadata": {},
     "output_type": "execute_result"
    }
   ],
   "source": [
    "long_flight_hours.mode()"
   ]
  },
  {
   "cell_type": "markdown",
   "metadata": {},
   "source": [
    "#### **Task 9**: Find the top 10 the bussiest airports. Does the biggest number of flights mean that the biggest number of passengers went through the particular airport? How much traffic do these 10 airports cover?"
   ]
  },
  {
   "cell_type": "code",
   "execution_count": 124,
   "metadata": {},
   "outputs": [],
   "source": [
    "total_flights_by_airport = inbound_traffic + outbound_traffic"
   ]
  },
  {
   "cell_type": "code",
   "execution_count": 125,
   "metadata": {
    "scrolled": true
   },
   "outputs": [
    {
     "data": {
      "text/html": [
       "<div>\n",
       "<style scoped>\n",
       "    .dataframe tbody tr th:only-of-type {\n",
       "        vertical-align: middle;\n",
       "    }\n",
       "\n",
       "    .dataframe tbody tr th {\n",
       "        vertical-align: top;\n",
       "    }\n",
       "\n",
       "    .dataframe thead th {\n",
       "        text-align: right;\n",
       "    }\n",
       "</style>\n",
       "<table border=\"1\" class=\"dataframe\">\n",
       "  <thead>\n",
       "    <tr style=\"text-align: right;\">\n",
       "      <th></th>\n",
       "      <th>flights</th>\n",
       "    </tr>\n",
       "  </thead>\n",
       "  <tbody>\n",
       "    <tr>\n",
       "      <th>ORD</th>\n",
       "      <td>15951.0</td>\n",
       "    </tr>\n",
       "    <tr>\n",
       "      <th>ATL</th>\n",
       "      <td>15813.0</td>\n",
       "    </tr>\n",
       "    <tr>\n",
       "      <th>DFW</th>\n",
       "      <td>11599.0</td>\n",
       "    </tr>\n",
       "    <tr>\n",
       "      <th>DEN</th>\n",
       "      <td>11307.0</td>\n",
       "    </tr>\n",
       "    <tr>\n",
       "      <th>CLT</th>\n",
       "      <td>9981.0</td>\n",
       "    </tr>\n",
       "    <tr>\n",
       "      <th>LAX</th>\n",
       "      <td>9972.0</td>\n",
       "    </tr>\n",
       "    <tr>\n",
       "      <th>SEA</th>\n",
       "      <td>7557.0</td>\n",
       "    </tr>\n",
       "    <tr>\n",
       "      <th>PHX</th>\n",
       "      <td>7277.0</td>\n",
       "    </tr>\n",
       "    <tr>\n",
       "      <th>IAH</th>\n",
       "      <td>7248.0</td>\n",
       "    </tr>\n",
       "    <tr>\n",
       "      <th>SFO</th>\n",
       "      <td>7187.0</td>\n",
       "    </tr>\n",
       "  </tbody>\n",
       "</table>\n",
       "</div>"
      ],
      "text/plain": [
       "     flights\n",
       "ORD  15951.0\n",
       "ATL  15813.0\n",
       "DFW  11599.0\n",
       "DEN  11307.0\n",
       "CLT   9981.0\n",
       "LAX   9972.0\n",
       "SEA   7557.0\n",
       "PHX   7277.0\n",
       "IAH   7248.0\n",
       "SFO   7187.0"
      ]
     },
     "execution_count": 125,
     "metadata": {},
     "output_type": "execute_result"
    }
   ],
   "source": [
    "total_flights_by_airport.sort_values(by='flights', ascending=False).head(10)"
   ]
  },
  {
   "cell_type": "code",
   "execution_count": 126,
   "metadata": {},
   "outputs": [],
   "source": [
    "passengers = pd.read_csv('data/passengers_10%.csv')"
   ]
  },
  {
   "cell_type": "code",
   "execution_count": 127,
   "metadata": {},
   "outputs": [
    {
     "data": {
      "text/plain": [
       "Index(['departures_scheduled', 'departures_performed', 'payload', 'seats',\n",
       "       'passengers', 'freight', 'mail', 'distance', 'ramp_to_ramp', 'air_time',\n",
       "       'unique_carrier', 'airline_id', 'unique_carrier_name', 'region',\n",
       "       'carrier', 'carrier_name', 'carrier_group', 'carrier_group_new',\n",
       "       'origin_airport_id', 'origin_city_market_id', 'origin',\n",
       "       'origin_city_name', 'origin_country', 'origin_country_name',\n",
       "       'dest_airport_id', 'dest_city_market_id', 'dest', 'dest_city_name',\n",
       "       'dest_country', 'dest_country_name', 'aircraft_group', 'aircraft_type',\n",
       "       'aircraft_config', 'year', 'month', 'distance_group', 'class',\n",
       "       'data_source'],\n",
       "      dtype='object')"
      ]
     },
     "execution_count": 127,
     "metadata": {},
     "output_type": "execute_result"
    }
   ],
   "source": [
    "passengers.columns"
   ]
  },
  {
   "cell_type": "code",
   "execution_count": 128,
   "metadata": {},
   "outputs": [],
   "source": [
    "passengers_outbound = passengers.groupby('origin').passengers.sum().to_frame()\n",
    "passengers_inbound = passengers.groupby('dest').passengers.sum().to_frame()"
   ]
  },
  {
   "cell_type": "code",
   "execution_count": 129,
   "metadata": {},
   "outputs": [],
   "source": [
    "total_passengers_by_airport = passengers_inbound + passengers_outbound"
   ]
  },
  {
   "cell_type": "code",
   "execution_count": 130,
   "metadata": {},
   "outputs": [
    {
     "data": {
      "text/html": [
       "<div>\n",
       "<style scoped>\n",
       "    .dataframe tbody tr th:only-of-type {\n",
       "        vertical-align: middle;\n",
       "    }\n",
       "\n",
       "    .dataframe tbody tr th {\n",
       "        vertical-align: top;\n",
       "    }\n",
       "\n",
       "    .dataframe thead th {\n",
       "        text-align: right;\n",
       "    }\n",
       "</style>\n",
       "<table border=\"1\" class=\"dataframe\">\n",
       "  <thead>\n",
       "    <tr style=\"text-align: right;\">\n",
       "      <th></th>\n",
       "      <th>passengers</th>\n",
       "    </tr>\n",
       "  </thead>\n",
       "  <tbody>\n",
       "    <tr>\n",
       "      <th>ATL</th>\n",
       "      <td>51818383.0</td>\n",
       "    </tr>\n",
       "    <tr>\n",
       "      <th>LAX</th>\n",
       "      <td>41097981.0</td>\n",
       "    </tr>\n",
       "    <tr>\n",
       "      <th>ORD</th>\n",
       "      <td>39440105.0</td>\n",
       "    </tr>\n",
       "    <tr>\n",
       "      <th>DFW</th>\n",
       "      <td>33407741.0</td>\n",
       "    </tr>\n",
       "    <tr>\n",
       "      <th>DEN</th>\n",
       "      <td>30880909.0</td>\n",
       "    </tr>\n",
       "    <tr>\n",
       "      <th>JFK</th>\n",
       "      <td>29857711.0</td>\n",
       "    </tr>\n",
       "    <tr>\n",
       "      <th>SFO</th>\n",
       "      <td>26376070.0</td>\n",
       "    </tr>\n",
       "    <tr>\n",
       "      <th>LAS</th>\n",
       "      <td>23342225.0</td>\n",
       "    </tr>\n",
       "    <tr>\n",
       "      <th>CLT</th>\n",
       "      <td>22295158.0</td>\n",
       "    </tr>\n",
       "    <tr>\n",
       "      <th>MCO</th>\n",
       "      <td>21987855.0</td>\n",
       "    </tr>\n",
       "  </tbody>\n",
       "</table>\n",
       "</div>"
      ],
      "text/plain": [
       "     passengers\n",
       "ATL  51818383.0\n",
       "LAX  41097981.0\n",
       "ORD  39440105.0\n",
       "DFW  33407741.0\n",
       "DEN  30880909.0\n",
       "JFK  29857711.0\n",
       "SFO  26376070.0\n",
       "LAS  23342225.0\n",
       "CLT  22295158.0\n",
       "MCO  21987855.0"
      ]
     },
     "execution_count": 130,
     "metadata": {},
     "output_type": "execute_result"
    }
   ],
   "source": [
    "total_passengers_by_airport.sort_values(by='passengers', ascending=False).head(10)"
   ]
  },
  {
   "cell_type": "markdown",
   "metadata": {},
   "source": [
    "#### **Task 10**: Do bigger delays lead to bigger fuel comsumption per passenger? \n",
    "We need to do four things to answer this as accurate as possible:\n",
    "- Find out average monthly delay per air carrier (monthly delay is sum of all delays in 1 month)\n",
    "- Find out distance covered monthly by different air carriers\n",
    "- Find out number of passengers that were carried by different air carriers\n",
    "- Find out total fuel comsumption per air carrier.\n",
    "\n",
    "Use this information to get the average fuel comsumption per passenger per km. Is this higher for the airlines with bigger average delays?"
   ]
  },
  {
   "cell_type": "code",
   "execution_count": 131,
   "metadata": {},
   "outputs": [],
   "source": [
    "flights_1_copy4 = flights_1.copy()\n",
    "fuel_consumption_copy = fuel_consumption.copy()\n",
    "passengers_10_copy = passengers_10.copy()"
   ]
  },
  {
   "cell_type": "code",
   "execution_count": 132,
   "metadata": {},
   "outputs": [],
   "source": [
    "flights_1_copy4['month']=flights_1_copy4.fl_date\n",
    "flights_1_copy4.month = flights_1_copy4.month.map(lambda v: int(v[5:7]))"
   ]
  },
  {
   "cell_type": "markdown",
   "metadata": {},
   "source": [
    "### First Point\n",
    "Find out average monthly delay per air carrier (monthly delay is sum of all delays in 1 month)"
   ]
  },
  {
   "cell_type": "code",
   "execution_count": 133,
   "metadata": {},
   "outputs": [],
   "source": [
    "flights_1_op_unique_carrier = list(flights_1_copy4.op_unique_carrier.unique())"
   ]
  },
  {
   "cell_type": "code",
   "execution_count": 134,
   "metadata": {},
   "outputs": [],
   "source": [
    "flights_1_copy4_1 = flights_1_copy4.dropna(subset=['arr_delay'])"
   ]
  },
  {
   "cell_type": "code",
   "execution_count": 135,
   "metadata": {},
   "outputs": [],
   "source": [
    "ave_mon_delay_per_air_car = flights_1_copy4_1.groupby(['op_unique_carrier','month']).arr_delay.mean().groupby('op_unique_carrier').mean()\n",
    "ave_mon_delay_per_air_car = ave_mon_delay_per_air_car.sort_values()\n",
    "\n"
   ]
  },
  {
   "cell_type": "code",
   "execution_count": 136,
   "metadata": {
    "scrolled": true
   },
   "outputs": [
    {
     "data": {
      "text/plain": [
       "<BarContainer object of 28 artists>"
      ]
     },
     "execution_count": 136,
     "metadata": {},
     "output_type": "execute_result"
    },
    {
     "data": {
      "image/png": "[encoded data removed]",
      "text/plain": [
       "<Figure size 1440x720 with 1 Axes>"
      ]
     },
     "metadata": {},
     "output_type": "display_data"
    }
   ],
   "source": [
    "plt.figure(figsize=(20,10))\n",
    "plt.bar(ave_mon_delay_per_air_car.keys(), ave_mon_delay_per_air_car)"
   ]
  },
  {
   "cell_type": "markdown",
   "metadata": {},
   "source": [
    "### Second Point\n",
    "Find out distance covered monthly by different air carriers"
   ]
  },
  {
   "cell_type": "code",
   "execution_count": 137,
   "metadata": {
    "scrolled": true
   },
   "outputs": [],
   "source": [
    "monthly_dist_per_air_car = flights_1_copy4.groupby(['op_unique_carrier','month']).distance.sum().groupby('op_unique_carrier').mean()\n",
    "monthly_dist_per_air_car = monthly_dist_per_air_car.sort_values()\n",
    "\n"
   ]
  },
  {
   "cell_type": "code",
   "execution_count": 138,
   "metadata": {},
   "outputs": [
    {
     "data": {
      "text/plain": [
       "<BarContainer object of 28 artists>"
      ]
     },
     "execution_count": 138,
     "metadata": {},
     "output_type": "execute_result"
    },
    {
     "data": {
      "image/png": "[encoded data removed]",
      "text/plain": [
       "<Figure size 1440x720 with 1 Axes>"
      ]
     },
     "metadata": {},
     "output_type": "display_data"
    }
   ],
   "source": [
    "plt.figure(figsize=(20,10))\n",
    "plt.bar(monthly_dist_per_air_car.keys(), monthly_dist_per_air_car)"
   ]
  },
  {
   "cell_type": "markdown",
   "metadata": {},
   "source": [
    "### Third Point\n",
    "Find out number of passengers that were carried by different air carriers"
   ]
  },
  {
   "cell_type": "code",
   "execution_count": 139,
   "metadata": {},
   "outputs": [],
   "source": [
    "passengers_10_unique_carrier = passengers_10_copy[passengers_10_copy.unique_carrier.isin(flights_1_op_unique_carrier)]\n",
    "passengers_10_unique_carrier = passengers_10_unique_carrier.groupby('unique_carrier').passengers.sum().sort_values()\n"
   ]
  },
  {
   "cell_type": "code",
   "execution_count": 140,
   "metadata": {
    "scrolled": true
   },
   "outputs": [
    {
     "data": {
      "text/plain": [
       "<BarContainer object of 28 artists>"
      ]
     },
     "execution_count": 140,
     "metadata": {},
     "output_type": "execute_result"
    },
    {
     "data": {
      "image/png": "[encoded data removed]",
      "text/plain": [
       "<Figure size 1440x720 with 1 Axes>"
      ]
     },
     "metadata": {},
     "output_type": "display_data"
    }
   ],
   "source": [
    "plt.figure(figsize=(20,10))\n",
    "plt.bar(passengers_10_unique_carrier.keys(), passengers_10_unique_carrier)"
   ]
  },
  {
   "cell_type": "markdown",
   "metadata": {},
   "source": [
    "### Fourth Point\n",
    "Find out total fuel comsumption per air carrier."
   ]
  },
  {
   "cell_type": "code",
   "execution_count": 141,
   "metadata": {},
   "outputs": [],
   "source": [
    "fuel_consumption_unique_carrier = fuel_consumption_copy[fuel_consumption_copy.unique_carrier.isin(flights_1_op_unique_carrier)]\n",
    "fuel_consumption_unique_carrier = fuel_consumption_unique_carrier.groupby('unique_carrier').total_gallons.sum().sort_values()\n"
   ]
  },
  {
   "cell_type": "code",
   "execution_count": 142,
   "metadata": {
    "scrolled": true
   },
   "outputs": [
    {
     "data": {
      "text/plain": [
       "<BarContainer object of 22 artists>"
      ]
     },
     "execution_count": 142,
     "metadata": {},
     "output_type": "execute_result"
    },
    {
     "data": {
      "image/png": "[encoded data removed]",
      "text/plain": [
       "<Figure size 1440x720 with 1 Axes>"
      ]
     },
     "metadata": {},
     "output_type": "display_data"
    }
   ],
   "source": [
    "plt.figure(figsize=(20,10))\n",
    "plt.bar(fuel_consumption_unique_carrier.keys(), fuel_consumption_unique_carrier)"
   ]
  }
 ],
 "metadata": {
  "kernelspec": {
   "display_name": "Python 3",
   "language": "python",
   "name": "python3"
  },
  "language_info": {
   "codemirror_mode": {
    "name": "ipython",
    "version": 3
   },
   "file_extension": ".py",
   "mimetype": "text/x-python",
   "name": "python",
   "nbconvert_exporter": "python",
   "pygments_lexer": "ipython3",
   "version": "3.8.2"
  },
  "toc": {
   "base_numbering": 1,
   "nav_menu": {},
   "number_sections": true,
   "sideBar": true,
   "skip_h1_title": false,
   "title_cell": "Table of Contents",
   "title_sidebar": "Contents",
   "toc_cell": false,
   "toc_position": {},
   "toc_section_display": true,
   "toc_window_display": false
  },
  "varInspector": {
   "cols": {
    "lenName": 16,
    "lenType": 16,
    "lenVar": 40
   },
   "kernels_config": {
    "python": {
     "delete_cmd_postfix": "",
     "delete_cmd_prefix": "del ",
     "library": "var_list.py",
     "varRefreshCmd": "print(var_dic_list())"
    },
    "r": {
     "delete_cmd_postfix": ") ",
     "delete_cmd_prefix": "rm(",
     "library": "var_list.r",
     "varRefreshCmd": "cat(var_dic_list()) "
    }
   },
   "types_to_exclude": [
    "module",
    "function",
    "builtin_function_or_method",
    "instance",
    "_Feature"
   ],
   "window_display": false
  }
 },
 "nbformat": 4,
 "nbformat_minor": 4
}
