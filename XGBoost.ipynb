{
 "cells": [
  {
   "cell_type": "code",
   "execution_count": null,
   "id": "lyric-sending",
   "metadata": {},
   "outputs": [],
   "source": [
    "import numpy as np\n",
    "import pandas as pd\n",
    "import sklearn.linear_model as lm\n",
    "import sklearn.preprocessing as pre\n",
    "import sklearn.model_selection as ms\n",
    "import matplotlib.pyplot as plt\n",
    "import seaborn as sns\n",
    "\n",
    "import harness\n",
    "\n",
    "np.warnings.filterwarnings('ignore', 'Ill-conditioned matrix')"
   ]
  },
  {
   "cell_type": "code",
   "execution_count": null,
   "id": "interstate-internet",
   "metadata": {},
   "outputs": [],
   "source": [
    "flights_train = pd.read_csv('data/flights_train.csv', index_col=0)\n",
    "flights_test = pd.read_csv('data/flights_test.csv', index_col=0)"
   ]
  },
  {
   "cell_type": "code",
   "execution_count": null,
   "id": "systematic-discrimination",
   "metadata": {},
   "outputs": [],
   "source": [
    "flights_clean = harness.clean_train(flights_train)"
   ]
  },
  {
   "cell_type": "code",
   "execution_count": null,
   "id": "offshore-traveler",
   "metadata": {},
   "outputs": [],
   "source": [
    "add_features = harness.chain(\n",
    "    harness.add_date_parts, harness.add_haul, harness.add_weather\n",
    ")"
   ]
  },
  {
   "cell_type": "code",
   "execution_count": null,
   "id": "original-rainbow",
   "metadata": {},
   "outputs": [],
   "source": [
    "flights_with_features = add_features(flights_clean)"
   ]
  },
  {
   "cell_type": "code",
   "execution_count": null,
   "id": "acute-representative",
   "metadata": {},
   "outputs": [],
   "source": [
    "x_transform = harness.chain(\n",
    "    harness.keep_only_test_columns,\n",
    "    add_features,\n",
    "    [harness.add_all_grouped_stats, flights_with_features],\n",
    "    harness.only_numeric,\n",
    "    harness.scale,\n",
    ")"
   ]
  },
  {
   "cell_type": "code",
   "execution_count": null,
   "id": "reliable-madagascar",
   "metadata": {},
   "outputs": [],
   "source": [
    "transformer = harness.DataTransformer(\n",
    "    x_transform\n",
    ")"
   ]
  },
  {
   "cell_type": "code",
   "execution_count": null,
   "id": "resident-blogger",
   "metadata": {},
   "outputs": [],
   "source": [
    "x_train, y_train = transformer.extract_transform(flights_clean)"
   ]
  },
  {
   "cell_type": "code",
   "execution_count": null,
   "id": "advanced-boundary",
   "metadata": {},
   "outputs": [],
   "source": [
    "def train_model():\n",
    "    linreg = lm.LinearRegression()\n",
    "    linreg.fit(x_train.values, y_train.values)\n",
    "    harness.save(linreg, 'everything_linear_test_model')"
   ]
  },
  {
   "cell_type": "code",
   "execution_count": null,
   "id": "appointed-cyprus",
   "metadata": {},
   "outputs": [],
   "source": [
    "#train_model()"
   ]
  },
  {
   "cell_type": "code",
   "execution_count": null,
   "id": "instructional-morrison",
   "metadata": {},
   "outputs": [],
   "source": [
    "linreg = harness.load('everything_linear_test_model')\n",
    "linreg_model = harness.TrainedModel(linreg, transformer)"
   ]
  },
  {
   "cell_type": "code",
   "execution_count": null,
   "id": "statistical-electronics",
   "metadata": {},
   "outputs": [],
   "source": [
    "linreg.score(x_train, y_train)"
   ]
  },
  {
   "cell_type": "code",
   "execution_count": null,
   "id": "inside-nerve",
   "metadata": {},
   "outputs": [],
   "source": [
    "linreg_model.validate(flights_clean)"
   ]
  },
  {
   "cell_type": "code",
   "execution_count": null,
   "id": "latter-dialogue",
   "metadata": {},
   "outputs": [],
   "source": [
    "transformer.score(linreg, x_train, y_train)"
   ]
  }
 ],
 "metadata": {
  "kernelspec": {
   "display_name": "Python 3",
   "language": "python",
   "name": "python3"
  },
  "language_info": {
   "codemirror_mode": {
    "name": "ipython",
    "version": 3
   },
   "file_extension": ".py",
   "mimetype": "text/x-python",
   "name": "python",
   "nbconvert_exporter": "python",
   "pygments_lexer": "ipython3",
   "version": "3.8.2"
  }
 },
 "nbformat": 4,
 "nbformat_minor": 5
}
