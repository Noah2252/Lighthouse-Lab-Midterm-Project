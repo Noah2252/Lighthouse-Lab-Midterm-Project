{
 "cells": [
  {
   "cell_type": "code",
   "execution_count": 1,
   "metadata": {},
   "outputs": [],
   "source": [
    "import sys\n",
    "sys.path.append('..')\n",
    "\n",
    "import numpy as np\n",
    "import pandas as pd\n",
    "import sklearn.ensemble as ens\n",
    "import sklearn.preprocessing as pre\n",
    "import sklearn.model_selection as ms\n",
    "\n",
    "import harness"
   ]
  },
  {
   "cell_type": "code",
   "execution_count": 2,
   "metadata": {},
   "outputs": [],
   "source": [
    "flights_train = harness.read_flights('../data/flights_train.csv')\n",
    "flights_test = harness.read_flights('../data/flights_test.csv')"
   ]
  },
  {
   "cell_type": "code",
   "execution_count": 3,
   "metadata": {},
   "outputs": [],
   "source": [
    "flights_clean = harness.clean_train(flights_train)"
   ]
  },
  {
   "cell_type": "code",
   "execution_count": 4,
   "metadata": {},
   "outputs": [],
   "source": [
    "x_transform = harness.chain(\n",
    "    harness.keep_only_test_columns,\n",
    "    [harness.make_weather_dummies, flights_clean],\n",
    "    [harness.transfer_grouped_means, flights_clean, 100, 'origin', 'dest'],\n",
    "    harness.only_numeric,\n",
    "    harness.scale,\n",
    "    harness.powers_of_time,\n",
    "    [\n",
    "        harness.drop,\n",
    "        'crs_dep_time', 'crs_arr_time', 'has_origin__dest_mean',\n",
    "        'crs_dep_time_hours', 'crs_arr_time_hours'\n",
    "    ]\n",
    ")\n",
    "transformer = harness.DataTransformer(x_transform)"
   ]
  },
  {
   "cell_type": "code",
   "execution_count": 5,
   "metadata": {},
   "outputs": [],
   "source": [
    "x_train, y_train = transformer.extract_transform(flights_clean)"
   ]
  },
  {
   "cell_type": "code",
   "execution_count": 6,
   "metadata": {},
   "outputs": [],
   "source": [
    "def train_model():\n",
    "    RFR = ens.RandomForestRegressor(n_estimators=20, n_jobs=-1)\n",
    "    grid_search = ms.GridSearchCV(\n",
    "        RFR, {'max_depth' : [2,3,4], 'max_features' : [2,5,10]},\n",
    "        scoring=transformer.score_transformed\n",
    "    )\n",
    "    grid_search.fit(x_train.values, y_train.values.ravel())\n",
    "    harness.save(grid_search.best_estimator_, 'random_forest_no_early_model')\n",
    "#     RFR.fit(x_train.values, y_train.values.ravel())\n",
    "#     harness.save(RFR, 'last_hurrah_random_forest_model')"
   ]
  },
  {
   "cell_type": "code",
   "execution_count": 7,
   "metadata": {},
   "outputs": [],
   "source": [
    "train_model()"
   ]
  },
  {
   "cell_type": "code",
   "execution_count": 8,
   "metadata": {},
   "outputs": [],
   "source": [
    "rfr = harness.load('last_hurrah_random_forest_model')\n",
    "rfr_model = harness.TrainedModel(rfr, transformer)"
   ]
  },
  {
   "cell_type": "code",
   "execution_count": 9,
   "metadata": {},
   "outputs": [
    {
     "data": {
      "text/plain": [
       "R squared: -0.111\n",
       "R squared (early = 0): -0.116\n",
       "R squared (only delay): -0.206"
      ]
     },
     "execution_count": 9,
     "metadata": {},
     "output_type": "execute_result"
    }
   ],
   "source": [
    "rfr_model.validate(harness.clean_train(flights_test))[3]"
   ]
  },
  {
   "cell_type": "code",
   "execution_count": 10,
   "metadata": {},
   "outputs": [],
   "source": [
    "rfr_model.submit(\n",
    "    '../data/test.csv', 'last_hurrah_random_forest_submission.csv', 'predicted_delay'\n",
    ")"
   ]
  },
  {
   "cell_type": "code",
   "execution_count": null,
   "metadata": {},
   "outputs": [],
   "source": []
  }
 ],
 "metadata": {
  "kernelspec": {
   "display_name": "Python 3",
   "language": "python",
   "name": "python3"
  },
  "language_info": {
   "codemirror_mode": {
    "name": "ipython",
    "version": 3
   },
   "file_extension": ".py",
   "mimetype": "text/x-python",
   "name": "python",
   "nbconvert_exporter": "python",
   "pygments_lexer": "ipython3",
   "version": "3.8.5"
  }
 },
 "nbformat": 4,
 "nbformat_minor": 4
}
