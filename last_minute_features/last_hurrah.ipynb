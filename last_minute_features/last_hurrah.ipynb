{
 "cells": [
  {
   "cell_type": "code",
   "execution_count": 25,
   "metadata": {},
   "outputs": [],
   "source": [
    "import sys\n",
    "sys.path.append('..')\n",
    "\n",
    "import numpy as np\n",
    "import pandas as pd\n",
    "import sklearn.linear_model as lm\n",
    "import sklearn.preprocessing as pre\n",
    "import sklearn.model_selection as ms\n",
    "import matplotlib.pyplot as plt\n",
    "import seaborn as sns\n",
    "\n",
    "import harness"
   ]
  },
  {
   "cell_type": "code",
   "execution_count": 2,
   "metadata": {},
   "outputs": [],
   "source": [
    "flights_train = harness.read_flights('../data/flights_train.csv')\n",
    "flights_test = harness.read_flights('../data/flights_test.csv')"
   ]
  },
  {
   "cell_type": "code",
   "execution_count": 3,
   "metadata": {},
   "outputs": [],
   "source": [
    "flights_clean = harness.clean_train(flights_train)"
   ]
  },
  {
   "cell_type": "code",
   "execution_count": 4,
   "metadata": {},
   "outputs": [],
   "source": [
    "x_transform = harness.chain(\n",
    "    harness.keep_only_test_columns,\n",
    "    [harness.make_weather_dummies, flights_clean],\n",
    "    [harness.transfer_grouped_means, flights_clean, 100, 'origin', 'dest'],\n",
    "    harness.only_numeric,\n",
    "    harness.scale,\n",
    "    harness.powers_of_time,\n",
    "    [\n",
    "        harness.drop,\n",
    "        'crs_dep_time', 'crs_arr_time', 'has_origin__dest_mean',\n",
    "        'crs_dep_time_hours', 'crs_arr_time_hours'\n",
    "    ]\n",
    ")\n",
    "transformer = harness.DataTransformer(x_transform)"
   ]
  },
  {
   "cell_type": "code",
   "execution_count": 11,
   "metadata": {},
   "outputs": [],
   "source": [
    "x_train, y_train = transformer.extract_transform(flights_clean)"
   ]
  },
  {
   "cell_type": "code",
   "execution_count": 13,
   "metadata": {},
   "outputs": [],
   "source": [
    "def train_model():\n",
    "    linreg = lm.Ridge(random_state=42)\n",
    "    grid_search = ms.GridSearchCV(\n",
    "        linreg, dict(alpha=[10 ** i for i in range(-6, 7)]),\n",
    "    )\n",
    "    grid_search.fit(x_train.values, y_train.values)\n",
    "    harness.save(grid_search.best_estimator_, 'last_hurrah_model')"
   ]
  },
  {
   "cell_type": "code",
   "execution_count": 14,
   "metadata": {},
   "outputs": [],
   "source": [
    "train_model()"
   ]
  },
  {
   "cell_type": "code",
   "execution_count": 15,
   "metadata": {},
   "outputs": [],
   "source": [
    "linreg = harness.load('last_hurrah_model')\n",
    "linreg_model = harness.TrainedModel(linreg, transformer)"
   ]
  },
  {
   "cell_type": "code",
   "execution_count": 16,
   "metadata": {},
   "outputs": [
    {
     "data": {
      "text/plain": [
       "{'crs_elapsed_time': -1.5962103423135698,\n",
       " 'distance': 0.745691684519976,\n",
       " 'cold_o': -0.36177932766262794,\n",
       " 'fog_o': -4.461323087210714,\n",
       " 'hail_o': 0.01484797953977093,\n",
       " 'precipitation_o': 1.8012519060702725,\n",
       " 'rain_o': -1.6817137829576216,\n",
       " 'snow_o': 1.0915573051854508,\n",
       " 'storm_o': -0.14914778411726573,\n",
       " 'severity_o': 7.611527896088642,\n",
       " 'cold_d': -0.5438339013617091,\n",
       " 'fog_d': -1.9288765114082442,\n",
       " 'hail_d': 0.09167141129978061,\n",
       " 'precipitation_d': 0.654595077313891,\n",
       " 'rain_d': 0.2776559320422423,\n",
       " 'snow_d': 0.7658317631870106,\n",
       " 'storm_d': 0.4077666649614115,\n",
       " 'severity_d': 3.890845685621152,\n",
       " 'origin__dest_mean': 1.9826872304495207,\n",
       " 'crs_dep_time_hours_1': 10.452321351240391,\n",
       " 'crs_dep_time_hours_2': -3405.0488024175693,\n",
       " 'crs_dep_time_hours_3': -28.74941127531295,\n",
       " 'crs_dep_time_hours_4': 3550.7718284167827,\n",
       " 'crs_dep_time_hours_5': 17.078460616490418,\n",
       " 'crs_dep_time_hours_6': -1219.63087740833,\n",
       " 'crs_arr_time_hours_1': 181.1498717675267,\n",
       " 'crs_arr_time_hours_2': 124.4190863400513,\n",
       " 'crs_arr_time_hours_3': -392.329134595205,\n",
       " 'crs_arr_time_hours_4': -101.63507050402863,\n",
       " 'crs_arr_time_hours_5': 209.0931866341529,\n",
       " 'crs_arr_time_hours_6': 13.681452786152315}"
      ]
     },
     "execution_count": 16,
     "metadata": {},
     "output_type": "execute_result"
    }
   ],
   "source": [
    "{col: coef for col, coef in zip(x_train.columns, linreg.coef_[0])}"
   ]
  },
  {
   "cell_type": "code",
   "execution_count": 17,
   "metadata": {},
   "outputs": [
    {
     "data": {
      "text/plain": [
       "R squared: 0.0257\n",
       "R squared (early = 0): -0.00745\n",
       "R squared (only delay): -0.181"
      ]
     },
     "execution_count": 17,
     "metadata": {},
     "output_type": "execute_result"
    }
   ],
   "source": [
    "linreg_model.validate(harness.clean_train(flights_test))[3]"
   ]
  },
  {
   "cell_type": "code",
   "execution_count": 19,
   "metadata": {},
   "outputs": [],
   "source": [
    "linreg_model.submit(\n",
    "    '../data/test.csv', 'last_hurrah_submission.csv', 'predicted_delay'\n",
    ")"
   ]
  },
  {
   "cell_type": "code",
   "execution_count": 31,
   "metadata": {},
   "outputs": [],
   "source": [
    "coeffs = pd.DataFrame({\n",
    "    'Feature': x_train.columns[:19],\n",
    "    'Importance': np.abs(linreg.coef_[0][:19])\n",
    "})"
   ]
  },
  {
   "cell_type": "code",
   "execution_count": 40,
   "metadata": {},
   "outputs": [],
   "source": [
    "important_features = coeffs.sort_values(by='Importance', ascending=False).head(5)"
   ]
  },
  {
   "cell_type": "code",
   "execution_count": 43,
   "metadata": {},
   "outputs": [
    {
     "data": {
      "image/png": "[encoded data removed]",
      "text/plain": [
       "<Figure size 432x288 with 1 Axes>"
      ]
     },
     "metadata": {
      "needs_background": "light"
     },
     "output_type": "display_data"
    }
   ],
   "source": [
    "ax = sns.barplot(data=important_features, x='Feature', y='Importance')\n",
    "for item in ax.get_xticklabels():\n",
    "    item.set_rotation(45)\n",
    "plt.title('Most Important Features')\n",
    "plt.xticks(\n",
    "    [0, 1, 2, 3, 4],\n",
    "    labels=['Orig Severity', 'Orig Fog', 'Dest Severity', 'Route Average', 'Dest Fog']\n",
    ")\n",
    "plt.ylabel('Absolute Value Model Coefficient')\n",
    "plt.tight_layout()\n",
    "plt.savefig('importance.png', dpi=200)\n",
    "plt.show()"
   ]
  },
  {
   "cell_type": "code",
   "execution_count": null,
   "metadata": {},
   "outputs": [],
   "source": []
  }
 ],
 "metadata": {
  "kernelspec": {
   "display_name": "Python 3",
   "language": "python",
   "name": "python3"
  },
  "language_info": {
   "codemirror_mode": {
    "name": "ipython",
    "version": 3
   },
   "file_extension": ".py",
   "mimetype": "text/x-python",
   "name": "python",
   "nbconvert_exporter": "python",
   "pygments_lexer": "ipython3",
   "version": "3.8.5"
  }
 },
 "nbformat": 4,
 "nbformat_minor": 4
}
